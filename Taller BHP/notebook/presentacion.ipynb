{
 "cells": [
  {
   "cell_type": "markdown",
   "metadata": {
    "slideshow": {
     "slide_type": "slide"
    }
   },
   "source": [
    "## <span style=\"color:rgb(228,83,2)\">Estructuras de datos</span>\n",
    "\n",
    "Las estructuras de datos son sistemas de organización de datos. Estas estructuras son las <span style=\"color:rgb(228,83,2)\">***piezas fundamentales***</span> sobre las cuales se contruyen algoritmos más complejos.\n"
   ]
  },
  {
   "cell_type": "markdown",
   "metadata": {
    "slideshow": {
     "slide_type": "fragment"
    }
   },
   "source": [
    "Ejemplos de estructuras de datos básicas son:\n",
    "\n",
    "- Listas (también llamados <span style=\"color:rgb(228,83,2)\">**arreglos**</span>)\n",
    "- Dicccionarios\n",
    "- Listas enlazadas\n",
    "- Arboles"
   ]
  },
  {
   "cell_type": "markdown",
   "metadata": {
    "slideshow": {
     "slide_type": "fragment"
    }
   },
   "source": [
    "En Python crear una lista es muy simple!"
   ]
  },
  {
   "cell_type": "code",
   "execution_count": 1,
   "metadata": {
    "slideshow": {
     "slide_type": "subslide"
    }
   },
   "outputs": [
    {
     "data": {
      "text/plain": [
       "2"
      ]
     },
     "execution_count": 1,
     "metadata": {},
     "output_type": "execute_result"
    }
   ],
   "source": [
    "i = 3   \n",
    "lista = [4,5,7,2,4] # aquí se asigna la lista\n",
    "lista[i] #  así se accede al tercero elemento de la lista"
   ]
  },
  {
   "cell_type": "markdown",
   "metadata": {
    "slideshow": {
     "slide_type": "fragment"
    }
   },
   "source": [
    "Algunas operaciones básicas que se pueden hacer con listas"
   ]
  },
  {
   "cell_type": "code",
   "execution_count": 2,
   "metadata": {
    "slideshow": {
     "slide_type": "fragment"
    }
   },
   "outputs": [
    {
     "name": "stdout",
     "output_type": "stream",
     "text": [
      "[7, 2, 4]\n",
      "[4, 5, 7]\n",
      "[2, 4]\n"
     ]
    }
   ],
   "source": [
    "# tomar slices\n",
    "print(lista[2:5])\n",
    "print(lista[:3])\n",
    "print(lista[3:])"
   ]
  },
  {
   "cell_type": "code",
   "execution_count": 3,
   "metadata": {
    "slideshow": {
     "slide_type": "fragment"
    }
   },
   "outputs": [
    {
     "data": {
      "text/plain": [
       "[10, 5, 7, 2, 4]"
      ]
     },
     "execution_count": 3,
     "metadata": {},
     "output_type": "execute_result"
    }
   ],
   "source": [
    "# asignar posiciones específicas\n",
    "lista[0] = 10\n",
    "lista"
   ]
  },
  {
   "cell_type": "code",
   "execution_count": 4,
   "metadata": {
    "slideshow": {
     "slide_type": "fragment"
    }
   },
   "outputs": [
    {
     "data": {
      "text/plain": [
       "[10, 5, 7, 2, 4, 10, 5, 7, 2, 4]"
      ]
     },
     "execution_count": 4,
     "metadata": {},
     "output_type": "execute_result"
    }
   ],
   "source": [
    "# sumar listas\n",
    "lista+lista"
   ]
  },
  {
   "cell_type": "code",
   "execution_count": 5,
   "metadata": {
    "slideshow": {
     "slide_type": "fragment"
    }
   },
   "outputs": [
    {
     "data": {
      "text/plain": [
       "[10, 5, 7, 2, 4, 10, 5, 7, 2, 4]"
      ]
     },
     "execution_count": 5,
     "metadata": {},
     "output_type": "execute_result"
    }
   ],
   "source": [
    "# O ponderarlas, i.e. sumar de manera más compacta\n",
    "2*lista"
   ]
  },
  {
   "cell_type": "code",
   "execution_count": 9,
   "metadata": {
    "slideshow": {
     "slide_type": "fragment"
    }
   },
   "outputs": [
    {
     "name": "stdout",
     "output_type": "stream",
     "text": [
      "El máximo tiene un valor de: 100 y tiene indice: 5\n",
      "El mínimo tiene un valor de: 2 y tiene indice: 3\n",
      "[2, 4, 5, 7, 10, 100]\n"
     ]
    }
   ],
   "source": [
    "import numpy as np\n",
    "\n",
    "# encontrar máximo y mínimo, y en que ínidices\n",
    "print('El máximo tiene un valor de: %d y tiene indice: %d' % (max(lista),np.argmax(lista)))\n",
    "print('El mínimo tiene un valor de: %d y tiene indice: %d' % (min(lista),np.argmin(lista)))\n",
    "\n",
    "# ordenar listas\n",
    "lista.sort()\n",
    "print(lista)"
   ]
  },
  {
   "cell_type": "code",
   "execution_count": 10,
   "metadata": {
    "slideshow": {
     "slide_type": "skip"
    }
   },
   "outputs": [
    {
     "data": {
      "text/plain": [
       "5"
      ]
     },
     "execution_count": 10,
     "metadata": {},
     "output_type": "execute_result"
    }
   ],
   "source": [
    "np.argmax(lista)"
   ]
  },
  {
   "cell_type": "code",
   "execution_count": 12,
   "metadata": {
    "slideshow": {
     "slide_type": "fragment"
    }
   },
   "outputs": [],
   "source": [
    "# agregar un elemento con el método append\n",
    "lista.append(100)"
   ]
  },
  {
   "cell_type": "markdown",
   "metadata": {
    "slideshow": {
     "slide_type": "subslide"
    }
   },
   "source": [
    "<span style=\"color:rgb(228,83,2)\">Obs</span>: append es un método que no retorna nada, pero modifica la lista! "
   ]
  },
  {
   "cell_type": "markdown",
   "metadata": {
    "slideshow": {
     "slide_type": "fragment"
    }
   },
   "source": [
    "Si ahora imprimimos lista, va a estar modificada"
   ]
  },
  {
   "cell_type": "code",
   "execution_count": 13,
   "metadata": {
    "slideshow": {
     "slide_type": "fragment"
    }
   },
   "outputs": [
    {
     "data": {
      "text/plain": [
       "[2, 4, 5, 7, 10, 100, 100, 100]"
      ]
     },
     "execution_count": 13,
     "metadata": {},
     "output_type": "execute_result"
    }
   ],
   "source": [
    "lista"
   ]
  },
  {
   "cell_type": "markdown",
   "metadata": {
    "slideshow": {
     "slide_type": "subslide"
    }
   },
   "source": [
    "Los diccionarios son tan simples de crear como las listas:"
   ]
  },
  {
   "cell_type": "code",
   "execution_count": 14,
   "metadata": {
    "slideshow": {
     "slide_type": "fragment"
    }
   },
   "outputs": [
    {
     "data": {
      "text/plain": [
       "0"
      ]
     },
     "execution_count": 14,
     "metadata": {},
     "output_type": "execute_result"
    }
   ],
   "source": [
    "dicc = {'Juan':0, 'Camilo':0, 'Donato':0}\n",
    "dicc['Camilo'] # así se accede al valor del key 'camilo'"
   ]
  },
  {
   "cell_type": "markdown",
   "metadata": {
    "slideshow": {
     "slide_type": "subslide"
    }
   },
   "source": [
    "## <span style=\"color:rgb(228,83,2)\">¿Cuando usar uno u otro tipo de estructura de dato?</span>"
   ]
  },
  {
   "cell_type": "markdown",
   "metadata": {
    "slideshow": {
     "slide_type": "fragment"
    }
   },
   "source": [
    " <span style=\"color:rgb(228,83,2)\">**Respuesta**</span>: Depende de lo que estemos haciendo...  \n",
    " Muchas veces, diferentes estructuras de datos servirán para el mismo propósito. Otras, dependerá de lo que estemos usando en Python. Más adelante se mostrarán ejemplos."
   ]
  },
  {
   "cell_type": "markdown",
   "metadata": {
    "slideshow": {
     "slide_type": "slide"
    }
   },
   "source": [
    "# <span style=\"color:rgb(228,83,2)\">Ciclos for y while</span>\n",
    "\n",
    "<br>\n",
    "\n",
    "Los <span style=\"color:rgb(228,83,2)\">***ciclos***</span> sirven para hacer operaciones en Python de manera <span style=\"color:rgb(228,83,2)\">***iterativa***</span>. Por ejemplo, se puede contruir una lista de manera iterativa:"
   ]
  },
  {
   "cell_type": "code",
   "execution_count": 15,
   "metadata": {
    "slideshow": {
     "slide_type": "fragment"
    }
   },
   "outputs": [
    {
     "data": {
      "text/plain": [
       "[0, 1, 4, 9, 16]"
      ]
     },
     "execution_count": 15,
     "metadata": {},
     "output_type": "execute_result"
    }
   ],
   "source": [
    "lista = list() # otra forma de inicializar una lista vacía\n",
    "for i in range(5):\n",
    "    lista.append(i**2)\n",
    "\n",
    "lista"
   ]
  },
  {
   "cell_type": "markdown",
   "metadata": {
    "slideshow": {
     "slide_type": "fragment"
    }
   },
   "source": [
    "<span style=\"color:rgb(228,83,2)\">**obs**</span>: range(int n) es una secuencia de **n** numeros (0,1,2,...,n-1)."
   ]
  },
  {
   "cell_type": "markdown",
   "metadata": {
    "slideshow": {
     "slide_type": "subslide"
    }
   },
   "source": [
    "<br>\n",
    "\n",
    "En python, uno puede hacer <span style=\"color:rgb(228,83,2)\">**for**</span> sobre varias estructuras de datos:"
   ]
  },
  {
   "cell_type": "code",
   "execution_count": 16,
   "metadata": {
    "slideshow": {
     "slide_type": "fragment"
    }
   },
   "outputs": [
    {
     "name": "stdout",
     "output_type": "stream",
     "text": [
      "El numero es: 0\n",
      "El numero es: 1\n",
      "El numero es: 4\n",
      "El numero es: 9\n",
      "El numero es: 16\n"
     ]
    }
   ],
   "source": [
    "for numero in lista:\n",
    "   print('El numero es: %d' % numero)"
   ]
  },
  {
   "cell_type": "code",
   "execution_count": 17,
   "metadata": {
    "slideshow": {
     "slide_type": "fragment"
    }
   },
   "outputs": [
    {
     "name": "stdout",
     "output_type": "stream",
     "text": [
      "key:Juan, value: 0\n",
      "key:Camilo, value: 0\n",
      "key:Donato, value: 0\n"
     ]
    }
   ],
   "source": [
    "for key, value in dicc.items():\n",
    "    print('key:%s, value: %d' % (key, value))"
   ]
  },
  {
   "cell_type": "markdown",
   "metadata": {
    "slideshow": {
     "slide_type": "fragment"
    }
   },
   "source": [
    "<span style=\"color:rgb(228,83,2)\">**obs**</span>: Notar que es necesario usar el método <span style=\"color:rgb(228,83,2)\">**.items()**</span> para iterar sobre los key's y value's del diccionario."
   ]
  },
  {
   "cell_type": "markdown",
   "metadata": {
    "slideshow": {
     "slide_type": "slide"
    }
   },
   "source": [
    "# <span style=\"color:rgb(228,83,2)\">Un paquete fundamental: NumPy</span> \n",
    "\n",
    "NumPy es un paquete fundamental para computación científica en Python. "
   ]
  },
  {
   "cell_type": "markdown",
   "metadata": {
    "slideshow": {
     "slide_type": "fragment"
    }
   },
   "source": [
    "El <span style=\"color:rgb(228,83,2)\">***objeto***</span> principal de esta librería es un <span style=\"color:rgb(228,83,2)\">***arreglo multidimensional***</span> (*ndarray object*), y su principal ventaja es que une lo mejor de dos mundos: La <span style=\"color:rgb(228,83,2)\">***simplicidad***</span> de Python con la <span style=\"color:rgb(228,83,2)\">***eficiencia***</span> de C."
   ]
  },
  {
   "cell_type": "markdown",
   "metadata": {
    "slideshow": {
     "slide_type": "subslide"
    }
   },
   "source": [
    "Uno puede crear un ndarray mediante los comandos <span style=\"color:rgb(228,83,2)\">*array*</span>, <span style=\"color:rgb(228,83,2)\">*zeros*</span>,  o <span style=\"color:rgb(228,83,2)\">*ones*</span>."
   ]
  },
  {
   "cell_type": "code",
   "execution_count": 18,
   "metadata": {
    "scrolled": false,
    "slideshow": {
     "slide_type": "fragment"
    }
   },
   "outputs": [
    {
     "data": {
      "text/plain": [
       "array([[ 0,  1,  4,  9, 16]])"
      ]
     },
     "execution_count": 18,
     "metadata": {},
     "output_type": "execute_result"
    }
   ],
   "source": [
    "import numpy as np # asi se puede llamar a un paquete en Python,\n",
    "                   # el cual se llamará por np\n",
    "array = np.array([lista])\n",
    "array"
   ]
  },
  {
   "cell_type": "code",
   "execution_count": 19,
   "metadata": {
    "slideshow": {
     "slide_type": "fragment"
    }
   },
   "outputs": [
    {
     "data": {
      "text/plain": [
       "array([[0., 0.],\n",
       "       [0., 0.]])"
      ]
     },
     "execution_count": 19,
     "metadata": {},
     "output_type": "execute_result"
    }
   ],
   "source": [
    "array_zeros = np.zeros((2,2))\n",
    "array_zeros"
   ]
  },
  {
   "cell_type": "code",
   "execution_count": 20,
   "metadata": {
    "slideshow": {
     "slide_type": "fragment"
    }
   },
   "outputs": [
    {
     "data": {
      "text/plain": [
       "array([[1.],\n",
       "       [1.],\n",
       "       [1.],\n",
       "       [1.]])"
      ]
     },
     "execution_count": 20,
     "metadata": {},
     "output_type": "execute_result"
    }
   ],
   "source": [
    "array_ones = np.ones((4,1))\n",
    "array_ones"
   ]
  },
  {
   "cell_type": "code",
   "execution_count": 21,
   "metadata": {
    "slideshow": {
     "slide_type": "fragment"
    }
   },
   "outputs": [
    {
     "data": {
      "text/plain": [
       "(1, 5)"
      ]
     },
     "execution_count": 21,
     "metadata": {},
     "output_type": "execute_result"
    }
   ],
   "source": [
    "# el metodo shape sirve para obtener las dimensiones del areglo\n",
    "array.shape"
   ]
  },
  {
   "cell_type": "code",
   "execution_count": 22,
   "metadata": {
    "slideshow": {
     "slide_type": "skip"
    }
   },
   "outputs": [
    {
     "data": {
      "text/plain": [
       "[array([], dtype=float64),\n",
       " array([1.]),\n",
       " array([1., 1.]),\n",
       " array([1., 1., 1.]),\n",
       " array([1., 1., 1., 1.])]"
      ]
     },
     "execution_count": 22,
     "metadata": {},
     "output_type": "execute_result"
    }
   ],
   "source": [
    "lista_arreglos = []\n",
    "for i in range(5):\n",
    "    lista_arreglos.append(np.ones(i))\n",
    "lista_arreglos"
   ]
  },
  {
   "cell_type": "markdown",
   "metadata": {
    "slideshow": {
     "slide_type": "fragment"
    }
   },
   "source": [
    "<span style=\"color:rgb(228,83,2)\">Obs</span>: Un array en NumPy <span style=\"color:**red**\">no</span> tiene porqué respetar una estructura matricial, por lo que hay que tener cuidado!"
   ]
  },
  {
   "cell_type": "markdown",
   "metadata": {
    "slideshow": {
     "slide_type": "subslide"
    }
   },
   "source": [
    "# <span style=\"color:rgb(228,83,2)\">Utilidades básicas de NumPy</span>"
   ]
  },
  {
   "cell_type": "markdown",
   "metadata": {
    "slideshow": {
     "slide_type": "fragment"
    }
   },
   "source": [
    "Operaciones elementales entre matrices ya están implementadas."
   ]
  },
  {
   "cell_type": "code",
   "execution_count": 23,
   "metadata": {
    "slideshow": {
     "slide_type": "fragment"
    }
   },
   "outputs": [
    {
     "data": {
      "text/plain": [
       "array([[1.],\n",
       "       [2.],\n",
       "       [3.],\n",
       "       [4.],\n",
       "       [5.],\n",
       "       [6.]])"
      ]
     },
     "execution_count": 23,
     "metadata": {},
     "output_type": "execute_result"
    }
   ],
   "source": [
    "diag = [1,2,3,4,5,6]\n",
    "D = np.diag(diag)\n",
    "v = np.ones((6,1)) \n",
    "np.matmul(D,v)"
   ]
  },
  {
   "cell_type": "markdown",
   "metadata": {
    "slideshow": {
     "slide_type": "fragment"
    }
   },
   "source": [
    "A veces, una misma operación se puede ejecutar con otra <span style=\"color:rgb(228,83,2)\">**sintaxis**</span>."
   ]
  },
  {
   "cell_type": "code",
   "execution_count": 24,
   "metadata": {
    "slideshow": {
     "slide_type": "fragment"
    }
   },
   "outputs": [
    {
     "data": {
      "text/plain": [
       "array([[1.],\n",
       "       [2.],\n",
       "       [3.],\n",
       "       [4.],\n",
       "       [5.],\n",
       "       [6.]])"
      ]
     },
     "execution_count": 24,
     "metadata": {},
     "output_type": "execute_result"
    }
   ],
   "source": [
    "D@v"
   ]
  },
  {
   "cell_type": "markdown",
   "metadata": {
    "slideshow": {
     "slide_type": "fragment"
    }
   },
   "source": [
    "NumPy tiene implementadas varias <span style=\"color:rgb(228,83,2)\">**funciones**</span> para poder aplicar directamente, como <span style=\"color:rgb(228,83,2)\">**sin($\\cdot$)**</span> y <span style=\"color:rgb(228,83,2)\">**cos($\\cdot$)**</span>"
   ]
  },
  {
   "cell_type": "code",
   "execution_count": 25,
   "metadata": {
    "slideshow": {
     "slide_type": "fragment"
    }
   },
   "outputs": [
    {
     "name": "stdout",
     "output_type": "stream",
     "text": [
      "[1. 1. 1. 1. 1. 1. 1. 1. 1. 1. 1. 1. 1. 1. 1. 1. 1. 1. 1. 1.]\n"
     ]
    }
   ],
   "source": [
    "x_axis = np.arange(-1,1,0.1) # crea un arreglo partiendo de 10, parando en 10, con un paso de 0.1 \n",
    "sin_x = np.sin(x_axis) # np.sin se aplica a cada elemento del arreglo\n",
    "cos_x = np.cos(x_axis) # idem\n",
    "suma = cos_x**2+sin_x**2 # la array**n calcula la potencia n-ésima de cada entrada\n",
    "print(suma)"
   ]
  },
  {
   "cell_type": "markdown",
   "metadata": {
    "slideshow": {
     "slide_type": "fragment"
    }
   },
   "source": [
    "<span style=\"color:rgb(228,83,2)\">**obs**</span>: Recordar que en Python (como en cualquier computador) los cálculos tienen un límite de precisión!"
   ]
  },
  {
   "cell_type": "markdown",
   "metadata": {
    "slideshow": {
     "slide_type": "fragment"
    }
   },
   "source": [
    "Para ver esto, veamos qué ocurre si le preguntamos a Python por los valores del arreglo *suma* mediante operaciones <span style=\"color:rgb(228,83,2)\">**lógicas**</span> (i.e. booleanas)."
   ]
  },
  {
   "cell_type": "code",
   "execution_count": 26,
   "metadata": {
    "slideshow": {
     "slide_type": "fragment"
    }
   },
   "outputs": [
    {
     "data": {
      "text/plain": [
       "True"
      ]
     },
     "execution_count": 26,
     "metadata": {},
     "output_type": "execute_result"
    }
   ],
   "source": [
    "tol = 1e-2 # tolerancia para determinar si dos numeros estan cerca\n",
    "dif = suma-1\n",
    "suma_bool = np.abs(dif)<=tol\n",
    "np.all(suma_bool)"
   ]
  },
  {
   "cell_type": "markdown",
   "metadata": {
    "slideshow": {
     "slide_type": "fragment"
    }
   },
   "source": [
    "<span style=\"color:rgb(228,83,2)\">**obs**</span>: En realidad, lo que python imprime en pantalla es una <span style=\"color:rgb(228,83,2)\">**aproximación**</span> decimal de la representación binaria del número en cuestión."
   ]
  },
  {
   "cell_type": "markdown",
   "metadata": {
    "slideshow": {
     "slide_type": "subslide"
    }
   },
   "source": [
    "Podemos ver cual es el valor más chico aproximadamente en el arreglo *dif*"
   ]
  },
  {
   "cell_type": "code",
   "execution_count": 27,
   "metadata": {
    "slideshow": {
     "slide_type": "fragment"
    }
   },
   "outputs": [
    {
     "data": {
      "text/plain": [
       "-1.1102230246251565e-16"
      ]
     },
     "execution_count": 27,
     "metadata": {},
     "output_type": "execute_result"
    }
   ],
   "source": [
    "np.min(dif)"
   ]
  },
  {
   "cell_type": "markdown",
   "metadata": {
    "slideshow": {
     "slide_type": "fragment"
    }
   },
   "source": [
    "Y también podemos ver <span style=\"color:rgb(228,83,2)\">**dónde**</span> en el arreglo *dif* se encuentra este valor"
   ]
  },
  {
   "cell_type": "code",
   "execution_count": 28,
   "metadata": {
    "slideshow": {
     "slide_type": "fragment"
    }
   },
   "outputs": [
    {
     "name": "stdout",
     "output_type": "stream",
     "text": [
      "El valor más pequeño de dif se encuentra en el indice: 6\n",
      "El valor de la suma en esa posición fue: 0.9999999999999999\n"
     ]
    }
   ],
   "source": [
    "print('El valor más pequeño de dif se encuentra en el indice: %d' % np.argmin(dif))\n",
    "print('El valor de la suma en esa posición fue: %.16f' % suma[np.argmin(dif)])"
   ]
  },
  {
   "cell_type": "markdown",
   "metadata": {
    "slideshow": {
     "slide_type": "subslide"
    }
   },
   "source": [
    "Otro ejemplo de lo que se puede hacer con NumPy"
   ]
  },
  {
   "cell_type": "code",
   "execution_count": 29,
   "metadata": {
    "slideshow": {
     "slide_type": "fragment"
    }
   },
   "outputs": [
    {
     "data": {
      "text/plain": [
       "<Figure size 640x480 with 1 Axes>"
      ]
     },
     "metadata": {},
     "output_type": "display_data"
    }
   ],
   "source": [
    "import matplotlib.pyplot as plt\n",
    "def densidad(x,mu, sig):\n",
    "    return (1/np.sqrt(2*np.pi*sig**2))*np.exp(-(0.5*(x-mu)**2)/sig**2)\n",
    "\n",
    "x_axis = np.arange(-10,10,0.01)\n",
    "mu = np.zeros(x_axis.shape)\n",
    "sigma = 1\n",
    "plt.plot(x_axis,densidad(x_axis, mu,sigma))\n",
    "plt.title('N(0,%.0f)' % (sigma))\n",
    "plt.show()"
   ]
  },
  {
   "cell_type": "markdown",
   "metadata": {
    "slideshow": {
     "slide_type": "fragment"
    }
   },
   "source": [
    "<span style=\"color:rgb(228,83,2)\">**Obs**</span>: Definir funciones en Python es muy útil y simple! Así se evita escribir el mismo código varias veces. "
   ]
  },
  {
   "cell_type": "markdown",
   "metadata": {
    "slideshow": {
     "slide_type": "subslide"
    }
   },
   "source": [
    "NumPy también permite <span style=\"color:rgb(228,83,2)\">**generar muestras**</span> *'aleatorias'* de distribuciones clásicas. "
   ]
  },
  {
   "cell_type": "markdown",
   "metadata": {
    "slideshow": {
     "slide_type": "fragment"
    }
   },
   "source": [
    "Por ejemplo se pueden generar muestras de una normal como la que definimos antes"
   ]
  },
  {
   "cell_type": "code",
   "execution_count": 65,
   "metadata": {
    "slideshow": {
     "slide_type": "skip"
    }
   },
   "outputs": [],
   "source": [
    "%matplotlib inline\n",
    "#%matplotlib notebook\n",
    "import time\n",
    "#import pylab as pl\n",
    "import matplotlib.pyplot as plt\n",
    "from matplotlib import rc\n",
    "from IPython import display\n",
    "\n",
    "plt.rc('text', usetex=True)\n",
    "plt.rc('font', family='serif')\n",
    "\n",
    "def graficar(i):\n",
    "    fig, ax = plt.subplots(figsize=(5.5,4), dpi = 120)\n",
    "    ax.hist(muestras[:i],bins=20,density=True,\n",
    "            color='orange',label='empirico N = %d' % (i))\n",
    "    ax.plot(x_axis,densidad(x_axis, mu,sigma),\n",
    "            label=r'$f(x) = \\displaystyle \\frac{1}{\\sqrt{2\\pi}}e^{- \\frac{1}{2}x^2}$')\n",
    "    ax.set_ylim([0,.5])\n",
    "    ax.legend()\n",
    "    ax.set_title(r'\\TeX ')"
   ]
  },
  {
   "cell_type": "code",
   "execution_count": 64,
   "metadata": {
    "slideshow": {
     "slide_type": "skip"
    }
   },
   "outputs": [
    {
     "data": {
      "image/png": "[encoded data removed]",
      "text/plain": [
       "<Figure size 660x480 with 1 Axes>"
      ]
     },
     "metadata": {
      "needs_background": "light"
     },
     "output_type": "display_data"
    }
   ],
   "source": [
    "np.random.seed(123)\n",
    "muestras = np.random.normal(mu,sigma)\n",
    "for i in range(10,201,10):\n",
    "    fig, ax = plt.subplots(figsize=(5.5,4), dpi = 120)\n",
    "    ax.hist(muestras[:i],bins=20,density=True,\n",
    "            color='orange',label='empirico N = %d' % (i))\n",
    "    ax.plot(x_axis,densidad(x_axis, mu,sigma),\n",
    "            label=r'$f(x) = \\displaystyle \\frac{1}{\\sqrt{2\\pi}}e^{- \\frac{1}{2}x^2}$')\n",
    "    ax.set_ylim([0,.5])\n",
    "    ax.legend()\n",
    "    ax.set_title(r'\\TeX ')\n",
    "    display.clear_output(wait=True)\n",
    "    plt.show()\n",
    "    time.sleep(0.01)"
   ]
  },
  {
   "cell_type": "code",
   "execution_count": 70,
   "metadata": {
    "slideshow": {
     "slide_type": "subslide"
    }
   },
   "outputs": [
    {
     "data": {
      "image/png": "[encoded data removed]",
      "text/plain": [
       "<Figure size 660x480 with 1 Axes>"
      ]
     },
     "metadata": {
      "needs_background": "light"
     },
     "output_type": "display_data"
    }
   ],
   "source": [
    "np.random.seed(123) # fijar la secuencia de n°s aleatorios\n",
    "muestras = np.random.normal(mu,sigma)\n",
    "for i in range(10,201,10):\n",
    "    graficar(i)\n",
    "    display.clear_output(wait=True)\n",
    "    plt.show()\n",
    "    time.sleep(0.01)"
   ]
  },
  {
   "cell_type": "code",
   "execution_count": null,
   "metadata": {
    "slideshow": {
     "slide_type": "skip"
    }
   },
   "outputs": [],
   "source": [
    "np.info(np.random.normal)"
   ]
  },
  {
   "cell_type": "code",
   "execution_count": null,
   "metadata": {
    "slideshow": {
     "slide_type": "skip"
    }
   },
   "outputs": [],
   "source": [
    "import matplotlib.pyplot as plt\n",
    "import matplotlib.animation\n",
    "import numpy as np\n",
    "%matplotlib notebook\n",
    "\n",
    "x_axis = np.arange(-10,10,0.1)\n",
    "den_teo = densidad(x_axis, mu,sigma)\n",
    "\n",
    "\n",
    "fig, ax1 = plt.subplots(nrows=1)\n",
    "line1, = ax1.plot(x_axis,den_teo)\n",
    "line2 = ax1.hist(np.random.normal(mu[:10],sigma),density=True)\n",
    "np.random.seed(123)\n",
    "def update(i):\n",
    "    y = np.random.normal(mu[:i],sigma)\n",
    "    line2.set_data(x_axis,y)\n",
    "    plt.pause(1)\n",
    "\n",
    "ani = matplotlib.animation.FuncAnimation(fig, update, frames=range(20,101,10), repeat=True)  \n",
    "plt.show()"
   ]
  },
  {
   "cell_type": "code",
   "execution_count": null,
   "metadata": {
    "slideshow": {
     "slide_type": "skip"
    }
   },
   "outputs": [],
   "source": [
    "# prueba para ver como actualizar plot\n",
    "i = 20\n",
    "x_axis = np.arange(-10,10,0.1)\n",
    "np.random.seed(123)\n",
    "fig, ax1 = plt.subplots(nrows=1)\n",
    "line2,= ax1.plot(x_axis,np.random.normal(mu,sigma))\n",
    "y = np.random.normal(mu[:i],sigma)\n",
    "line2.set_data(x_axis[:i],y)\n",
    "plt.show()"
   ]
  },
  {
   "cell_type": "code",
   "execution_count": null,
   "metadata": {
    "slideshow": {
     "slide_type": "skip"
    }
   },
   "outputs": [],
   "source": [
    "i = 20\n",
    "x_axis = np.arange(-10,10,0.1)\n",
    "np.random.seed(123)\n",
    "fig, ax1 = plt.subplots(nrows=1)\n",
    "line2,= ax1.plot(x_axis,np.random.normal(mu,sigma))\n",
    "y = np.random.normal(mu[:i],sigma)\n",
    "line2.set_data(x_axis[:i],y)\n",
    "plt.show()"
   ]
  },
  {
   "cell_type": "code",
   "execution_count": null,
   "metadata": {
    "slideshow": {
     "slide_type": "skip"
    }
   },
   "outputs": [],
   "source": [
    "import matplotlib.pyplot as plt\n",
    "import matplotlib.animation\n",
    "import numpy as np\n",
    "%matplotlib notebook\n",
    "x = np.linspace(0,24*np.pi,512)\n",
    "y = np.sin(x)\n",
    "\n",
    "def fft(x):\n",
    "    fft = np.abs(np.fft.rfft(x))\n",
    "    return fft**2/(fft**2).max()\n",
    "\n",
    "fig, (ax1,ax2) = plt.subplots(nrows=2)\n",
    "line1, = ax1.plot(x,y)\n",
    "line2, = ax2.plot(fft(y))\n",
    "ax2.set_xlim(0,50)\n",
    "ax2.set_ylim(0,1)\n",
    "\n",
    "def update(i):\n",
    "    y = np.sin((i+1)/30.*x)\n",
    "    line1.set_data(x,y)\n",
    "    y2 = fft(y)\n",
    "    line2.set_data(range(len(y2)), y2)\n",
    "\n",
    "ani = matplotlib.animation.FuncAnimation(fig, update, frames=60, repeat=True)  \n",
    "plt.show()"
   ]
  },
  {
   "cell_type": "code",
   "execution_count": null,
   "metadata": {
    "slideshow": {
     "slide_type": "skip"
    }
   },
   "outputs": [],
   "source": [
    "import numpy as np\n",
    "import matplotlib.pyplot as plt\n",
    "\n",
    "plt.axis([0,50,60,80])\n",
    "for i in np.arange(1,5):\n",
    "    z = 68 + 4 * np.random.randn(50)\n",
    "    zm = np.cumsum(z) / range(1,len(z)+1)\n",
    "    plt.plot(zm)    \n",
    "    plt.pause(1)\n",
    "\n",
    "n = np.arange(1,51)\n",
    "su = 68 + 4 / np.sqrt(n)\n",
    "sl = 68 - 4 / np.sqrt(n)\n",
    "\n",
    "plt.plot(n,su,n,sl)\n",
    "\n",
    "plt.show()"
   ]
  },
  {
   "cell_type": "code",
   "execution_count": null,
   "metadata": {
    "slideshow": {
     "slide_type": "skip"
    }
   },
   "outputs": [],
   "source": [
    "import pylab\n",
    "import time\n",
    "import random\n",
    "import matplotlib.pyplot as plt\n",
    "\n",
    "dat=[0,1]\n",
    "fig = plt.figure()\n",
    "ax = fig.add_subplot(111)\n",
    "Ln, = ax.plot(dat)\n",
    "ax.set_xlim([0,20])\n",
    "plt.ion()\n",
    "plt.show()    \n",
    "for i in range (18):\n",
    "    dat.append(random.uniform(0,1))\n",
    "    Ln.set_ydata(dat)\n",
    "    Ln.set_xdata(range(len(dat)))\n",
    "    plt.pause(1)\n",
    "\n",
    "print('done with loop')"
   ]
  },
  {
   "cell_type": "markdown",
   "metadata": {
    "slideshow": {
     "slide_type": "slide"
    }
   },
   "source": [
    "# <span style=\"color:rgb(228,83,2)\">Otro paquete fundamental: matplotlib.</span>"
   ]
  },
  {
   "cell_type": "markdown",
   "metadata": {
    "slideshow": {
     "slide_type": "fragment"
    }
   },
   "source": [
    "matplotlib es un paquete de Python especialmente hecho para gráficos 2D (y hay algunas utilidades para gráficos 3D)."
   ]
  },
  {
   "cell_type": "code",
   "execution_count": 75,
   "metadata": {
    "slideshow": {
     "slide_type": "fragment"
    }
   },
   "outputs": [
    {
     "data": {
      "image/png": "[encoded data removed]",
      "text/plain": [
       "<Figure size 432x288 with 1 Axes>"
      ]
     },
     "metadata": {
      "needs_background": "light"
     },
     "output_type": "display_data"
    }
   ],
   "source": [
    "x = np.linspace(0, 2 * np.pi, 400)\n",
    "y = np.sin(x ** 2)\n",
    "plt.plot(x, y)\n",
    "plt.title('Un gráfico simple')\n",
    "plt.xlabel('x label')\n",
    "plt.ylabel('y label')\n",
    "plt.show()"
   ]
  },
  {
   "cell_type": "markdown",
   "metadata": {
    "slideshow": {
     "slide_type": "subslide"
    }
   },
   "source": [
    "Ahora, ¿cómo hacer varios plots de una?"
   ]
  },
  {
   "cell_type": "code",
   "execution_count": 77,
   "metadata": {
    "slideshow": {
     "slide_type": "fragment"
    }
   },
   "outputs": [
    {
     "data": {
      "image/png": "[encoded data removed]",
      "text/plain": [
       "<Figure size 432x288 with 2 Axes>"
      ]
     },
     "metadata": {
      "needs_background": "light"
     },
     "output_type": "display_data"
    }
   ],
   "source": [
    "fig,axes = plt.subplots(2,sharex=True)\n",
    "fig.suptitle('Graficar compartiendo el mismo eje x.')\n",
    "axes[0].plot(x, y)\n",
    "axes[1].scatter(x, y)\n",
    "plt.show()"
   ]
  },
  {
   "cell_type": "markdown",
   "metadata": {
    "slideshow": {
     "slide_type": "fragment"
    }
   },
   "source": [
    "<span style=\"color:rgb(228,83,2)\">**Obs**</span>: Para hacer subplots se usa el método <span style=\"color:rgb(228,83,2)\"> **subplots** </span>. Este retorna:\n",
    "- fig: un objeto tipo <span style=\"color:rgb(228,83,2)\"> **figure**</span>.\n",
    "- axes: Un objeto (o un arreglo de objetos) tipo <span style=\"color:rgb(228,83,2)\">**Axes**</span>. Es en los objetos Axes que se ejecuta el método plot."
   ]
  },
  {
   "cell_type": "markdown",
   "metadata": {
    "slideshow": {
     "slide_type": "subslide"
    }
   },
   "source": [
    "Igual que en Matlab, en matplotlib se pueden modificar los gráficos en cosas muy específicas."
   ]
  },
  {
   "cell_type": "code",
   "execution_count": 80,
   "metadata": {
    "slideshow": {
     "slide_type": "fragment"
    }
   },
   "outputs": [
    {
     "data": {
      "image/png": "[encoded data removed]",
      "text/plain": [
       "<Figure size 720x360 with 1 Axes>"
      ]
     },
     "metadata": {
      "needs_background": "light"
     },
     "output_type": "display_data"
    }
   ],
   "source": [
    "mu = 200\n",
    "sigma = 25\n",
    "n_bins = 50\n",
    "x = np.random.normal(mu, sigma, size=100)\n",
    "\n",
    "fig, ax = plt.subplots(figsize=(10, 5))\n",
    "\n",
    "# graficar el histograma acumulado\n",
    "n, bins, patches = ax.hist(x, n_bins, density=True, histtype='step',\n",
    "                           cumulative=True, label='Experimental')\n",
    "\n",
    "# graficar el histograma acumulado teórico\n",
    "y = ((1 / (np.sqrt(2 * np.pi) * sigma)) *\n",
    "     np.exp(-0.5 * (1 / sigma * (bins - mu))**2))\n",
    "y = y.cumsum()\n",
    "y /= y[-1]\n",
    "\n",
    "ax.plot(bins, y, 'k--', linewidth=1.5, label='Teórico')\n",
    "\n",
    "# superponer el histograma acumulado invertido\n",
    "ax.hist(x, bins=bins, density=True, histtype='step', cumulative=-1,\n",
    "        label='Experimental invertido')\n",
    "\n",
    "# tidy up the figure\n",
    "ax.grid(True)\n",
    "ax.legend(loc='right')\n",
    "ax.set_title('Histograma acumulado')\n",
    "ax.set_xlabel('Annual rainfall (mm)')\n",
    "ax.set_ylabel('Probabilidad de ocurrencia')\n",
    "\n",
    "plt.show()"
   ]
  },
  {
   "cell_type": "markdown",
   "metadata": {
    "slideshow": {
     "slide_type": "subslide"
    }
   },
   "source": [
    "matplotlib tine un montón de funcionalidades, para ver muchos ejemplos: [ejmplos matplotlib](https://matplotlib.org/gallery/index.html).  "
   ]
  },
  {
   "cell_type": "markdown",
   "metadata": {
    "slideshow": {
     "slide_type": "fragment"
    }
   },
   "source": [
    "Por último, tambié se pueden realizar gráficos 3D!"
   ]
  },
  {
   "cell_type": "code",
   "execution_count": 82,
   "metadata": {
    "slideshow": {
     "slide_type": "skip"
    }
   },
   "outputs": [],
   "source": [
    "import numpy as np\n",
    "alpha = 0.7\n",
    "phi_ext = 2 *np.pi * 0.5\n",
    "\n",
    "def flux_qubit_potential(phi_m, phi_p):\n",
    "    return 2 + alpha - 2 * np.cos(phi_p)*np.cos(phi_m) - alpha * np.cos(phi_ext - 2*phi_p)\n",
    "\n",
    "phi_m = np.linspace(0, 2*np.pi, 100)\n",
    "phi_p = np.linspace(0, 2*np.pi, 100)\n",
    "X,Y = np.meshgrid(phi_p, phi_m)\n",
    "Z = flux_qubit_potential(X, Y).T"
   ]
  },
  {
   "cell_type": "code",
   "execution_count": 81,
   "metadata": {
    "slideshow": {
     "slide_type": "fragment"
    }
   },
   "outputs": [
    {
     "data": {
      "image/png": "[encoded data removed]",
      "text/plain": [
       "<Figure size 576x432 with 1 Axes>"
      ]
     },
     "metadata": {
      "needs_background": "light"
     },
     "output_type": "display_data"
    }
   ],
   "source": [
    "import matplotlib.pyplot as plt\n",
    "import matplotlib.cm as cm\n",
    "from mpl_toolkits.mplot3d.axes3d import Axes3D\n",
    "fig = plt.figure(figsize=(8,6))\n",
    "\n",
    "ax = fig.add_subplot(1,1,1, projection='3d')\n",
    "\n",
    "ax.plot_surface(X, Y, Z, rstride=4, cstride=4, alpha=0.25)\n",
    "cset = ax.contour(X, Y, Z, zdir='z', offset=-np.pi, cmap=cm.coolwarm)\n",
    "cset = ax.contour(X, Y, Z, zdir='x', offset=-np.pi, cmap=cm.coolwarm)\n",
    "cset = ax.contour(X, Y, Z, zdir='y', offset=3*np.pi, cmap=cm.coolwarm)\n",
    "\n",
    "ax.set_xlim3d(-np.pi, 2*np.pi);\n",
    "ax.set_ylim3d(0, 3*np.pi);\n",
    "ax.set_zlim3d(-np.pi, 2*np.pi);"
   ]
  },
  {
   "cell_type": "code",
   "execution_count": null,
   "metadata": {
    "slideshow": {
     "slide_type": "skip"
    }
   },
   "outputs": [],
   "source": [
    "from IPython.core.display import display, HTML\n",
    "display(HTML(\"<style>.rendered_html { font-size:10px; }</style>\"))"
   ]
  }
 ],
 "metadata": {
  "celltoolbar": "Slideshow",
  "kernelspec": {
   "display_name": "Python 3",
   "language": "python",
   "name": "python3"
  },
  "language_info": {
   "codemirror_mode": {
    "name": "ipython",
    "version": 3
   },
   "file_extension": ".py",
   "mimetype": "text/x-python",
   "name": "python",
   "nbconvert_exporter": "python",
   "pygments_lexer": "ipython3",
   "version": "3.7.0"
  },
  "livereveal": {
   "overflow-y": "hidden",
   "theme": "simple"
  }
 },
 "nbformat": 4,
 "nbformat_minor": 2
}
