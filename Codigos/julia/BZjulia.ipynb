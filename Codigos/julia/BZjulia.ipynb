{
 "cells": [
  {
   "cell_type": "code",
   "execution_count": 1,
   "metadata": {},
   "outputs": [],
   "source": [
    "using JuMP, Gurobi\n",
    "using SparseArrays\n",
    "using UnicodePlots"
   ]
  },
  {
   "cell_type": "code",
   "execution_count": 2,
   "metadata": {},
   "outputs": [
    {
     "name": "stdout",
     "output_type": "stream",
     "text": [
      "Data base name: Newman1\n",
      "NBLOCKS: 1060\n",
      "NPERIODS: 6\n",
      "NDESTINATIONS: 2\n",
      "NRESOURCE_SIDE_CONSTRAINTS: 2\n",
      "NGENERAL_SIDE_CONSTRAINTS: 0\n",
      "DISCOUNT_RATE: 0.08\n"
     ]
    }
   ],
   "source": [
    "objective_function_pcpsp = Dict()\n",
    "resource_constraint_ub_limits = Dict()\n",
    "resource_constraint_lb_limits = Dict()\n",
    "rc_coefficients = Dict()\n",
    "open(\"../minelib_inputs/newman1.pcpsp\") do file\n",
    "    for ln in eachline(file)\n",
    "        linea_array = split(ln)\n",
    "        info = linea_array[1]\n",
    "        if info == \"NAME:\"\n",
    "            global nombre\n",
    "            nombre = linea_array[2]\n",
    "        elseif info == \"NBLOCKS:\"\n",
    "            global n\n",
    "            n = tryparse(Int64,linea_array[2])\n",
    "        elseif info == \"NPERIODS:\"\n",
    "            global T\n",
    "            T = tryparse(Int64,linea_array[2])\n",
    "        elseif info == \"NDESTINATIONS:\"\n",
    "            global R\n",
    "            R = tryparse(Int64,linea_array[2])\n",
    "        elseif info == \"NRESOURCE_SIDE_CONSTRAINTS:\"\n",
    "            global nresource_side_constraints\n",
    "            nresource_side_constraints = tryparse(Int64,linea_array[2])\n",
    "        elseif info == \"NGENERAL_SIDE_CONSTRAINTS:\"\n",
    "            global ngeneral_side_constraints\n",
    "            ngeneral_side_constraints = tryparse(Int64,linea_array[2])\n",
    "        elseif info == \"DISCOUNT_RATE:\"\n",
    "            global discount_rate\n",
    "            discount_rate = tryparse(Float64,linea_array[2])\n",
    "        elseif info == \"RESOURCE_CONSTRAINT_LIMITS:\"\n",
    "            for r in 0:nresource_side_constraints-1 \n",
    "                for t in 0:T-1 # reemplazar nresource side constraints \n",
    "                    linea = readline(file)\n",
    "                    array = split(linea)\n",
    "                    if array[3] == \"L\"\n",
    "                        resource_constraint_ub_limits[r,t] = tryparse(Float64,array[end])\n",
    "                        resource_constraint_lb_limits[r,t] = \"-Infinity\"\n",
    "                    else\n",
    "                        println(\"Este problema tiene cota inferiores.\")\n",
    "                        break\n",
    "                    end\n",
    "                end\n",
    "            end\n",
    "        elseif info == \"OBJECTIVE_FUNCTION:\"\n",
    "            for b=0:n-1\n",
    "                linea = readline(file)\n",
    "                array = split(linea)\n",
    "                for d=0:R-1\n",
    "                    objective_function_pcpsp[b,d] = tryparse(Float64,array[d+1])\n",
    "                end\n",
    "            end\n",
    "        elseif info == \"RESOURCE_CONSTRAINT_COEFFICIENTS:\"\n",
    "            num_asig = 0\n",
    "            for linea in  eachline(file)\n",
    "                if linea == \"EOF\"\n",
    "                    break\n",
    "                end\n",
    "                num_asig += 1\n",
    "                array = split(linea)\n",
    "                b = tryparse(Int64,array[1])\n",
    "                d = tryparse(Int64,array[2])\n",
    "                r = tryparse(Int64,array[3])\n",
    "                rc_coefficients[b,r,d] = tryparse(Float64,array[4])\n",
    "            end\n",
    "        end\n",
    "    end\n",
    "end\n",
    "asig = 0\n",
    "iter = 0\n",
    "for b=0:n-1\n",
    "    for r=0:nresource_side_constraints-1\n",
    "        for d=0:R-1\n",
    "            iter += 1\n",
    "            if .!((b,r,d) in keys(rc_coefficients))\n",
    "                asig += 1\n",
    "                #println((b,r,d) in keys(rc_coefficients))\n",
    "                rc_coefficients[b,r,d] = 0\n",
    "            end\n",
    "        end\n",
    "    end\n",
    "end\n",
    "\n",
    "# leer fn. objetivo de UPIT\n",
    "obj_upit = Dict()\n",
    "open(\"../minelib_inputs/newman1.upit\") do file\n",
    "    for i=1:4\n",
    "        readline(file)\n",
    "    end\n",
    "    for ln in eachline(file)\n",
    "        if .!(ln == \"EOF\")\n",
    "            array = split(ln)\n",
    "            block = tryparse(Int64,array[1])\n",
    "            value = tryparse(Float64,array[2])\n",
    "            obj_upit[block] = value\n",
    "        end\n",
    "    end\n",
    "end\n",
    "println(\"Data base name: $(nombre)\")\n",
    "println(\"NBLOCKS: $(n)\")\n",
    "println(\"NPERIODS: $(T)\")\n",
    "println(\"NDESTINATIONS: $(R)\")\n",
    "println(\"NRESOURCE_SIDE_CONSTRAINTS: $(nresource_side_constraints)\" )\n",
    "println(\"NGENERAL_SIDE_CONSTRAINTS: $(ngeneral_side_constraints)\")\n",
    "println(\"DISCOUNT_RATE: $(discount_rate)\")"
   ]
  },
  {
   "cell_type": "code",
   "execution_count": 3,
   "metadata": {},
   "outputs": [],
   "source": [
    "# crear un diccionario con los vecinos (notar que solo asigno vecinos a los que efectivamente tienen)\n",
    "vecinos = Dict()\n",
    "open(\"../minelib_inputs/newman1.prec\") do file\n",
    "    for linea in eachline(file)\n",
    "        linea_lista = split(linea)\n",
    "        nvecinos = tryparse(Int64,linea_lista[2])\n",
    "        a = tryparse(Int64,linea_lista[1])\n",
    "        if nvecinos>0 # solo agrega vecinos si tiene!\n",
    "            vecinos[a]=Set()\n",
    "            for j=0:nvecinos-1 # reviasar que ocurre con los que no tienen vecinos!\n",
    "                b= tryparse(Int64,linea_lista[j+3])\n",
    "                push!(vecinos[a],b)\n",
    "            end\n",
    "        end\n",
    "    end\n",
    "end"
   ]
  },
  {
   "cell_type": "code",
   "execution_count": 75,
   "metadata": {},
   "outputs": [
    {
     "data": {
      "text/plain": [
       "981"
      ]
     },
     "execution_count": 75,
     "metadata": {},
     "output_type": "execute_result"
    }
   ],
   "source": [
    "length(vecinos)"
   ]
  },
  {
   "cell_type": "code",
   "execution_count": 5,
   "metadata": {},
   "outputs": [
    {
     "name": "stdout",
     "output_type": "stream",
     "text": [
      "Academic license - for non-commercial use only\r\n",
      "Academic license - for non-commercial use only\r\n",
      "Optimize a model with 3922 rows, 1060 columns and 7844 nonzeros\r\n",
      "Variable types: 0 continuous, 1060 integer (1060 binary)\r\n",
      "Coefficient statistics:\r\n",
      "  Matrix range     [1e+00, 1e+00]\r\n",
      "  Objective range  [7e+00, 2e+05]\r\n",
      "  Bounds range     [0e+00, 0e+00]\r\n",
      "  RHS range        [0e+00, 0e+00]\r\n",
      "Found heuristic solution: objective 989307.55494\r\n",
      "Found heuristic solution: objective 2.608690e+07\r\n",
      "Presolve removed 3922 rows and 1060 columns\r\n",
      "Presolve time: 0.02s\r\n",
      "Presolve: All rows and columns removed\r\n",
      "\r\n",
      "Explored 0 nodes (0 simplex iterations) in 0.02 seconds\r\n",
      "Thread count was 1 (of 8 available processors)\r\n",
      "\r\n",
      "Solution count 2: 2.60869e+07 989308 \r\n",
      "\r\n",
      "Optimal solution found (tolerance 1.00e-04)\r\n",
      "Best objective 2.608689902597e+07, best bound 2.608689902597e+07, gap 0.0000%\r\n",
      "Optimal objective: 2.608689902597001e7\n"
     ]
    }
   ],
   "source": [
    "# resolver UPIT\n",
    "modelo_upit = Model(with_optimizer(Gurobi.Optimizer))\n",
    "@variable(modelo_upit,x[i=0:n-1],Bin);\n",
    "@expression(modelo_upit, obj, sum(x[i]*obj_upit[i] for i=0:n-1));\n",
    "@objective(modelo_upit, Max, obj);\n",
    "\n",
    "open(\"../minelib_inputs/newman1.prec\") do file\n",
    "    for ln in eachline(file)\n",
    "        linea_array = split(ln)\n",
    "        nvecinos = tryparse(Int64,linea_array[2])\n",
    "        u = tryparse(Int64, linea_array[1])\n",
    "        for j =0:nvecinos-1\n",
    "            v = tryparse(Int64,linea_array[j+3])\n",
    "            @constraint(modelo_upit,x[u] <= x[v])\n",
    "        end\n",
    "    end\n",
    "end\n",
    "status = optimize!(modelo_upit)\n",
    "println(\"Optimal objective: \",objective_value(modelo_upit))"
   ]
  },
  {
   "cell_type": "code",
   "execution_count": 6,
   "metadata": {},
   "outputs": [],
   "source": [
    "# recuperar upit\n",
    "blocks_upit = Set()\n",
    "for b =0:n-1\n",
    "    if value(x[b]) == 1\n",
    "        push!(blocks_upit,b)\n",
    "    end\n",
    "end"
   ]
  },
  {
   "cell_type": "code",
   "execution_count": 7,
   "metadata": {},
   "outputs": [],
   "source": [
    "# matrices sparse para pcpsp\n",
    "# precedencia espacial\n",
    "rows = Int64[]\n",
    "cols_plus = Int64[]\n",
    "cols_minus = Int64[]\n",
    "data = Int64[]\n",
    "row = 0\n",
    "for t=0:T-1\n",
    "    for b in keys(vecinos)\n",
    "        for vecino in vecinos[b]\n",
    "            row+=1\n",
    "            push!(rows,row)\n",
    "            push!(cols_plus,b + (R-1)*n + t*R*n + 1)\n",
    "            push!(cols_minus,vecino + (R-1)*n + t*R*n + 1)\n",
    "            push!(data,1)\n",
    "        end\n",
    "    end\n",
    "end\n",
    "AEplus = sparse(rows,cols_plus,data,row,n*R*T)\n",
    "AEminus = sparse(rows,cols_minus,-data,row,n*R*T)\n",
    "AE = AEplus + AEminus;\n",
    "\n",
    "# matriz de precedencia en el destino\n",
    "rows = Int64[]\n",
    "cols_plus = Int64[]\n",
    "cols_minus = Int64[]\n",
    "data = Int8[]\n",
    "row = 0\n",
    "for t =0:T-1\n",
    "    for d =0:R-2\n",
    "        for b=0:n-1\n",
    "            row +=1\n",
    "            push!(rows,row)\n",
    "            push!(cols_plus,b + d*n + t*R*n+1)\n",
    "            push!(cols_minus,b + (d+1)*n + t*R*n+1)\n",
    "            push!(data,1)\n",
    "        end\n",
    "    end\n",
    "end\n",
    "ADplus = sparse(rows,cols_plus,data,row,n*R*T)\n",
    "ADminus = sparse(rows,cols_minus,-data,row,n*R*T)\n",
    "AD = ADplus + ADminus;\n",
    "\n",
    "# matriz de precedencia temporal \n",
    "rows = Int64[]\n",
    "cols_plus = Int64[]\n",
    "cols_minus = Int64[]\n",
    "data = Int8[]\n",
    "row = 0\n",
    "for t =0:T-2\n",
    "    for b =0:n-1 \n",
    "        row+=1\n",
    "        push!(rows,row) # revisar, quizas funciona de casualidad!!!\n",
    "        push!(cols_plus,b+(R-1)*n+t*R*n+1)\n",
    "        push!(data,1)\n",
    "        push!(cols_minus,b+(t+1)*R*n+1)\n",
    "    end\n",
    "end\n",
    "AT_plus =  sparse(rows,cols_plus,data,row,n*R*T)\n",
    "AT_minus = sparse(rows,cols_minus,-data,row,n*R*T)\n",
    "AT = AT_plus+AT_minus;"
   ]
  },
  {
   "cell_type": "code",
   "execution_count": 36,
   "metadata": {},
   "outputs": [],
   "source": [
    "# recalcular coeficientes de la funcion objetivo para PCP_by\n",
    "c = Dict()\n",
    "for b in blocks_upit,d =0:R-1, t=0:T-1\n",
    "    c[b,d,t] = (1.0/(1.0 + discount_rate))^t * objective_function_pcpsp[b,d]\n",
    "end\n",
    "\n",
    "c_hat = Dict()\n",
    "for b in blocks_upit, d=0:R-1, t=0:T-1\n",
    "    if t==0 && d==0\n",
    "        c_hat[b,d,t] = -c[b,d,t]\n",
    "    elseif d<=R-2 && t>=1\n",
    "        c_hat[b,d,t] = c[b,d+1,t]\n",
    "    elseif d==R-1 && t<=T-2\n",
    "        c_hat[b,d,t] = c[b,0,t+1]\n",
    "    else\n",
    "        c_hat[b,d,t] = 0\n",
    "    end\n",
    "end\n",
    "    \n",
    "cx2 = Dict()\n",
    "for b in blocks_upit, d=0:R-1,t=0:T-1\n",
    "    if t==0\n",
    "        cx2[b,d,t] = -c_hat[b,d,0]\n",
    "    else\n",
    "        cx2[b,d,t] = c[b,d,t]-c_hat[b,d,t]\n",
    "    end\n",
    "end\n",
    "rhs_esp = spzeros(Int8,size(AE)[1]);\n",
    "rhs_temp = spzeros(Int8,size(AT)[1]);\n",
    "rhs_dest = spzeros(Int8,size(AD)[1]);"
   ]
  },
  {
   "cell_type": "code",
   "execution_count": 33,
   "metadata": {},
   "outputs": [
    {
     "data": {
      "text/plain": [
       "(23532,)"
      ]
     },
     "execution_count": 33,
     "metadata": {},
     "output_type": "execute_result"
    }
   ],
   "source": [
    "size(rhs_esp)"
   ]
  },
  {
   "cell_type": "code",
   "execution_count": 38,
   "metadata": {},
   "outputs": [
    {
     "name": "stdout",
     "output_type": "stream",
     "text": [
      "Academic license - for non-commercial use only\r\n"
     ]
    }
   ],
   "source": [
    "# BZ version esparse\n",
    "problema_aux = Model(with_optimizer(Gurobi.Optimizer))\n",
    "@variable(problema_aux,0<=x[i=1:n*R*T] <=1)\n",
    "@constraint(problema_aux, precEsp, AE * x .<= rhs_esp);\n",
    "@constraint(problema_aux, precDest, AD * x .<= rhs_dest);\n",
    "@constraint(problema_aux, precTemp, AT * x .<= rhs_temp);\n",
    "w = Dict()\n",
    "eles = Dict()\n",
    "eles[0] = 1\n",
    "k = 1\n",
    "mu = Dict()\n",
    "mu[0] = Dict()\n",
    "C = Dict()\n",
    "C[1,0] = Set()\n",
    "for r=0:nresource_side_constraints-1, t=0:T-1\n",
    "    mu[0][r,t] = 0\n",
    "end\n",
    "for b in blocks_upit, d=0:R-1, t=0:T-1\n",
    "    push!(C[1,0],(b,d,t))\n",
    "end\n"
   ]
  },
  {
   "cell_type": "code",
   "execution_count": null,
   "metadata": {},
   "outputs": [],
   "source": [
    "size(x)\n",
    "size(AE)\n",
    "reshape(AE,(23532,n*R*T))*reshape(x,(n*R*T,1))"
   ]
  },
  {
   "cell_type": "code",
   "execution_count": 22,
   "metadata": {},
   "outputs": [
    {
     "name": "stdout",
     "output_type": "stream",
     "text": [
      "Academic license - for non-commercial use only\r\n"
     ]
    },
    {
     "data": {
      "text/plain": [
       "2-element Array{ConstraintRef{Model,MathOptInterface.ConstraintIndex{MathOptInterface.ScalarAffineFunction{Float64},MathOptInterface.LessThan{Float64}},ScalarShape},1}:\n",
       " x[1] + 2 x[2] <= 5.0  \n",
       " 3 x[1] + 4 x[2] <= 6.0"
      ]
     },
     "execution_count": 22,
     "metadata": {},
     "output_type": "execute_result"
    }
   ],
   "source": [
    "model = Model(with_optimizer(Gurobi.Optimizer))\n",
    "@variable(model, x[i=1:2])\n",
    "A = [1 2; 3 4]\n",
    "Asp = sparse(A)\n",
    "b = zeros(n)\n",
    "@constraint(model, con, Asp * x .<= b)"
   ]
  },
  {
   "cell_type": "code",
   "execution_count": 27,
   "metadata": {},
   "outputs": [
    {
     "data": {
      "text/plain": [
       "(Array{VariableRef,1}, (12720,))"
      ]
     },
     "execution_count": 27,
     "metadata": {},
     "output_type": "execute_result"
    }
   ],
   "source": [
    "typeof(x),size(x)"
   ]
  },
  {
   "cell_type": "code",
   "execution_count": 28,
   "metadata": {},
   "outputs": [
    {
     "data": {
      "text/plain": [
       "(SparseMatrixCSC{Int64,Int64}, (23532, 12720))"
      ]
     },
     "execution_count": 28,
     "metadata": {},
     "output_type": "execute_result"
    }
   ],
   "source": [
    "typeof(AE), size(AE)"
   ]
  },
  {
   "cell_type": "code",
   "execution_count": 14,
   "metadata": {},
   "outputs": [
    {
     "data": {
      "text/plain": [
       "(23532, 12720)"
      ]
     },
     "execution_count": 14,
     "metadata": {},
     "output_type": "execute_result"
    }
   ],
   "source": [
    "size(AE)"
   ]
  },
  {
   "cell_type": "code",
   "execution_count": 15,
   "metadata": {},
   "outputs": [
    {
     "data": {
      "text/plain": [
       "SparseMatrixCSC{Int64,Int64}"
      ]
     },
     "execution_count": 15,
     "metadata": {},
     "output_type": "execute_result"
    }
   ],
   "source": [
    "typeof(AE)"
   ]
  },
  {
   "cell_type": "code",
   "execution_count": 20,
   "metadata": {},
   "outputs": [
    {
     "data": {
      "text/plain": [
       "(12720,)"
      ]
     },
     "execution_count": 20,
     "metadata": {},
     "output_type": "execute_result"
    }
   ],
   "source": [
    "size(rhs_prec)"
   ]
  },
  {
   "cell_type": "code",
   "execution_count": 16,
   "metadata": {},
   "outputs": [
    {
     "data": {
      "text/plain": [
       "SparseMatrixCSC{Int64,Int64}"
      ]
     },
     "execution_count": 16,
     "metadata": {},
     "output_type": "execute_result"
    }
   ],
   "source": [
    "typeof(Asp)"
   ]
  },
  {
   "cell_type": "code",
   "execution_count": 105,
   "metadata": {},
   "outputs": [
    {
     "data": {
      "text/plain": [
       "(12720,)"
      ]
     },
     "execution_count": 105,
     "metadata": {},
     "output_type": "execute_result"
    }
   ],
   "source": [
    "toy = spzeros(Int8,n*R*T)\n",
    "size(toy)"
   ]
  },
  {
   "cell_type": "code",
   "execution_count": 41,
   "metadata": {},
   "outputs": [
    {
     "data": {
      "text/plain": [
       "23532"
      ]
     },
     "execution_count": 41,
     "metadata": {},
     "output_type": "execute_result"
    }
   ],
   "source": [
    "length(data)"
   ]
  },
  {
   "cell_type": "code",
   "execution_count": 275,
   "metadata": {},
   "outputs": [
    {
     "name": "stdout",
     "output_type": "stream",
     "text": [
      "Academic license - for non-commercial use only\r\n",
      "Optimize a model with 2 rows, 2 columns and 4 nonzeros\r\n",
      "Coefficient statistics:\r\n",
      "  Matrix range     [2e+01, 5e+01]\r\n",
      "  Objective range  [1e+00, 1e+00]\r\n",
      "  Bounds range     [5e+00, 5e+01]\r\n",
      "  RHS range        [2e+03, 2e+03]\r\n",
      "Presolve removed 2 rows and 2 columns\r\n",
      "Presolve time: 0.00s\r\n",
      "Presolve: All rows and columns removed\r\n",
      "Iteration    Objective       Primal Inf.    Dual Inf.      Time\r\n",
      "       0    5.0000000e+01   0.000000e+00   0.000000e+00      0s\r\n",
      "\r\n",
      "Solved in 0 iterations and 0.00 seconds\r\n",
      "Optimal objective  5.000000000e+01\r\n",
      "Optimal objective: 50.0. x = 5.0 y = 45.0\n"
     ]
    }
   ],
   "source": [
    "status = optimize!(m)\n",
    "println(\"Optimal objective: \",objective_value(m),\n",
    "\t\". x = \", value(x), \" y = \", value(y))"
   ]
  },
  {
   "cell_type": "code",
   "execution_count": 267,
   "metadata": {},
   "outputs": [
    {
     "name": "stdout",
     "output_type": "stream",
     "text": [
      "search: \u001b[0m\u001b[1mo\u001b[22m\u001b[0m\u001b[1mb\u001b[22m\u001b[0m\u001b[1mj\u001b[22m\u001b[0m\u001b[1me\u001b[22m\u001b[0m\u001b[1mc\u001b[22m\u001b[0m\u001b[1mt\u001b[22m\u001b[0m\u001b[1mi\u001b[22m\u001b[0m\u001b[1mv\u001b[22m\u001b[0m\u001b[1me\u001b[22m\u001b[0m\u001b[1m_\u001b[22m\u001b[0m\u001b[1mv\u001b[22m\u001b[0m\u001b[1ma\u001b[22m\u001b[0m\u001b[1ml\u001b[22m\u001b[0m\u001b[1mu\u001b[22m\u001b[0m\u001b[1me\u001b[22m\n",
      "\n"
     ]
    },
    {
     "data": {
      "text/latex": [
       "\\begin{verbatim}\n",
       "objective_value(model::Model)\n",
       "\\end{verbatim}\n",
       "Return the objective value after a call to \\texttt{optimize!(model)}.\n",
       "\n"
      ],
      "text/markdown": [
       "```\n",
       "objective_value(model::Model)\n",
       "```\n",
       "\n",
       "Return the objective value after a call to `optimize!(model)`.\n"
      ],
      "text/plain": [
       "\u001b[36m  objective_value(model::Model)\u001b[39m\n",
       "\n",
       "  Return the objective value after a call to \u001b[36moptimize!(model)\u001b[39m."
      ]
     },
     "execution_count": 267,
     "metadata": {},
     "output_type": "execute_result"
    }
   ],
   "source": [
    "?objective_value"
   ]
  },
  {
   "cell_type": "code",
   "execution_count": 269,
   "metadata": {},
   "outputs": [
    {
     "name": "stdout",
     "output_type": "stream",
     "text": [
      "search: \u001b[0m\u001b[1mM\u001b[22m\u001b[0m\u001b[1mo\u001b[22m\u001b[0m\u001b[1md\u001b[22m\u001b[0m\u001b[1me\u001b[22m\u001b[0m\u001b[1ml\u001b[22m \u001b[0m\u001b[1mM\u001b[22m\u001b[0m\u001b[1mo\u001b[22m\u001b[0m\u001b[1md\u001b[22m\u001b[0m\u001b[1me\u001b[22m\u001b[0m\u001b[1ml\u001b[22mMode \u001b[0m\u001b[1mm\u001b[22m\u001b[0m\u001b[1mo\u001b[22m\u001b[0m\u001b[1md\u001b[22m\u001b[0m\u001b[1me\u001b[22m\u001b[0m\u001b[1ml\u001b[22m_type \u001b[0m\u001b[1mm\u001b[22m\u001b[0m\u001b[1mo\u001b[22m\u001b[0m\u001b[1md\u001b[22m\u001b[0m\u001b[1me\u001b[22m\u001b[0m\u001b[1ml\u001b[22m_name \u001b[0m\u001b[1mm\u001b[22m\u001b[0m\u001b[1mo\u001b[22m\u001b[0m\u001b[1md\u001b[22m\u001b[0m\u001b[1me\u001b[22m\u001b[0m\u001b[1ml\u001b[22m_sense \u001b[0m\u001b[1mm\u001b[22m\u001b[0m\u001b[1mo\u001b[22m\u001b[0m\u001b[1md\u001b[22m\u001b[0m\u001b[1me\u001b[22m\u001b[0m\u001b[1ml\u001b[22m_string\n",
      "\n"
     ]
    },
    {
     "data": {
      "text/latex": [
       "\\begin{verbatim}\n",
       "Model\n",
       "\\end{verbatim}\n",
       "A mathematical model of an optimization problem.\n",
       "\n",
       "\\rule{\\textwidth}{1pt}\n",
       "\\begin{verbatim}\n",
       "Model(; caching_mode::MOIU.CachingOptimizerMode=MOIU.AUTOMATIC,\n",
       "        bridge_constraints::Bool=true)\n",
       "\\end{verbatim}\n",
       "Return a new JuMP model without any optimizer; the model is stored the model in a cache. The mode of the \\texttt{CachingOptimizer} storing this cache is \\texttt{caching\\_mode}. The optimizer can be set later in the \\href{@ref}{\\texttt{optimize!}} call. If \\texttt{bridge\\_constraints} is true, constraints that are not supported by the optimizer are automatically bridged to equivalent supported constraints when an appropriate transformation is defined in the \\texttt{MathOptInterface.Bridges} module or is defined in another module and is explicitely added.\n",
       "\n",
       "\\rule{\\textwidth}{1pt}\n",
       "\\begin{verbatim}\n",
       "Model(optimizer_factory::OptimizerFactory;\n",
       "      caching_mode::MOIU.CachingOptimizerMode=MOIU.AUTOMATIC,\n",
       "      bridge_constraints::Bool=true)\n",
       "\\end{verbatim}\n",
       "Return a new JuMP model using the optimizer factory \\texttt{optimizer\\_factory} to create the optimizer. The optimizer factory can be created by the \\href{@ref}{\\texttt{with\\_optimizer}} function.\n",
       "\n",
       "\\subsection{Examples}\n",
       "The following creates a model using the optimizer \\texttt{IpoptOptimizer(print\\_level=0)}:\n",
       "\n",
       "\\begin{verbatim}\n",
       "model = Model(with_optimizer(Ipopt.Optimizer, print_level=0))\n",
       "\\end{verbatim}\n"
      ],
      "text/markdown": [
       "```\n",
       "Model\n",
       "```\n",
       "\n",
       "A mathematical model of an optimization problem.\n",
       "\n",
       "---\n",
       "\n",
       "```\n",
       "Model(; caching_mode::MOIU.CachingOptimizerMode=MOIU.AUTOMATIC,\n",
       "        bridge_constraints::Bool=true)\n",
       "```\n",
       "\n",
       "Return a new JuMP model without any optimizer; the model is stored the model in a cache. The mode of the `CachingOptimizer` storing this cache is `caching_mode`. The optimizer can be set later in the [`optimize!`](@ref) call. If `bridge_constraints` is true, constraints that are not supported by the optimizer are automatically bridged to equivalent supported constraints when an appropriate transformation is defined in the `MathOptInterface.Bridges` module or is defined in another module and is explicitely added.\n",
       "\n",
       "---\n",
       "\n",
       "```\n",
       "Model(optimizer_factory::OptimizerFactory;\n",
       "      caching_mode::MOIU.CachingOptimizerMode=MOIU.AUTOMATIC,\n",
       "      bridge_constraints::Bool=true)\n",
       "```\n",
       "\n",
       "Return a new JuMP model using the optimizer factory `optimizer_factory` to create the optimizer. The optimizer factory can be created by the [`with_optimizer`](@ref) function.\n",
       "\n",
       "## Examples\n",
       "\n",
       "The following creates a model using the optimizer `IpoptOptimizer(print_level=0)`:\n",
       "\n",
       "```julia\n",
       "model = Model(with_optimizer(Ipopt.Optimizer, print_level=0))\n",
       "```\n"
      ],
      "text/plain": [
       "\u001b[36m  Model\u001b[39m\n",
       "\n",
       "  A mathematical model of an optimization problem.\n",
       "\n",
       "  ────────────────────────────────────────────────────────────────────────────\n",
       "\n",
       "\u001b[36m  Model(; caching_mode::MOIU.CachingOptimizerMode=MOIU.AUTOMATIC,\u001b[39m\n",
       "\u001b[36m          bridge_constraints::Bool=true)\u001b[39m\n",
       "\n",
       "  Return a new JuMP model without any optimizer; the model is stored the model\n",
       "  in a cache. The mode of the \u001b[36mCachingOptimizer\u001b[39m storing this cache is\n",
       "  \u001b[36mcaching_mode\u001b[39m. The optimizer can be set later in the \u001b[36moptimize!\u001b[39m call. If\n",
       "  \u001b[36mbridge_constraints\u001b[39m is true, constraints that are not supported by the\n",
       "  optimizer are automatically bridged to equivalent supported constraints when\n",
       "  an appropriate transformation is defined in the \u001b[36mMathOptInterface.Bridges\u001b[39m\n",
       "  module or is defined in another module and is explicitely added.\n",
       "\n",
       "  ────────────────────────────────────────────────────────────────────────────\n",
       "\n",
       "\u001b[36m  Model(optimizer_factory::OptimizerFactory;\u001b[39m\n",
       "\u001b[36m        caching_mode::MOIU.CachingOptimizerMode=MOIU.AUTOMATIC,\u001b[39m\n",
       "\u001b[36m        bridge_constraints::Bool=true)\u001b[39m\n",
       "\n",
       "  Return a new JuMP model using the optimizer factory \u001b[36moptimizer_factory\u001b[39m to\n",
       "  create the optimizer. The optimizer factory can be created by the\n",
       "  \u001b[36mwith_optimizer\u001b[39m function.\n",
       "\n",
       "\u001b[1m  Examples\u001b[22m\n",
       "\u001b[1m  ==========\u001b[22m\n",
       "\n",
       "  The following creates a model using the optimizer\n",
       "  \u001b[36mIpoptOptimizer(print_level=0)\u001b[39m:\n",
       "\n",
       "\u001b[36m  model = Model(with_optimizer(Ipopt.Optimizer, print_level=0))\u001b[39m"
      ]
     },
     "execution_count": 269,
     "metadata": {},
     "output_type": "execute_result"
    }
   ],
   "source": [
    "?Model"
   ]
  },
  {
   "cell_type": "code",
   "execution_count": 247,
   "metadata": {},
   "outputs": [
    {
     "data": {
      "text/plain": [
       "Base.KeySet{Any,Dict{Any,Any}}"
      ]
     },
     "execution_count": 247,
     "metadata": {},
     "output_type": "execute_result"
    }
   ],
   "source": [
    "ks = keys(rc_coefficients);\n",
    "typeof(ks)"
   ]
  },
  {
   "cell_type": "code",
   "execution_count": 253,
   "metadata": {},
   "outputs": [
    {
     "data": {
      "text/plain": [
       "3180-element Array{Pair{Any,Any},1}:\n",
       "  (798, 1, 1) => 5664.0 \n",
       "  (129, 0, 1) => 5664.0 \n",
       "  (103, 1, 1) => 5644.81\n",
       "  (618, 0, 0) => 5664.0 \n",
       "  (928, 1, 1) => 5184.0 \n",
       " (1014, 0, 0) => 5664.0 \n",
       "  (376, 1, 1) => 2994.93\n",
       "  (421, 0, 0) => 5664.0 \n",
       "  (637, 1, 1) => 5664.0 \n",
       "  (533, 1, 1) => 5664.0 \n",
       "  (718, 0, 0) => 5664.0 \n",
       "  (119, 0, 1) => 5664.0 \n",
       "  (811, 1, 1) => 5664.0 \n",
       "              ⋮         \n",
       "  (124, 1, 1) => 5664.0 \n",
       "  (691, 0, 0) => 5664.0 \n",
       "  (335, 0, 1) => 2613.03\n",
       "  (745, 1, 1) => 5664.0 \n",
       "  (252, 0, 1) => 5664.0 \n",
       "  (430, 0, 0) => 5020.3 \n",
       "   (28, 1, 1) => 1868.55\n",
       "  (468, 0, 1) => 5664.0 \n",
       "  (597, 0, 0) => 5664.0 \n",
       "  (882, 0, 1) => 5664.0 \n",
       "  (171, 0, 1) => 5664.0 \n",
       " (1049, 1, 1) => 5664.0 "
      ]
     },
     "execution_count": 253,
     "metadata": {},
     "output_type": "execute_result"
    }
   ],
   "source": [
    "collect(rc_coefficients)"
   ]
  },
  {
   "cell_type": "code",
   "execution_count": 148,
   "metadata": {},
   "outputs": [
    {
     "data": {
      "text/plain": [
       "4240"
      ]
     },
     "execution_count": 148,
     "metadata": {},
     "output_type": "execute_result"
    }
   ],
   "source": [
    "n*nresource_side_constraints*R"
   ]
  },
  {
   "cell_type": "code",
   "execution_count": 232,
   "metadata": {},
   "outputs": [
    {
     "data": {
      "text/plain": [
       "Dict{Any,Any} with 6361 entries:\n",
       "  (798, 1, 1)  => 5664.0\n",
       "  (331, 1, 2)  => 0\n",
       "  (934, 1, 2)  => 0\n",
       "  (540, 2, 2)  => 0\n",
       "  (129, 0, 1)  => 5664.0\n",
       "  (103, 1, 1)  => 5644.81\n",
       "  (618, 0, 0)  => 5664.0\n",
       "  (928, 1, 1)  => 5184.0\n",
       "  (79, 2, 1)   => 0\n",
       "  (82, 2, 1)   => 0\n",
       "  (1014, 0, 0) => 5664.0\n",
       "  (230, 1, 2)  => 0\n",
       "  (547, 2, 1)  => 0\n",
       "  (376, 1, 1)  => 2994.93\n",
       "  (421, 0, 0)  => 5664.0\n",
       "  (90, 1, 2)   => 0\n",
       "  (637, 1, 1)  => 5664.0\n",
       "  (533, 1, 1)  => 5664.0\n",
       "  (718, 0, 0)  => 5664.0\n",
       "  (14, 2, 2)   => 0\n",
       "  (301, 2, 2)  => 0\n",
       "  (623, 2, 1)  => 0\n",
       "  (184, 2, 1)  => 0\n",
       "  (186, 2, 1)  => 0\n",
       "  (240, 1, 2)  => 0\n",
       "  ⋮            => ⋮"
      ]
     },
     "execution_count": 232,
     "metadata": {},
     "output_type": "execute_result"
    }
   ],
   "source": [
    "rc_coefficients"
   ]
  },
  {
   "cell_type": "code",
   "execution_count": 217,
   "metadata": {},
   "outputs": [
    {
     "name": "stdout",
     "output_type": "stream",
     "text": [
      "hola\n"
     ]
    }
   ],
   "source": [
    "if .!(1 in keys(Dict(0=>1,2=>2,3=>3)))\n",
    "    println(\"hola\")\n",
    "end"
   ]
  },
  {
   "cell_type": "code",
   "execution_count": 214,
   "metadata": {},
   "outputs": [
    {
     "data": {
      "text/plain": [
       "true"
      ]
     },
     "execution_count": 214,
     "metadata": {},
     "output_type": "execute_result"
    }
   ],
   "source": [
    ".!(1 in keys(Dict(0=>1,2=>2,3=>3)))"
   ]
  },
  {
   "cell_type": "code",
   "execution_count": 223,
   "metadata": {},
   "outputs": [
    {
     "data": {
      "text/plain": [
       "Base.KeySet for a Dict{Any,Any} with 6361 entries. Keys:\n",
       "  (798, 1, 1)\n",
       "  (331, 1, 2)\n",
       "  (934, 1, 2)\n",
       "  (540, 2, 2)\n",
       "  (129, 0, 1)\n",
       "  (103, 1, 1)\n",
       "  (618, 0, 0)\n",
       "  (928, 1, 1)\n",
       "  (79, 2, 1)\n",
       "  (82, 2, 1)\n",
       "  (1014, 0, 0)\n",
       "  (230, 1, 2)\n",
       "  (547, 2, 1)\n",
       "  (376, 1, 1)\n",
       "  (421, 0, 0)\n",
       "  (90, 1, 2)\n",
       "  (637, 1, 1)\n",
       "  (533, 1, 1)\n",
       "  (718, 0, 0)\n",
       "  (14, 2, 2)\n",
       "  (301, 2, 2)\n",
       "  (623, 2, 1)\n",
       "  (184, 2, 1)\n",
       "  (186, 2, 1)\n",
       "  (240, 1, 2)\n",
       "  ⋮"
      ]
     },
     "execution_count": 223,
     "metadata": {},
     "output_type": "execute_result"
    }
   ],
   "source": [
    "keys(rc_coefficients)"
   ]
  },
  {
   "cell_type": "code",
   "execution_count": 151,
   "metadata": {},
   "outputs": [
    {
     "data": {
      "text/plain": [
       "2120"
      ]
     },
     "execution_count": 151,
     "metadata": {},
     "output_type": "execute_result"
    }
   ],
   "source": [
    "length(objective_function_pcpsp)"
   ]
  },
  {
   "cell_type": "code",
   "execution_count": 161,
   "metadata": {},
   "outputs": [
    {
     "data": {
      "text/plain": [
       "387"
      ]
     },
     "execution_count": 161,
     "metadata": {},
     "output_type": "execute_result"
    }
   ],
   "source": [
    "length(rc_coefficients)"
   ]
  },
  {
   "cell_type": "code",
   "execution_count": 118,
   "metadata": {
    "scrolled": false
   },
   "outputs": [
    {
     "data": {
      "text/plain": [
       "Dict{Any,Any} with 12 entries:\n",
       "  (1, 6) => 2.0e6\n",
       "  (2, 3) => 1.1e6\n",
       "  (2, 6) => 1.1e6\n",
       "  (2, 2) => 1.1e6\n",
       "  (2, 1) => 1.1e6\n",
       "  (2, 5) => 1.1e6\n",
       "  (1, 4) => 2.0e6\n",
       "  (1, 3) => 2.0e6\n",
       "  (2, 4) => 1.1e6\n",
       "  (1, 1) => 2.0e6\n",
       "  (1, 2) => 2.0e6\n",
       "  (1, 5) => 2.0e6"
      ]
     },
     "execution_count": 118,
     "metadata": {},
     "output_type": "execute_result"
    }
   ],
   "source": [
    "resource_constraint_ub_limits"
   ]
  },
  {
   "cell_type": "code",
   "execution_count": 116,
   "metadata": {},
   "outputs": [
    {
     "data": {
      "text/plain": [
       "Dict{Any,Any} with 12 entries:\n",
       "  (1, 6) => \"-Infinity\"\n",
       "  (2, 3) => \"-Infinity\"\n",
       "  (2, 6) => \"-Infinity\"\n",
       "  (2, 2) => \"-Infinity\"\n",
       "  (2, 1) => \"-Infinity\"\n",
       "  (2, 5) => \"-Infinity\"\n",
       "  (1, 4) => \"-Infinity\"\n",
       "  (1, 3) => \"-Infinity\"\n",
       "  (2, 4) => \"-Infinity\"\n",
       "  (1, 1) => \"-Infinity\"\n",
       "  (1, 2) => \"-Infinity\"\n",
       "  (1, 5) => \"-Infinity\""
      ]
     },
     "execution_count": 116,
     "metadata": {},
     "output_type": "execute_result"
    }
   ],
   "source": [
    "resource_constraint_lb_limits"
   ]
  },
  {
   "cell_type": "code",
   "execution_count": 123,
   "metadata": {},
   "outputs": [
    {
     "data": {
      "text/plain": [
       "Dict{Any,Any} with 0 entries"
      ]
     },
     "execution_count": 123,
     "metadata": {},
     "output_type": "execute_result"
    }
   ],
   "source": [
    "objective_function_pcpsp"
   ]
  },
  {
   "cell_type": "code",
   "execution_count": 66,
   "metadata": {},
   "outputs": [],
   "source": [
    "f = open(\"../minelib_inputs/newman1.pcpsp\")\n",
    "linea = readline(f)\n",
    "linea_splitted = split(linea)\n",
    "valor = linea_splitted[1]==\"NAME:\"\n",
    "close(f)"
   ]
  },
  {
   "cell_type": "code",
   "execution_count": 67,
   "metadata": {},
   "outputs": [
    {
     "data": {
      "text/plain": [
       "SubString{String}"
      ]
     },
     "execution_count": 67,
     "metadata": {},
     "output_type": "execute_result"
    }
   ],
   "source": [
    "typeof(linea_splitted[1])"
   ]
  },
  {
   "cell_type": "code",
   "execution_count": 69,
   "metadata": {},
   "outputs": [
    {
     "name": "stdout",
     "output_type": "stream",
     "text": [
      "hola"
     ]
    }
   ],
   "source": [
    "if linea_splitted[1] == \"NAME:\"\n",
    "    print(\"hola\")\n",
    "end"
   ]
  },
  {
   "cell_type": "code",
   "execution_count": 92,
   "metadata": {},
   "outputs": [
    {
     "name": "stdout",
     "output_type": "stream",
     "text": [
      "1\n",
      "2\n",
      "3\n",
      "4\n",
      "5\n",
      "6\n",
      "7\n",
      "8\n",
      "9\n",
      "10\n",
      "1\n",
      "2\n",
      "3\n",
      "4\n",
      "5\n",
      "6\n",
      "7\n",
      "8\n",
      "9\n",
      "10\n",
      "1\n",
      "2\n",
      "3\n",
      "4\n",
      "5\n",
      "6\n",
      "7\n",
      "8\n",
      "9\n",
      "10\n",
      "1\n",
      "2\n",
      "3\n",
      "4\n",
      "5\n",
      "6\n",
      "7\n",
      "8\n",
      "9\n",
      "10\n",
      "1\n",
      "2\n",
      "3\n",
      "4\n",
      "5\n",
      "6\n",
      "7\n",
      "8\n",
      "9\n",
      "10\n",
      "1\n",
      "2\n",
      "3\n",
      "4\n",
      "5\n",
      "6\n",
      "7\n",
      "8\n",
      "9\n",
      "10\n",
      "1\n",
      "2\n",
      "3\n",
      "4\n",
      "5\n",
      "6\n",
      "7\n",
      "8\n",
      "9\n",
      "10\n",
      "1\n",
      "2\n",
      "3\n",
      "4\n",
      "5\n",
      "6\n",
      "7\n",
      "8\n",
      "9\n",
      "10\n",
      "1\n",
      "2\n",
      "3\n",
      "4\n",
      "5\n",
      "6\n",
      "7\n",
      "8\n",
      "9\n",
      "10\n",
      "1\n",
      "2\n",
      "3\n",
      "4\n",
      "5\n",
      "6\n",
      "7\n",
      "8\n",
      "9\n",
      "10\n"
     ]
    }
   ],
   "source": [
    "for i=1:10\n",
    "    tt = 10\n",
    "    for tiempo =1:tt\n",
    "        println(tiempo)\n",
    "    end\n",
    "end"
   ]
  }
 ],
 "metadata": {
  "kernelspec": {
   "display_name": "Julia 1.1.0",
   "language": "julia",
   "name": "julia-1.1"
  },
  "language_info": {
   "file_extension": ".jl",
   "mimetype": "application/julia",
   "name": "julia",
   "version": "1.1.0"
  }
 },
 "nbformat": 4,
 "nbformat_minor": 2
}
