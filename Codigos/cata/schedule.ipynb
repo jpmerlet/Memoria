{
 "cells": [
  {
   "cell_type": "code",
   "execution_count": 12,
   "metadata": {},
   "outputs": [],
   "source": [
    "import pandas as pd\n",
    "from gurobipy import *\n",
    "import itertools"
   ]
  },
  {
   "cell_type": "code",
   "execution_count": 4,
   "metadata": {},
   "outputs": [
    {
     "data": {
      "text/plain": [
       "{'highlight_selected_word': {'delay': 500, 'code_cells_only': True},\n",
       " 'load_extensions': {'highlight_selected_word/main': True}}"
      ]
     },
     "execution_count": 4,
     "metadata": {},
     "output_type": "execute_result"
    }
   ],
   "source": [
    "from notebook.services.config import ConfigManager\n",
    "cm = ConfigManager()\n",
    "cm.update('notebook', {'highlight_selected_word': {'delay': 500,'code_cells_only': True}})"
   ]
  },
  {
   "cell_type": "code",
   "execution_count": 25,
   "metadata": {},
   "outputs": [],
   "source": [
    "# disponibilidad(1) corresponde a las fechas de marzo\n",
    "data_raw = pd.read_csv('disponibilidad(1).csv',encoding=\"ISO-8859-1\",sep=\";\")\n",
    "data_marzo = pd.read_csv('marzo.csv',encoding=\"ISO-8859-1\",sep=\";\")\n",
    "data_abril = pd.read_csv('abril.csv',encoding=\"ISO-8859-1\",sep=\";\")\n",
    "data_mayo = pd.read_csv('mayo.csv',encoding=\"ISO-8859-1\",sep=\";\")\n",
    "data_junio = pd.read_csv('junio.csv',encoding=\"ISO-8859-1\",sep=\";\")\n",
    "data_total = pd.read_csv('dispo_marzo_junio.csv',encoding=\"ISO-8859-1\",sep=\";\")\n",
    "\n",
    "#dejar columna Name como index\n",
    "data = data_raw.set_index('nombre')\n",
    "data_marzo = data_marzo.set_index('Name')\n",
    "data_abril = data_abril.set_index('Name')\n",
    "data_mayo = data_mayo.set_index('Name')\n",
    "data_junio = data_junio.set_index('Name')\n",
    "data_total = data_total.set_index('Name')\n",
    "\n",
    "# cambiar nombres de columnas por mes-dia\n",
    "data_marzo.columns = ['mar-'+col for col in data_marzo.columns]\n",
    "data_marzo.columns = [col.replace(\" \",\"\") for col in data_marzo.columns]\n",
    "data_abril.columns = ['abr-'+col for col in data_abril.columns]\n",
    "data_abril.columns = [col.replace(\" \",\"\") for col in data_abril.columns]\n",
    "data_mayo.columns = ['may-'+col for col in data_mayo.columns]\n",
    "data_mayo.columns = [col.replace(\" \",\"\") for col in data_mayo.columns]\n",
    "data_junio.columns = ['jun-'+col for col in data_junio.columns]\n",
    "data_junio.columns = [col.replace(\" \",\"\") for col in data_junio.columns]\n",
    "\n",
    "# concatenar dataframes\n",
    "data_concat = pd.concat([data_marzo, data_abril, data_mayo,data_junio], axis=1)\n",
    "data_concat.fillna('no',inplace=True)\n",
    "data_total.fillna('no', inplace=True)\n",
    "data.fillna('no',inplace=True)\n",
    "\n",
    "# poner todo en minuscula\n",
    "data_concat = data_concat.apply(lambda x: x.astype(str).str.lower())\n",
    "data_total = data_total.apply(lambda x: x.astype(str).str.lower())\n",
    "\n",
    "# algunos conjuntos utiles\n",
    "months = ['mar','abr','may','jun']\n",
    "keys = ['mar-11','mar-18','mar-25','abr-1','abr-8','abr-15','abr-22','abr-29','may-6','may-13','may-20','may-27','jun-3','jun-10','jun-17','jun-24']\n",
    "weeks = {}\n",
    "for key in keys:\n",
    "    mes = key.split('-')[0]\n",
    "    dia = int(key.split('-')[1])\n",
    "    weeks[key] = [mes+'-'+str(dia+j) for j in range(5)]\n",
    "\n",
    "# lo anterior supone semanas incluidas\n",
    "# en un solo mes, arreglamos abr-29\n",
    "weeks['abr-29'][2] = 'may-1'\n",
    "weeks['abr-29'][3] = 'may-2'\n",
    "weeks['abr-29'][4] = 'may-3'\n",
    "lugares = {'SPENCE','MEL','CC'}\n",
    "nombres = set(data_concat.index)\n",
    "dias = list(data_concat)"
   ]
  },
  {
   "cell_type": "code",
   "execution_count": 17,
   "metadata": {},
   "outputs": [
    {
     "data": {
      "text/plain": [
       "Index(['mar-1', 'mar-2', 'mar-3', 'mar-4', 'mar-5', 'mar-6', 'mar-7', 'mar-8',\n",
       "       'mar-9', 'mar-10',\n",
       "       ...\n",
       "       'jun-19', 'jun-20', 'jun-21', 'jun-22', 'jun-23', 'jun-24', 'jun-25',\n",
       "       'jun-26', 'jun-27', 'jun-28'],\n",
       "      dtype='object', length=120)"
      ]
     },
     "execution_count": 17,
     "metadata": {},
     "output_type": "execute_result"
    }
   ],
   "source": [
    "# definir variables\n",
    "x = {}\n",
    "for t in dias:\n",
    "    for n in nombres:\n",
    "        for l in lugares:\n",
    "            x[t,n,l] = scheduler.addVar(vtype=GRB.BINARY, name = \"x%s,%s,%s\" % (t,n,l))"
   ]
  },
  {
   "cell_type": "code",
   "execution_count": 47,
   "metadata": {},
   "outputs": [
    {
     "name": "stdout",
     "output_type": "stream",
     "text": [
      "Optimize a model with 9230 rows, 6480 columns and 22860 nonzeros\n",
      "Variable types: 0 continuous, 6480 integer (6480 binary)\n",
      "Coefficient statistics:\n",
      "  Matrix range     [1e+00, 1e+00]\n",
      "  Objective range  [1e+00, 1e+02]\n",
      "  Bounds range     [1e+00, 1e+00]\n",
      "  RHS range        [1e+00, 3e+00]\n",
      "Found heuristic solution: objective 4927.0000000\n",
      "Presolve removed 9012 rows and 6303 columns\n",
      "Presolve time: 0.03s\n",
      "Presolved: 218 rows, 177 columns, 558 nonzeros\n",
      "Found heuristic solution: objective 8425.0000000\n",
      "Variable types: 0 continuous, 177 integer (171 binary)\n",
      "\n",
      "Root relaxation: objective 8.432000e+03, 51 iterations, 0.00 seconds\n",
      "\n",
      "    Nodes    |    Current Node    |     Objective Bounds      |     Work\n",
      " Expl Unexpl |  Obj  Depth IntInf | Incumbent    BestBd   Gap | It/Node Time\n",
      "\n",
      "*    0     0               0    8432.0000000 8432.00000  0.00%     -    0s\n",
      "\n",
      "Explored 0 nodes (51 simplex iterations) in 0.05 seconds\n",
      "Thread count was 4 (of 4 available processors)\n",
      "\n",
      "Solution count 3: 8432 8425 8378 \n",
      "\n",
      "Optimal solution found (tolerance 1.00e-04)\n",
      "Best objective 8.432000000000e+03, best bound 8.432000000000e+03, gap 0.0000%\n"
     ]
    }
   ],
   "source": [
    "scheduler = Model()\n",
    "\n",
    "# definir variables\n",
    "x = {}\n",
    "for t in dias:\n",
    "    for n in nombres:\n",
    "        for l in lugares:\n",
    "            x[t,n,l] = scheduler.addVar(vtype=GRB.BINARY, name = \"x%s,%s,%s\" % (t,n,l))\n",
    "            \n",
    "\n",
    "scheduler.update()\n",
    "# construir fn objetivo\n",
    "expr = LinExpr()\n",
    "dicc_import_lugar = {'SPENCE':2,'MEL':100,'CC':1}\n",
    "for lugar in lugares:\n",
    "    expr += LinExpr([dicc_import_lugar[lugar] for t,n in itertools.product(dias,nombres)],\n",
    "                    [x[t,n,lugar] for t,n in itertools.product(dias,nombres)])\n",
    "\n",
    "# restricciones de disponibilidad\n",
    "for n in nombres:\n",
    "    for t in dias:\n",
    "        for l in lugares:\n",
    "            ans = data_concat.at[n,t]\n",
    "            if ans[0]=='s' or ans[0]=='y':\n",
    "                scheduler.addConstr(x[t,n,l]<= 1)\n",
    "            if ans[0]=='n':\n",
    "                scheduler.addConstr(x[t,n,l]<=0)\n",
    "            \n",
    "# solo se puede estar\n",
    "# en un lugar a la vez\n",
    "for t in dias:\n",
    "    for n in nombres:\n",
    "        scheduler.addConstr(sum([x[t,n,l] for l in lugares]) <= 1)\n",
    "\n",
    "# desplazarse una vez \n",
    "# a la semana\n",
    "for key in keys:\n",
    "    for n in nombres:\n",
    "        scheduler.addConstr(sum([x[t,n,l] for l,t in itertools.product(lugares,weeks[key])]) <= 1)\n",
    "        \n",
    "# MEL al menos con 3\n",
    "# personas\n",
    "for key in keys:\n",
    "    scheduler.addConstr(sum([x[t,n,'MEL'] for t,n in itertools.product(weeks[key],nombres)]) == 3)\n",
    "\n",
    "# analogo para SPENCE y CC\n",
    "# pero con dos\n",
    "for key in keys:\n",
    "    scheduler.addConstr(sum([x[t,n,'SPENCE'] for t,n in itertools.product(weeks[key],nombres)]) >= 1)\n",
    "#    scheduler.addConstr(sum([x[t,n,'CC'] for t,n in itertools.product(weeks[key],nombres)]) >= 2)\n",
    "    \n",
    "# en general, que no se queden\n",
    "# dos semanas consecutivas en el \n",
    "# mismo lugar\n",
    "for i in range(len(keys)-1):\n",
    "    for n in ['Marcos','Paula','Ed','Cecilia','Robert','Jorge']:\n",
    "        for l in lugares:\n",
    "            scheduler.addConstr(sum([x[t,n,l] for t in weeks[keys[i+1]]])<= 1-sum([x[t,n,l] for t in weeks[keys[i]]]))\n",
    "            \n",
    "scheduler.setObjective(expr,GRB.MAXIMIZE)\n",
    "scheduler.optimize()"
   ]
  },
  {
   "cell_type": "code",
   "execution_count": 48,
   "metadata": {
    "scrolled": false
   },
   "outputs": [
    {
     "name": "stdout",
     "output_type": "stream",
     "text": [
      "Personas-Destinos\n",
      "\n",
      "\n",
      "Semana del mar-11 \n",
      "Cecilia viaja a MEL\n",
      "Robert viaja a MEL\n",
      "Ed viaja a MEL\n",
      "Marcos viaja a SPENCE\n",
      "María viaja a SPENCE\n",
      "Jorge viaja a SPENCE\n",
      "Edgar viaja a SPENCE\n",
      "Cata viaja a SPENCE\n",
      "\n",
      "\n",
      "Semana del mar-18 \n",
      "Marcos viaja a MEL\n",
      "Jorge viaja a MEL\n",
      "Silvana viaja a MEL\n",
      "Cecilia viaja a SPENCE\n",
      "María viaja a SPENCE\n",
      "Robert viaja a SPENCE\n",
      "Edgar viaja a SPENCE\n",
      "Ed viaja a SPENCE\n",
      "\n",
      "\n",
      "Semana del mar-25 \n",
      "Cecilia viaja a MEL\n",
      "Robert viaja a MEL\n",
      "Mauricio viaja a MEL\n",
      "Marcos viaja a SPENCE\n",
      "María viaja a SPENCE\n",
      "Edgar viaja a SPENCE\n",
      "Paula viaja a SPENCE\n",
      "Gustavo viaja a SPENCE\n",
      "Cata viaja a SPENCE\n",
      "\n",
      "\n",
      "Semana del abr-1 \n",
      "Marcos viaja a MEL\n",
      "Silvana viaja a MEL\n",
      "Ed viaja a MEL\n",
      "Cecilia viaja a SPENCE\n",
      "María viaja a SPENCE\n",
      "Robert viaja a SPENCE\n",
      "Jorge viaja a SPENCE\n",
      "Edgar viaja a SPENCE\n",
      "Mauricio viaja a SPENCE\n",
      "\n",
      "\n",
      "Semana del abr-8 \n",
      "Cecilia viaja a MEL\n",
      "Robert viaja a MEL\n",
      "Jorge viaja a MEL\n",
      "Marcos viaja a SPENCE\n",
      "María viaja a SPENCE\n",
      "Edgar viaja a SPENCE\n",
      "Ed viaja a SPENCE\n",
      "Paula viaja a SPENCE\n",
      "Mauricio viaja a SPENCE\n",
      "Gustavo viaja a SPENCE\n",
      "\n",
      "\n",
      "Semana del abr-15 \n",
      "Marcos viaja a MEL\n",
      "María viaja a MEL\n",
      "Ed viaja a MEL\n",
      "Cecilia viaja a SPENCE\n",
      "Robert viaja a SPENCE\n",
      "Jorge viaja a SPENCE\n",
      "Edgar viaja a SPENCE\n",
      "Mauricio viaja a SPENCE\n",
      "Gustavo viaja a SPENCE\n",
      "\n",
      "\n",
      "Semana del abr-22 \n",
      "Cecilia viaja a MEL\n",
      "Robert viaja a MEL\n",
      "Mauricio viaja a MEL\n",
      "Marcos viaja a SPENCE\n",
      "María viaja a SPENCE\n",
      "Edgar viaja a SPENCE\n",
      "\n",
      "\n",
      "Semana del abr-29 \n",
      "Marcos viaja a MEL\n",
      "Edgar viaja a MEL\n",
      "Ed viaja a MEL\n",
      "Cecilia viaja a SPENCE\n",
      "María viaja a SPENCE\n",
      "Jorge viaja a SPENCE\n",
      "Mauricio viaja a SPENCE\n",
      "\n",
      "\n",
      "Semana del may-6 \n",
      "Cecilia viaja a MEL\n",
      "Robert viaja a MEL\n",
      "Jorge viaja a MEL\n",
      "Marcos viaja a SPENCE\n",
      "María viaja a SPENCE\n",
      "Edgar viaja a SPENCE\n",
      "Ed viaja a SPENCE\n",
      "Mauricio viaja a SPENCE\n",
      "\n",
      "\n",
      "Semana del may-13 \n",
      "Marcos viaja a MEL\n",
      "Edgar viaja a MEL\n",
      "Ed viaja a MEL\n",
      "Cecilia viaja a SPENCE\n",
      "María viaja a SPENCE\n",
      "Robert viaja a SPENCE\n",
      "Mauricio viaja a SPENCE\n",
      "\n",
      "\n",
      "Semana del may-20 \n",
      "Cecilia viaja a MEL\n",
      "Robert viaja a MEL\n",
      "Edgar viaja a MEL\n",
      "Marcos viaja a SPENCE\n",
      "María viaja a SPENCE\n",
      "Ed viaja a SPENCE\n",
      "Mauricio viaja a SPENCE\n",
      "\n",
      "\n",
      "Semana del may-27 \n",
      "Marcos viaja a MEL\n",
      "María viaja a MEL\n",
      "Edgar viaja a MEL\n",
      "Cecilia viaja a SPENCE\n",
      "Robert viaja a SPENCE\n",
      "Mauricio viaja a SPENCE\n",
      "\n",
      "\n",
      "Semana del jun-3 \n",
      "Cecilia viaja a MEL\n",
      "Robert viaja a MEL\n",
      "Mauricio viaja a MEL\n",
      "Marcos viaja a SPENCE\n",
      "María viaja a SPENCE\n",
      "Edgar viaja a SPENCE\n",
      "\n",
      "\n",
      "Semana del jun-10 \n",
      "Marcos viaja a MEL\n",
      "María viaja a MEL\n",
      "Edgar viaja a MEL\n",
      "Cecilia viaja a SPENCE\n",
      "Robert viaja a SPENCE\n",
      "\n",
      "\n",
      "Semana del jun-17 \n",
      "Cecilia viaja a MEL\n",
      "Robert viaja a MEL\n",
      "Edgar viaja a MEL\n",
      "Marcos viaja a SPENCE\n",
      "\n",
      "\n",
      "Semana del jun-24 \n",
      "Marcos viaja a MEL\n",
      "María viaja a MEL\n",
      "Edgar viaja a MEL\n",
      "Cecilia viaja a SPENCE\n",
      "Robert viaja a SPENCE\n"
     ]
    }
   ],
   "source": [
    "# resumen de los viajes por semana\n",
    "print('Personas-Destinos')\n",
    "for key in keys:\n",
    "    print('\\n\\nSemana del %s ' % key)\n",
    "    for lugar in lugares:\n",
    "        for n in nombres:\n",
    "            if sum([x[t,n,lugar].x for t in weeks[key]])==1:\n",
    "                print('%s viaja a %s' % (n,lugar))"
   ]
  },
  {
   "cell_type": "code",
   "execution_count": null,
   "metadata": {},
   "outputs": [],
   "source": [
    "# algunos frecuencias\n",
    "\n",
    "# cuantas personas diferentes del\n",
    "# equipo fueron cada mes a los diferentes\n",
    "# destinos\n"
   ]
  },
  {
   "cell_type": "code",
   "execution_count": 33,
   "metadata": {},
   "outputs": [],
   "source": [
    "data_concat = data_concat.apply(lambda x: x.astype(str).str.lower())\n",
    "data_total = data_total.apply(lambda x: x.astype(str).str.lower())"
   ]
  },
  {
   "cell_type": "code",
   "execution_count": 22,
   "metadata": {},
   "outputs": [
    {
     "data": {
      "text/plain": [
       "False"
      ]
     },
     "execution_count": 22,
     "metadata": {},
     "output_type": "execute_result"
    }
   ],
   "source": [
    "('abr-31', 'Cecilia', 'CC') in x.keys()"
   ]
  },
  {
   "cell_type": "code",
   "execution_count": 23,
   "metadata": {},
   "outputs": [
    {
     "data": {
      "text/plain": [
       "False"
      ]
     },
     "execution_count": 23,
     "metadata": {},
     "output_type": "execute_result"
    }
   ],
   "source": [
    "'abr-31' in dias"
   ]
  },
  {
   "cell_type": "code",
   "execution_count": 35,
   "metadata": {},
   "outputs": [
    {
     "data": {
      "text/plain": [
       "Index(['11', '12', '13', '14', '15', '16', '17', '18', '19', '20',\n",
       "       ...\n",
       "       '19.3', '20.3', '21.3', '22.3', '23.3', '24.3', '25.3', '26.3', '27.3',\n",
       "       '28.3'],\n",
       "      dtype='object', length=110)"
      ]
     },
     "execution_count": 35,
     "metadata": {},
     "output_type": "execute_result"
    }
   ],
   "source": [
    "data_total.columns = [col.replace(\" \",\"\") for col in data_total.columns]\n",
    "data_total.columns"
   ]
  },
  {
   "cell_type": "code",
   "execution_count": 56,
   "metadata": {},
   "outputs": [],
   "source": [
    "toy = data['4'].loc[data.index=='Paula']"
   ]
  },
  {
   "cell_type": "code",
   "execution_count": 62,
   "metadata": {},
   "outputs": [
    {
     "data": {
      "text/plain": [
       "'no'"
      ]
     },
     "execution_count": 62,
     "metadata": {},
     "output_type": "execute_result"
    }
   ],
   "source": [
    "# recuperar valor dado el index y la columna\n",
    "data.at['Paula','4']"
   ]
  },
  {
   "cell_type": "code",
   "execution_count": 7,
   "metadata": {},
   "outputs": [
    {
     "data": {
      "text/plain": [
       "Index(['Paula', 'Douglas', 'Jariel', 'Claudia', 'Marcos', 'Mauricio',\n",
       "       'Juan Pablo', 'Robert', 'Silvana', 'Mar­a', 'Gustavo', 'Ed', 'Jorge',\n",
       "       'Cecilia', 'Cata', 'Simon', 'Edgar', 'Constanza'],\n",
       "      dtype='object', name='nombre')"
      ]
     },
     "execution_count": 7,
     "metadata": {},
     "output_type": "execute_result"
    }
   ],
   "source": [
    "data.index"
   ]
  },
  {
   "cell_type": "code",
   "execution_count": 16,
   "metadata": {},
   "outputs": [],
   "source": [
    "# recuperamos los indices para el modelo\n",
    "# (i.e. dias, lugares,nombres)\n",
    "dias = set(data.columns)\n",
    "lugares = {'SPENCE','MEL','CC'}\n",
    "nombres = set(data.index)\n",
    "semanas = {}\n",
    "# creamos un diccionario\n",
    "# dia:dias de esa semana\n",
    "for i in [4,11,18,25]:\n",
    "    semanas[str(i)] = [str(i+j) for j in range(5)]\n",
    "key_semanas = list(semanas.keys())"
   ]
  },
  {
   "cell_type": "code",
   "execution_count": 17,
   "metadata": {},
   "outputs": [
    {
     "name": "stdout",
     "output_type": "stream",
     "text": [
      "['4', '5', '6', '7', '8']\n",
      "['11', '12', '13', '14', '15']\n",
      "['18', '19', '20', '21', '22']\n",
      "['25', '26', '27', '28', '29']\n"
     ]
    }
   ],
   "source": [
    "for semana in key_semanas:\n",
    "    print(semanas[semana])"
   ]
  },
  {
   "cell_type": "code",
   "execution_count": 14,
   "metadata": {},
   "outputs": [
    {
     "name": "stdout",
     "output_type": "stream",
     "text": [
      "Academic license - for non-commercial use only\n",
      "Changed value of parameter presolve to 0\n",
      "   Prev: -1  Min: -1  Max: 2  Default: -1\n",
      "Optimize a model with 1983 rows, 1404 columns and 5218 nonzeros\n",
      "Variable types: 0 continuous, 1404 integer (1404 binary)\n",
      "Coefficient statistics:\n",
      "  Matrix range     [1e+00, 1e+00]\n",
      "  Objective range  [1e+00, 1e+02]\n",
      "  Bounds range     [1e+00, 1e+00]\n",
      "  RHS range        [1e+00, 3e+00]\n",
      "Found heuristic solution: objective 1226.0000000\n",
      "Variable types: 0 continuous, 1404 integer (1404 binary)\n",
      "\n",
      "Root relaxation: objective 1.324000e+03, 165 iterations, 0.01 seconds\n",
      "\n",
      "    Nodes    |    Current Node    |     Objective Bounds      |     Work\n",
      " Expl Unexpl |  Obj  Depth IntInf | Incumbent    BestBd   Gap | It/Node Time\n",
      "\n",
      "*    0     0               0    1324.0000000 1324.00000  0.00%     -    0s\n",
      "\n",
      "Explored 0 nodes (165 simplex iterations) in 0.05 seconds\n",
      "Thread count was 8 (of 8 available processors)\n",
      "\n",
      "Solution count 2: 1324 1226 \n",
      "\n",
      "Optimal solution found (tolerance 1.00e-04)\n",
      "Best objective 1.324000000000e+03, best bound 1.324000000000e+03, gap 0.0000%\n"
     ]
    }
   ],
   "source": [
    "m=Model()\n",
    "x = {}\n",
    "for t in dias:\n",
    "    for n in nombres:\n",
    "        for l in lugares:\n",
    "            x[t,n,l] = m.addVar(vtype=GRB.BINARY, name = \"x%s,%s,%s\" % (t,n,l))\n",
    "m.update()\n",
    "\n",
    "expr = LinExpr()\n",
    "dicc_import_lugar = {'SPENCE':2,'MEL':100,'CC':1}\n",
    "for lugar in lugares:\n",
    "    expr += LinExpr([dicc_import_lugar[lugar] for t,n in itertools.product(dias,nombres)],\n",
    "                    [x[t,n,lugar] for t,n in itertools.product(dias,nombres)])\n",
    "#expr = LinExpr([1 for t,n,l in itertools.product(dias,nombres,lugares)],\n",
    "#               [x[t,n,l] for t,n,l in itertools.product(dias,nombres,lugares)])\n",
    "\n",
    "# restricciones de disponibilidad\n",
    "for n in nombres:\n",
    "    for t in dias:\n",
    "        for l in lugares:\n",
    "            if data.at[n,t]=='yes':\n",
    "                m.addConstr(x[t,n,l]<= 1)\n",
    "            else:\n",
    "                m.addConstr(x[t,n,l]<=0)\n",
    "            \n",
    "# restricciones fisicas\n",
    "# una persona solo puede estar en un lugar por dia\n",
    "for t in dias:\n",
    "    for n in nombres:\n",
    "        m.addConstr(sum([x[t,n,l] for l in lugares])<= 1)\n",
    "        \n",
    "# Una persona viaja a lo mas una vez\n",
    "# por semana\n",
    "for semana in key_semanas:\n",
    "    for n in nombres:\n",
    "        m.addConstr(sum([x[t,n,l] for t,l in itertools.product(semanas[semana],lugares)])<= 1)\n",
    "        \n",
    "# cada semana todos los lugares son visitados\n",
    "# por al menos dos personas\n",
    "for semana in key_semanas:\n",
    "    for l in ['SPENCE','CC']:\n",
    "        m.addConstr(sum([x[t,n,l] for t,n in itertools.product(semanas[semana],nombres)])>=2)\n",
    "# lo mismo que lo anterior, pero con \n",
    "# cota inferior igual a 3\n",
    "# restar el caso Mauricio en MEL\n",
    "for semana in key_semanas:\n",
    "    for l in ['MEL']:\n",
    "        m.addConstr(sum([x[t,n,l] for t,n in itertools.product(semanas[semana],nombres) if not n=='Mauricio'])>=3)\n",
    "        \n",
    "# no viajar al mismo lugar en semanas consecutivas\n",
    "for i in range(3):\n",
    "    for n in ['Marcos','Paula','Ed']:\n",
    "        for l in lugares:\n",
    "            m.addConstr(sum([x[t,n,l] for t in semanas[key_semanas[i+1]]])<=1-sum([x[t,n,l] for t in semanas[key_semanas[i]]]))\n",
    "    \n",
    "m.setObjective(expr, GRB.MAXIMIZE)\n",
    "m.Params.presolve = 0\n",
    "m.optimize()"
   ]
  },
  {
   "cell_type": "code",
   "execution_count": null,
   "metadata": {},
   "outputs": [],
   "source": [
    "# resumen de los viajes por semana\n",
    "print('Personas-Destinos')\n",
    "for semana in key_semanas:\n",
    "    print('\\n\\nSemana del %s de marzo' % semana)\n",
    "    for lugar in lugares:\n",
    "        for n in nombres:\n",
    "            if sum([x[t,n,lugar].x for t in semanas[semana]])==1:\n",
    "                print('%s viaja a %s' % (n,lugar))"
   ]
  },
  {
   "cell_type": "code",
   "execution_count": 208,
   "metadata": {},
   "outputs": [
    {
     "name": "stdout",
     "output_type": "stream",
     "text": [
      "1.0\n",
      "1.0\n",
      "1.0\n",
      "1.0\n"
     ]
    }
   ],
   "source": [
    "name = 'Edgar'\n",
    "lugar = 'MEL'\n",
    "for semana in key_semanas:\n",
    "    print(sum([x[t,name,lugar].x for t in semanas[semana]]))"
   ]
  },
  {
   "cell_type": "code",
   "execution_count": null,
   "metadata": {},
   "outputs": [],
   "source": []
  },
  {
   "cell_type": "code",
   "execution_count": 143,
   "metadata": {},
   "outputs": [
    {
     "name": "stdout",
     "output_type": "stream",
     "text": [
      "2.0\n",
      "Cata viaja a CC\n",
      "Mauricio viaja a CC\n"
     ]
    }
   ],
   "source": [
    "# cuantas personas viajan a SPENCE la primera semana\n",
    "weekone = key_semanas[3]\n",
    "print(sum([x[t,n,lugar].x for t,n in itertools.product(semanas[weekone],nombres)]))\n",
    "\n",
    "for n in nombres:\n",
    "    if sum([x[t,n,lugar].x for t in semanas[weekone]])==1:\n",
    "        print('%s viaja a %s' % (n,lugar))"
   ]
  },
  {
   "cell_type": "code",
   "execution_count": 148,
   "metadata": {},
   "outputs": [
    {
     "name": "stdout",
     "output_type": "stream",
     "text": [
      "Silvana viaja a CC\n",
      "Mar­a viaja a CC\n"
     ]
    }
   ],
   "source": [
    "weekone = key_semanas[0]\n",
    "lugar = 'CC'\n",
    "for n in nombres:\n",
    "    if sum([x[t,n,lugar].x for t in semanas[weekone]])==1:\n",
    "        print('%s viaja a %s' % (n,lugar))"
   ]
  },
  {
   "cell_type": "code",
   "execution_count": 15,
   "metadata": {},
   "outputs": [
    {
     "name": "stdout",
     "output_type": "stream",
     "text": [
      "Personas-Destinos\n",
      "\n",
      "\n",
      "Semana del 4 de marzo\n",
      "Robert viaja a SPENCE\n",
      "Edgar viaja a SPENCE\n",
      "Mar­a viaja a CC\n",
      "Marcos viaja a CC\n",
      "Silvana viaja a MEL\n",
      "Jorge viaja a MEL\n",
      "Ed viaja a MEL\n",
      "\n",
      "\n",
      "Semana del 11 de marzo\n",
      "Jorge viaja a SPENCE\n",
      "Marcos viaja a SPENCE\n",
      "Ed viaja a CC\n",
      "Cata viaja a CC\n",
      "Robert viaja a MEL\n",
      "Mar­a viaja a MEL\n",
      "Edgar viaja a MEL\n",
      "\n",
      "\n",
      "Semana del 18 de marzo\n",
      "Mar­a viaja a SPENCE\n",
      "Jorge viaja a SPENCE\n",
      "Robert viaja a CC\n",
      "Silvana viaja a CC\n",
      "Ed viaja a MEL\n",
      "Marcos viaja a MEL\n",
      "Edgar viaja a MEL\n",
      "\n",
      "\n",
      "Semana del 25 de marzo\n",
      "Robert viaja a SPENCE\n",
      "Mar­a viaja a SPENCE\n",
      "Mauricio viaja a CC\n",
      "Marcos viaja a CC\n",
      "Gustavo viaja a MEL\n",
      "Cata viaja a MEL\n",
      "Paula viaja a MEL\n",
      "Edgar viaja a MEL\n"
     ]
    }
   ],
   "source": [
    "# resumen de los viajes por semana\n",
    "print('Personas-Destinos')\n",
    "for semana in key_semanas:\n",
    "    print('\\n\\nSemana del %s de marzo' % semana)\n",
    "    for lugar in lugares:\n",
    "        for n in nombres:\n",
    "            if sum([x[t,n,lugar].x for t in semanas[semana]])==1:\n",
    "                print('%s viaja a %s' % (n,lugar))\n"
   ]
  },
  {
   "cell_type": "code",
   "execution_count": 210,
   "metadata": {},
   "outputs": [],
   "source": [
    "# numero de personas diferentes que fueron al asset\n",
    "# en el mes\n",
    "var_by_place = {}\n",
    "for l in lugares:\n",
    "    var_by_place[l] = sum([x[t,n,l].x for t,n in itertools.product(dias,nombres)])"
   ]
  },
  {
   "cell_type": "code",
   "execution_count": 211,
   "metadata": {},
   "outputs": [
    {
     "data": {
      "text/plain": [
       "{'SPENCE': 8.0, 'MEL': 13.0, 'CC': 8.0}"
      ]
     },
     "execution_count": 211,
     "metadata": {},
     "output_type": "execute_result"
    }
   ],
   "source": [
    "var_by_place"
   ]
  }
 ],
 "metadata": {
  "kernelspec": {
   "display_name": "Python 3",
   "language": "python",
   "name": "python3"
  },
  "language_info": {
   "codemirror_mode": {
    "name": "ipython",
    "version": 3
   },
   "file_extension": ".py",
   "mimetype": "text/x-python",
   "name": "python",
   "nbconvert_exporter": "python",
   "pygments_lexer": "ipython3",
   "version": "3.7.1"
  }
 },
 "nbformat": 4,
 "nbformat_minor": 2
}
