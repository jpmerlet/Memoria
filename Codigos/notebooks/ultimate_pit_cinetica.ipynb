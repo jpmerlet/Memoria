{
 "cells": [
  {
   "cell_type": "code",
   "execution_count": 18,
   "metadata": {
    "collapsed": true
   },
   "outputs": [],
   "source": [
    "import pandas as pd\n",
    "import numpy as np\n",
    "from gurobipy import *"
   ]
  },
  {
   "cell_type": "code",
   "execution_count": 37,
   "metadata": {},
   "outputs": [],
   "source": [
    "# cargar la cinética de recuperacion\n",
    "data_name = 'marvin'\n",
    "cinetica_path = 'C:/Users/Equipo/Desktop/Memoria/Codigos/Daniel_inputs/'\n",
    "block_path = 'C:/Users/Equipo/Desktop/Memoria/Codigos/minelib_inputs/newman1.blocks'\n",
    "cinetica_file = 'REC_MODEL_T240.csv'\n",
    "cinetica_df = pd.read_csv(cinetica_path + cinetica_file)\n",
    "blocks_df = pd.read_csv(block_path, header=None)\n",
    "rec = cinetica_df['rec90'] # panda series para la recuperacion en t=90"
   ]
  },
  {
   "cell_type": "code",
   "execution_count": 38,
   "metadata": {
    "collapsed": true
   },
   "outputs": [
    {
     "ename": "ValueError",
     "evalue": "could not convert string to float: 'FRWS'",
     "output_type": "error",
     "traceback": [
      "\u001b[1;31m---------------------------------------------------------------------------\u001b[0m",
      "\u001b[1;31mValueError\u001b[0m                                Traceback (most recent call last)",
      "\u001b[1;32m<ipython-input-38-1a53318049df>\u001b[0m in \u001b[0;36m<module>\u001b[1;34m()\u001b[0m\n\u001b[0;32m     24\u001b[0m         \u001b[0mlinea_bm\u001b[0m \u001b[1;33m=\u001b[0m \u001b[0mbm\u001b[0m\u001b[1;33m.\u001b[0m\u001b[0mreadline\u001b[0m\u001b[1;33m(\u001b[0m\u001b[1;33m)\u001b[0m\u001b[1;33m\u001b[0m\u001b[0m\n\u001b[0;32m     25\u001b[0m         \u001b[0mlinea_lista\u001b[0m \u001b[1;33m=\u001b[0m \u001b[0mlinea_bm\u001b[0m\u001b[1;33m.\u001b[0m\u001b[0msplit\u001b[0m\u001b[1;33m(\u001b[0m\u001b[1;33m)\u001b[0m\u001b[1;33m\u001b[0m\u001b[0m\n\u001b[1;32m---> 26\u001b[1;33m         \u001b[0mtonn\u001b[0m \u001b[1;33m=\u001b[0m \u001b[0mfloat\u001b[0m\u001b[1;33m(\u001b[0m\u001b[0mlinea_lista\u001b[0m\u001b[1;33m[\u001b[0m\u001b[1;36m4\u001b[0m\u001b[1;33m]\u001b[0m\u001b[1;33m)\u001b[0m\u001b[1;33m\u001b[0m\u001b[0m\n\u001b[0m\u001b[0;32m     27\u001b[0m         \u001b[0mAU\u001b[0m \u001b[1;33m=\u001b[0m \u001b[0mfloat\u001b[0m\u001b[1;33m(\u001b[0m\u001b[0mlinea_lista\u001b[0m\u001b[1;33m[\u001b[0m\u001b[1;36m5\u001b[0m\u001b[1;33m]\u001b[0m\u001b[1;33m)\u001b[0m\u001b[1;33m\u001b[0m\u001b[0m\n\u001b[0;32m     28\u001b[0m         \u001b[0mCU\u001b[0m \u001b[1;33m=\u001b[0m \u001b[0mfloat\u001b[0m\u001b[1;33m(\u001b[0m\u001b[0mlinea_lista\u001b[0m\u001b[1;33m[\u001b[0m\u001b[1;36m6\u001b[0m\u001b[1;33m]\u001b[0m\u001b[1;33m)\u001b[0m\u001b[1;33m\u001b[0m\u001b[0m\n",
      "\u001b[1;31mValueError\u001b[0m: could not convert string to float: 'FRWS'"
     ]
    }
   ],
   "source": [
    "# histograma de la recuperacion en el instante 90\n",
    "hist = cinetica_df.hist(column='rec90', bins=5)\n",
    "# calcular nuevos valores de la funcion objetivo\n",
    "# usando la recuperación al dia 90\n",
    "nblocks = blocks_df.shape[0]\n",
    "# algunos datos dados\n",
    "c_conv = 2204.62\n",
    "rec_AU = 0.88\n",
    "price_AU = 12\n",
    "seilling_AU = 0.2\n",
    "rec_CU = 0.75\n",
    "price_CU = 20\n",
    "seilling_CU = 7.2\n",
    "proc_cost = 4\n",
    "mine_cost = 0.9 # por tonn\n",
    "bv_list_cinetic = list()\n",
    "bv_list_calc = list()\n",
    "economic_value_list = list()\n",
    "economic_value_rec_list = list()\n",
    "with open('marvin_cinetica.upit', 'w') as output, open(block_path, 'r') as bm:\n",
    "    output.write('NAME: marvin\\nTYPE: UPIT\\nNBLOCKS: 53271\\nOBJECTIVE_FUNCTION: \\n')\n",
    "    for i in range(nblocks):\n",
    "        #recuperar datos de bm para calcular valor de cada bloque\n",
    "        linea_bm = bm.readline()\n",
    "        linea_lista = linea_bm.split()\n",
    "        tonn = float(linea_lista[4])\n",
    "        AU = float(linea_lista[5])\n",
    "        CU = float(linea_lista[6])\n",
    "        economic_value = (AU*rec_AU*(price_AU-seilling_AU) + CU*rec[i]/100*(price_CU-seilling_CU)-(mine_cost+proc_cost))*tonn\n",
    "        economic_value_rec = (AU*rec_AU*(price_AU-seilling_AU) + CU*rec_CU*(price_CU-seilling_CU)-(mine_cost+proc_cost))*tonn\n",
    "        economic_value_list.append(economic_value)\n",
    "        economic_value_rec_list.append(economic_value_rec)"
   ]
  },
  {
   "cell_type": "code",
   "execution_count": 39,
   "metadata": {},
   "outputs": [],
   "source": [
    "upit_path = 'C:/Users/Equipo/Desktop/Memoria/Codigos/minelib_inputs/newman1.upit'\n",
    "bv_list = list()\n",
    "with open(upit_path, 'r') as f:\n",
    "    for i in range(4):\n",
    "        f.readline()\n",
    "    for line in f:\n",
    "        if not line == 'EOF\\n':\n",
    "            lista = line.split()\n",
    "            bv_list.append(float(lista[1]))"
   ]
  },
  {
   "cell_type": "code",
   "execution_count": 21,
   "metadata": {
    "collapsed": true
   },
   "outputs": [
    {
     "name": "stdout",
     "output_type": "stream",
     "text": [
      "Optimize a model with 650631 rows, 53271 columns and 1301262 nonzeros\n",
      "Variable types: 0 continuous, 53271 integer (53271 binary)\n",
      "Coefficient statistics:\n",
      "  Matrix range     [1e+00, 1e+00]\n",
      "  Objective range  [1e+00, 1e+06]\n",
      "  Bounds range     [1e+00, 1e+00]\n",
      "  RHS range        [0e+00, 0e+00]\n",
      "Found heuristic solution: objective 3052245.7535\n",
      "Found heuristic solution: objective 2.155104e+07\n",
      "Found heuristic solution: objective 3.447631e+07\n",
      "Presolve removed 583953 rows and 46469 columns (presolve time = 5s) ...\n",
      "Presolve removed 617931 rows and 49095 columns\n",
      "Presolve time: 6.78s\n",
      "Presolved: 32700 rows, 4176 columns, 65400 nonzeros\n",
      "Found heuristic solution: objective 8.477468e+08\n",
      "Variable types: 0 continuous, 4176 integer (4176 binary)\n",
      "\n",
      "Root simplex log...\n",
      "\n",
      "Iteration    Objective       Primal Inf.    Dual Inf.      Time\n",
      "       0    1.5500000e+09   0.000000e+00   4.745000e+03      7s\n",
      "    5515    1.2375244e+09   0.000000e+00   0.000000e+00      7s\n",
      "    5515    1.2375244e+09   0.000000e+00   0.000000e+00      7s\n",
      "    5515    1.2375244e+09   0.000000e+00   0.000000e+00      7s\n",
      "\n",
      "Root relaxation: objective 1.237524e+09, 5515 iterations, 0.19 seconds\n",
      "\n",
      "    Nodes    |    Current Node    |     Objective Bounds      |     Work\n",
      " Expl Unexpl |  Obj  Depth IntInf | Incumbent    BestBd   Gap | It/Node Time\n",
      "\n",
      "*    0     0               0    1.237524e+09 1.2375e+09  0.00%     -    7s\n",
      "\n",
      "Explored 0 nodes (5515 simplex iterations) in 7.34 seconds\n",
      "Thread count was 16 (of 16 available processors)\n",
      "\n",
      "Solution count 5: 1.23752e+09 8.47747e+08 8.23572e+08 ... 8.23572e+08\n",
      "\n",
      "Optimal solution found (tolerance 1.00e-04)\n",
      "Best objective 1.237524416960e+09, best bound 1.237524416960e+09, gap 0.0000%\n"
     ]
    }
   ],
   "source": [
    "# beneficio con recuperacion de Daniel y calculo posterior (economic value)\n",
    "m = Model()\n",
    "# variable de desicion para el modelo\n",
    "x = {}\n",
    "for i in range(nblocks):\n",
    "    x[i] = m.addVar(vtype=GRB.BINARY, name = \"x%d\" % i)\n",
    "m.update()\n",
    "# definir objetivo\n",
    "m.setObjective(quicksum(economic_value_list[i]*x[i] for i in range(nblocks)), GRB.MAXIMIZE)\n",
    "# definir restricciones\n",
    "prec_path = 'C:/Users/Equipo/Desktop/Memoria/Codigos/minelib_inputs/marvin.prec'\n",
    "with open(prec_path, 'r') as f:\n",
    "    for linea in f:\n",
    "        linea_lista = linea.split()\n",
    "        nvecinos = int(linea_lista[1])\n",
    "        u = int(linea_lista[0])\n",
    "        for j in range(nvecinos):\n",
    "            v = int(linea_lista[j+2])\n",
    "            m.addConstr(x[u] <= x[v])\n",
    "m.optimize()"
   ]
  },
  {
   "cell_type": "code",
   "execution_count": 173,
   "metadata": {
    "collapsed": true
   },
   "outputs": [
    {
     "name": "stdout",
     "output_type": "stream",
     "text": [
      "Optimize a model with 650631 rows, 53271 columns and 1301262 nonzeros\n",
      "Variable types: 0 continuous, 53271 integer (53271 binary)\n",
      "Coefficient statistics:\n",
      "  Matrix range     [1e+00, 1e+00]\n",
      "  Objective range  [1e+00, 1e+06]\n",
      "  Bounds range     [1e+00, 1e+00]\n",
      "  RHS range        [0e+00, 0e+00]\n",
      "Found heuristic solution: objective 2732201.5030\n",
      "Found heuristic solution: objective 2.001547e+07\n",
      "Found heuristic solution: objective 3.193380e+07\n",
      "Presolve removed 548375 rows and 43446 columns (presolve time = 5s) ...\n",
      "Presolve removed 587477 rows and 46778 columns (presolve time = 10s) ...\n",
      "Presolve removed 615087 rows and 48834 columns\n",
      "Presolve time: 12.87s\n",
      "Presolved: 35544 rows, 4437 columns, 71088 nonzeros\n",
      "Found heuristic solution: objective 7.832359e+08\n",
      "Variable types: 0 continuous, 4437 integer (4437 binary)\n",
      "Presolve removed 4 rows and 152 columns\n",
      "Presolved: 4433 rows, 39829 columns, 75225 nonzeros\n",
      "\n",
      "Presolve removed 4433 rows and 39829 columns\n",
      "\n",
      "Root simplex log...\n",
      "\n",
      "Iteration    Objective       Primal Inf.    Dual Inf.      Time\n",
      "       0    1.5144549e+09   0.000000e+00   5.000000e+03     13s\n",
      "    5847    1.2038449e+09   0.000000e+00   0.000000e+00     14s\n",
      "    5847    1.2038449e+09   0.000000e+00   0.000000e+00     14s\n",
      "    5847    1.2038449e+09   0.000000e+00   0.000000e+00     14s\n",
      "\n",
      "Root relaxation: objective 1.203845e+09, 5847 iterations, 0.41 seconds\n",
      "\n",
      "    Nodes    |    Current Node    |     Objective Bounds      |     Work\n",
      " Expl Unexpl |  Obj  Depth IntInf | Incumbent    BestBd   Gap | It/Node Time\n",
      "\n",
      "*    0     0               0    1.203845e+09 1.2038e+09 -0.00%     -   13s\n",
      "\n",
      "Explored 0 nodes (5847 simplex iterations) in 13.66 seconds\n",
      "Thread count was 4 (of 4 available processors)\n",
      "\n",
      "Solution count 5: 1.20384e+09 7.83236e+08 7.74491e+08 ... 7.74491e+08\n",
      "No other solutions better than 1.20384e+09\n",
      "\n",
      "Optimal solution found (tolerance 1.00e-04)\n",
      "Best objective 1.203844908196e+09, best bound 1.203844908196e+09, gap 0.0000%\n"
     ]
    }
   ],
   "source": [
    "# beneficio con recuperacion de Daniel y calculo posterior (economic value rec cte)\n",
    "m = Model()\n",
    "# variable de desicion para el modelo\n",
    "x = {}\n",
    "for i in range(nblocks):\n",
    "    x[i] = m.addVar(vtype=GRB.BINARY, name = \"x%d\" % i)\n",
    "m.update()\n",
    "# definir objetivo\n",
    "m.setObjective(quicksum(economic_value_rec_list[i]*x[i] for i in range(nblocks)), GRB.MAXIMIZE)\n",
    "# definir restricciones\n",
    "prec_path = '/Users/administrador2/Desktop/Memoria/Codigos/minelib_inputs/marvin.prec'\n",
    "with open(prec_path, 'r') as f:\n",
    "    for linea in f:\n",
    "        linea_lista = linea.split()\n",
    "        nvecinos = int(linea_lista[1])\n",
    "        u = int(linea_lista[0])\n",
    "        for j in range(nvecinos):\n",
    "            v = int(linea_lista[j+2])\n",
    "            m.addConstr(x[u] <= x[v])\n",
    "m.optimize()"
   ]
  },
  {
   "cell_type": "code",
   "execution_count": 142,
   "metadata": {
    "collapsed": true
   },
   "outputs": [],
   "source": [
    "# recuperar los bloques a sacar\n",
    "indices = [i for i in range(nblocks) if x[i].x == 1]\n",
    "len(indices)"
   ]
  },
  {
   "cell_type": "code",
   "execution_count": 86,
   "metadata": {},
   "outputs": [
    {
     "name": "stdout",
     "output_type": "stream",
     "text": [
      "Optimize a model with 3922 rows, 1060 columns and 7844 nonzeros\n",
      "Variable types: 0 continuous, 1060 integer (1060 binary)\n",
      "Coefficient statistics:\n",
      "  Matrix range     [1e+00, 1e+00]\n",
      "  Objective range  [7e+00, 2e+05]\n",
      "  Bounds range     [1e+00, 1e+00]\n",
      "  RHS range        [0e+00, 0e+00]\n",
      "Found heuristic solution: objective 989307.55494\n",
      "Found heuristic solution: objective 2.608690e+07\n",
      "Presolve removed 3922 rows and 1060 columns\n",
      "Presolve time: 0.02s\n",
      "Presolve: All rows and columns removed\n",
      "\n",
      "Explored 0 nodes (0 simplex iterations) in 0.03 seconds\n",
      "Thread count was 1 (of 16 available processors)\n",
      "\n",
      "Solution count 2: 2.60869e+07 989308 \n",
      "\n",
      "Optimal solution found (tolerance 1.00e-04)\n",
      "Best objective 2.608689902597e+07, best bound 2.608689902597e+07, gap 0.0000%\n"
     ]
    }
   ],
   "source": [
    "# beneficio con valores objetivos dado por .upit\n",
    "m = Model()\n",
    "# variable de desicion para el modelo\n",
    "x = {}\n",
    "for i in range(nblocks):\n",
    "    x[i] = m.addVar(vtype=GRB.BINARY, name = \"x%d\" % i)\n",
    "m.update()\n",
    "# definir objetivo\n",
    "m.setObjective(quicksum(bv_list[i]*x[i] for i in range(nblocks)), GRB.MAXIMIZE)\n",
    "# definir restricciones\n",
    "prec_path = 'C:/Users/Equipo/Desktop/Memoria/Codigos/minelib_inputs/newman1.prec'\n",
    "with open(prec_path, 'r') as f:\n",
    "    for linea in f:\n",
    "        linea_lista = linea.split()\n",
    "        nvecinos = int(linea_lista[1])\n",
    "        u = int(linea_lista[0])\n",
    "        for j in range(nvecinos):\n",
    "            v = int(linea_lista[j+2])\n",
    "            m.addConstr(x[u] <= x[v])\n",
    "m.optimize()\n",
    "# recuperar upit\n",
    "blocks_id = [i for i in range(nblocks) if x[i].x==1] # recuperar upit"
   ]
  },
  {
   "cell_type": "code",
   "execution_count": 67,
   "metadata": {},
   "outputs": [],
   "source": [
    "# obtener funcion objetivo del .pcpsp, para comparar\n",
    "# el resultado del modelo gurobi con el modelo AMPL\n",
    "pcpsp_path = 'C:/Users/Equipo/Desktop/Memoria/Codigos/minelib_inputs/'\n",
    "pcpsp_name = 'newman1.pcpsp'\n",
    "objective_function_pcpsp = {}\n",
    "resource_constraint_ub_limits = {}\n",
    "resource_constraint_lb_limits = {}\n",
    "resource_constraint_coefficients = {}\n",
    "with open(pcpsp_path+pcpsp_name, 'r') as f:\n",
    "    linea = ''\n",
    "    while not linea == 'OBJECTIVE_FUNCTION:\\n':\n",
    "        linea = f.readline()\n",
    "        linea_lista = linea.split()\n",
    "        if linea_lista[0] == 'NBLOCKS:':\n",
    "            dato = linea_lista[1].strip('\\n')\n",
    "            nblocks = int(dato)\n",
    "        elif linea_lista[0] == 'NPERIODS:':\n",
    "            dato = linea_lista[1].strip('\\n')\n",
    "            nperiods = int(dato)\n",
    "        elif linea_lista[0] == 'NDESTINATIONS:':\n",
    "            dato = linea_lista[1].strip('\\n')\n",
    "            ndestinations = int(dato)\n",
    "        elif linea_lista[0] == 'NRESOURCE_SIDE_CONSTRAINTS:':\n",
    "            dato = linea_lista[1].strip('\\n')\n",
    "            nresource_side_constraints = int(dato)\n",
    "        elif linea_lista[0] == 'NGENERAL_SIDE_CONSTRAINTS:':\n",
    "            dato = linea_lista[1].strip('\\n')\n",
    "            ngeneral_side_constraints = int(dato)\n",
    "        elif linea_lista[0] == 'DISCOUNT_RATE:':\n",
    "            dato = linea_lista[1].strip('\\n')\n",
    "            discount_rate = float(dato)\n",
    "        elif linea_lista[0] == 'RESOURCE_CONSTRAINT_LIMITS:':\n",
    "            for r in range(nresource_side_constraints):\n",
    "                for t in range(nperiods):\n",
    "                    linea = f.readline()\n",
    "                    linea_lista = linea.split()\n",
    "                    resource_constraint_ub_limits[r,t] = int(linea_lista[-1])\n",
    "                    resource_constraint_lb_limits[r,t] = '-Infinity'\n",
    "    for line in f:\n",
    "        if line == 'RESOURCE_CONSTRAINT_COEFFICIENTS:\\n':\n",
    "            break\n",
    "        lista_linea = line.split()\n",
    "        b = int(lista_linea[0])\n",
    "        objective_function_pcpsp[b,0] = float(lista_linea[1])\n",
    "        objective_function_pcpsp[b,1] = float(lista_linea[2])\n",
    "    for line in f:\n",
    "        if line == 'EOF\\n':\n",
    "            break\n",
    "        linea_lista = line.split()\n",
    "        b = int(linea_lista[0])\n",
    "        r = int(linea_lista[1])\n",
    "        d = int(linea_lista[2])\n",
    "        resource_constraint_coefficients[b,r,d] = float(linea_lista[3])"
   ]
  },
  {
   "cell_type": "code",
   "execution_count": 82,
   "metadata": {},
   "outputs": [],
   "source": [
    "# llenar con ceros las entradas de resource_constraint_coefficients\n",
    "# que no está definidas\n",
    "for b,r,d in itertools.product(range(nblocks), range(nresource_side_constraints),range(ndestinations)):\n",
    "    if not (b,r,d) in resource_constraint_coefficients:\n",
    "        resource_constraint_coefficients[b,r,d] = 0"
   ]
  },
  {
   "cell_type": "code",
   "execution_count": 87,
   "metadata": {},
   "outputs": [],
   "source": [
    "# pcpsp model\n",
    "m = Model()\n",
    "# definir variables para pcpsp\n",
    "x_pcpsp = {}\n",
    "y = {}\n",
    "for i in blocks_id:\n",
    "    for t in range(nperiods):\n",
    "        x_pcpsp[i,t] = m.addVar(vtype=GRB.BINARY, name = \"x_pcpsp%d\" % i)\n",
    "for i in blocks_id:\n",
    "    for d in range(ndestinations):\n",
    "        for t in range(nperiods):\n",
    "            y[i,d,t] = m.addVar(lb=0, ub=1, vtype=GRB.CONTINUOUS)\n",
    "\n",
    "m.setObjective(quicksum((1.0/(1.0 + discount_date))**t * objective_function_pcpsp[b,d] * y[b,d,t] for t,d,b in itertools.product(range(nperiods), range(ndestinations),blocks_id)), GRB.MAXIMIZE)\n",
    "# restricciones para pcpsp\n",
    "# resource contraints\n",
    "for r in range(nresource_side_constraints):\n",
    "    for t in range(nperiods):\n",
    "        m.addConstr(resource_constraint_lb_limits[r,t] <=quicksum([resource_constraint_coefficients[b,r,d]*y[b,d,t] for b, d in itertools.product(blocks_id,range(ndestinations))])<=resource_constraint_ub_limits[r,t])\n",
    "# "
   ]
  },
  {
   "cell_type": "code",
   "execution_count": 30,
   "metadata": {},
   "outputs": [
    {
     "data": {
      "text/plain": [
       "[(1, 0, 0),\n",
       " (1, 0, 1),\n",
       " (1, 0, 2),\n",
       " (1, 0, 3),\n",
       " (1, 0, 4),\n",
       " (1, 1, 0),\n",
       " (1, 1, 1),\n",
       " (1, 1, 2),\n",
       " (1, 1, 3),\n",
       " (1, 1, 4),\n",
       " (1, 2, 0),\n",
       " (1, 2, 1),\n",
       " (1, 2, 2),\n",
       " (1, 2, 3),\n",
       " (1, 2, 4),\n",
       " (1, 3, 0),\n",
       " (1, 3, 1),\n",
       " (1, 3, 2),\n",
       " (1, 3, 3),\n",
       " (1, 3, 4),\n",
       " (1, 4, 0),\n",
       " (1, 4, 1),\n",
       " (1, 4, 2),\n",
       " (1, 4, 3),\n",
       " (1, 4, 4),\n",
       " (1, 5, 0),\n",
       " (1, 5, 1),\n",
       " (1, 5, 2),\n",
       " (1, 5, 3),\n",
       " (1, 5, 4)]"
      ]
     },
     "execution_count": 30,
     "metadata": {},
     "output_type": "execute_result"
    }
   ],
   "source": [
    "list(itertools.product([1],range(6),range(5)))"
   ]
  }
 ],
 "metadata": {
  "kernelspec": {
   "display_name": "Python 3",
   "language": "python",
   "name": "python3"
  },
  "language_info": {
   "codemirror_mode": {
    "name": "ipython",
    "version": 3
   },
   "file_extension": ".py",
   "mimetype": "text/x-python",
   "name": "python",
   "nbconvert_exporter": "python",
   "pygments_lexer": "ipython3",
   "version": "3.6.3"
  }
 },
 "nbformat": 4,
 "nbformat_minor": 2
}
