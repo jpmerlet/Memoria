{
 "cells": [
  {
   "cell_type": "code",
   "execution_count": 1,
   "metadata": {},
   "outputs": [],
   "source": [
    "import pandas as pd\n",
    "import numpy as np\n",
    "from gurobipy import *"
   ]
  },
  {
   "cell_type": "code",
   "execution_count": 2,
   "metadata": {},
   "outputs": [],
   "source": [
    "# cargar la cinética de recuperacion\n",
    "data_name = 'marvin'\n",
    "cinetica_path = '/Users/administrador2/Desktop/Memoria/Codigos/Daniel_inputs/'\n",
    "block_path = '/Users/administrador2/Desktop/Memoria/Codigos/minelib_inputs/marvin.blocks'\n",
    "cinetica_file = 'REC_MODEL_T240.csv'\n",
    "cinetica_df = pd.read_csv(cinetica_path + cinetica_file)\n",
    "blocks_df = pd.read_csv(block_path, header=None)\n",
    "rec = cinetica_df['rec90'] # panda series para la recuperacion en t=90"
   ]
  },
  {
   "cell_type": "code",
   "execution_count": 6,
   "metadata": {},
   "outputs": [
    {
     "ename": "NameError",
     "evalue": "name 'proc_profit_cinetic' is not defined",
     "output_type": "error",
     "traceback": [
      "\u001b[0;31m---------------------------------------------------------------------------\u001b[0m",
      "\u001b[0;31mNameError\u001b[0m                                 Traceback (most recent call last)",
      "\u001b[0;32m<ipython-input-6-8162af7dbb26>\u001b[0m in \u001b[0;36m<module>\u001b[0;34m()\u001b[0m\n\u001b[1;32m     29\u001b[0m         \u001b[0meconomic_value\u001b[0m \u001b[0;34m=\u001b[0m \u001b[0;34m(\u001b[0m\u001b[0mAU\u001b[0m\u001b[0;34m*\u001b[0m\u001b[0mrec_AU\u001b[0m\u001b[0;34m*\u001b[0m\u001b[0;34m(\u001b[0m\u001b[0mprice_AU\u001b[0m\u001b[0;34m-\u001b[0m\u001b[0mseilling_AU\u001b[0m\u001b[0;34m)\u001b[0m \u001b[0;34m+\u001b[0m \u001b[0mCU\u001b[0m\u001b[0;34m*\u001b[0m\u001b[0mrec\u001b[0m\u001b[0;34m[\u001b[0m\u001b[0mi\u001b[0m\u001b[0;34m]\u001b[0m\u001b[0;34m/\u001b[0m\u001b[0;36m100\u001b[0m\u001b[0;34m*\u001b[0m\u001b[0;34m(\u001b[0m\u001b[0mprice_CU\u001b[0m\u001b[0;34m-\u001b[0m\u001b[0mseilling_CU\u001b[0m\u001b[0;34m)\u001b[0m\u001b[0;34m-\u001b[0m\u001b[0;34m(\u001b[0m\u001b[0mmine_cost\u001b[0m\u001b[0;34m+\u001b[0m\u001b[0mproc_cost\u001b[0m\u001b[0;34m)\u001b[0m\u001b[0;34m)\u001b[0m\u001b[0;34m*\u001b[0m\u001b[0mtonn\u001b[0m\u001b[0;34m\u001b[0m\u001b[0m\n\u001b[1;32m     30\u001b[0m         \u001b[0meconomic_value_rec\u001b[0m \u001b[0;34m=\u001b[0m \u001b[0;34m(\u001b[0m\u001b[0mAU\u001b[0m\u001b[0;34m*\u001b[0m\u001b[0mrec_AU\u001b[0m\u001b[0;34m*\u001b[0m\u001b[0;34m(\u001b[0m\u001b[0mprice_AU\u001b[0m\u001b[0;34m-\u001b[0m\u001b[0mseilling_AU\u001b[0m\u001b[0;34m)\u001b[0m \u001b[0;34m+\u001b[0m \u001b[0mCU\u001b[0m\u001b[0;34m*\u001b[0m\u001b[0mrec_CU\u001b[0m\u001b[0;34m*\u001b[0m\u001b[0;34m(\u001b[0m\u001b[0mprice_CU\u001b[0m\u001b[0;34m-\u001b[0m\u001b[0mseilling_CU\u001b[0m\u001b[0;34m)\u001b[0m\u001b[0;34m-\u001b[0m\u001b[0;34m(\u001b[0m\u001b[0mmine_cost\u001b[0m\u001b[0;34m+\u001b[0m\u001b[0mproc_cost\u001b[0m\u001b[0;34m)\u001b[0m\u001b[0;34m)\u001b[0m\u001b[0;34m*\u001b[0m\u001b[0mtonn\u001b[0m\u001b[0;34m\u001b[0m\u001b[0m\n\u001b[0;32m---> 31\u001b[0;31m         \u001b[0mblock_value_cinetic\u001b[0m \u001b[0;34m=\u001b[0m \u001b[0mproc_profit_cinetic\u001b[0m\u001b[0;34m*\u001b[0m\u001b[0mmine_cost\u001b[0m\u001b[0;34m*\u001b[0m\u001b[0mtonn\u001b[0m\u001b[0;34m\u001b[0m\u001b[0m\n\u001b[0m\u001b[1;32m     32\u001b[0m         \u001b[0mblock_value_calc\u001b[0m \u001b[0;34m=\u001b[0m \u001b[0mproc_profit_calc\u001b[0m\u001b[0;34m*\u001b[0m\u001b[0mmine_cost\u001b[0m\u001b[0;34m*\u001b[0m\u001b[0mtonn\u001b[0m\u001b[0;34m\u001b[0m\u001b[0m\n\u001b[1;32m     33\u001b[0m         \u001b[0mbv_list_cinetic\u001b[0m\u001b[0;34m.\u001b[0m\u001b[0mappend\u001b[0m\u001b[0;34m(\u001b[0m\u001b[0mblock_value_cinetic\u001b[0m\u001b[0;34m)\u001b[0m\u001b[0;34m\u001b[0m\u001b[0m\n",
      "\u001b[0;31mNameError\u001b[0m: name 'proc_profit_cinetic' is not defined"
     ]
    }
   ],
   "source": [
    "# histograma de la recuperacion en el instante 90\n",
    "hist = cinetica_df.hist(column='rec90', bins=5)\n",
    "# calcular nuevos valores de la funcion objetivo\n",
    "# usando la recuperación al dia 90\n",
    "nblocks = blocks_df.shape[0]\n",
    "# algunos datos dados\n",
    "c_conv = 2204.62\n",
    "rec_AU = 0.88\n",
    "price_AU = 12\n",
    "seilling_AU = 0.2\n",
    "rec_CU = 0.75\n",
    "price_CU = 20\n",
    "seilling_CU = 7.2\n",
    "proc_cost = 4\n",
    "mine_cost = 0.9 # por tonn\n",
    "bv_list_cinetic = list()\n",
    "bv_list_calc = list()\n",
    "economic_value_list = list()\n",
    "economic_value_rec_list = list()\n",
    "with open('marvin_cinetica.upit', 'w') as output, open(block_path, 'r') as bm:\n",
    "    output.write('NAME: marvin\\nTYPE: UPIT\\nNBLOCKS: 53271\\nOBJECTIVE_FUNCTION: \\n')\n",
    "    for i in range(nblocks):\n",
    "        #recuperar datos de bm para calcular valor de cada bloque\n",
    "        linea_bm = bm.readline()\n",
    "        linea_lista = linea_bm.split()\n",
    "        tonn = float(linea_lista[4])\n",
    "        AU = float(linea_lista[5])\n",
    "        CU = float(linea_lista[6])\n",
    "        economic_value = (AU*rec_AU*(price_AU-seilling_AU) + CU*rec[i]/100*(price_CU-seilling_CU)-(mine_cost+proc_cost))*tonn\n",
    "        economic_value_rec = (AU*rec_AU*(price_AU-seilling_AU) + CU*rec_CU*(price_CU-seilling_CU)-(mine_cost+proc_cost))*tonn\n",
    "        block_value_cinetic = proc_profit_cinetic*mine_cost*tonn\n",
    "        block_value_calc = proc_profit_calc*mine_cost*tonn\n",
    "        bv_list_cinetic.append(block_value_cinetic)\n",
    "        bv_list_calc.append(block_value_calc)\n",
    "        economic_value_list.append(economic_value)\n",
    "        economic_value_rec_list.append(economic_value_rec)\n",
    "        output.write('%i %f\\n' % (i, block_value))"
   ]
  },
  {
   "cell_type": "code",
   "execution_count": 4,
   "metadata": {},
   "outputs": [],
   "source": [
    "upit_path = '/Users/administrador2/Desktop/Memoria/Codigos/minelib_inputs/marvin.upit'\n",
    "bv_list = list()\n",
    "with open(upit_path, 'r') as f:\n",
    "    for i in range(4):\n",
    "        f.readline()\n",
    "    for line in f:\n",
    "        if not line == 'EOF\\n':\n",
    "            lista = line.split()\n",
    "            bv_list.append(float(lista[1]))"
   ]
  },
  {
   "cell_type": "code",
   "execution_count": 91,
   "metadata": {},
   "outputs": [
    {
     "name": "stdout",
     "output_type": "stream",
     "text": [
      "NAME: Newman1\n",
      "\n",
      "TYPE: PCPSP\n",
      "\n",
      "NBLOCKS: 1060\n",
      "\n",
      "NPERIODS: 6\n",
      "\n",
      "NDESTINATIONS: 2\n",
      "\n",
      "NRESOURCE_SIDE_CONSTRAINTS: 2\n",
      "\n",
      "NGENERAL_SIDE_CONSTRAINTS: 0\n",
      "\n",
      "DISCOUNT_RATE: 0.08\n",
      "\n"
     ]
    }
   ],
   "source": [
    "pcpsp_path = '/Users/administrador2/Desktop/Memoria/Codigos/minelib_inputs/newman1.pcpsp'\n",
    "with open(pcpsp_path, 'r') as f:\n",
    "    for i,linea in enumerate(f):\n",
    "        if split\n",
    "        if i > 6:\n",
    "            break"
   ]
  },
  {
   "cell_type": "code",
   "execution_count": 95,
   "metadata": {},
   "outputs": [
    {
     "data": {
      "text/plain": [
       "84.2149523192683"
      ]
     },
     "execution_count": 95,
     "metadata": {},
     "output_type": "execute_result"
    }
   ],
   "source": [
    "cinetica_df['rec90'].mean()"
   ]
  },
  {
   "cell_type": "code",
   "execution_count": 120,
   "metadata": {
    "collapsed": true
   },
   "outputs": [
    {
     "name": "stdout",
     "output_type": "stream",
     "text": [
      "Optimize a model with 650631 rows, 53271 columns and 1301262 nonzeros\n",
      "Variable types: 0 continuous, 53271 integer (53271 binary)\n",
      "Coefficient statistics:\n",
      "  Matrix range     [1e+00, 1e+00]\n",
      "  Objective range  [1e+00, 1e+08]\n",
      "  Bounds range     [1e+00, 1e+00]\n",
      "  RHS range        [0e+00, 0e+00]\n",
      "Found heuristic solution: objective 7.704371e+08\n",
      "Found heuristic solution: objective 1.664118e+11\n",
      "Presolve removed 525080 rows and 41122 columns (presolve time = 5s) ...\n",
      "Presolve removed 553117 rows and 43058 columns (presolve time = 10s) ...\n",
      "Presolve removed 561343 rows and 44294 columns (presolve time = 16s) ...\n",
      "Presolve removed 580218 rows and 45063 columns\n",
      "Presolve time: 17.62s\n",
      "Presolved: 70413 rows, 8208 columns, 140826 nonzeros\n",
      "Found heuristic solution: objective 1.192366e+11\n",
      "Found heuristic solution: objective 1.739652e+11\n",
      "Variable types: 0 continuous, 8208 integer (8208 binary)\n",
      "Presolved: 8208 rows, 78621 columns, 149034 nonzeros\n",
      "\n",
      "Presolve removed 8208 rows and 78621 columns\n",
      "\n",
      "Root simplex log...\n",
      "\n",
      "Iteration    Objective       Primal Inf.    Dual Inf.      Time\n",
      "       0    1.7511633e+11   0.000000e+00   1.378700e+04     18s\n",
      "    6869    1.7397431e+11   0.000000e+00   0.000000e+00     18s\n",
      "    6869    1.7397431e+11   0.000000e+00   0.000000e+00     18s\n",
      "\n",
      "Root relaxation: objective 1.739743e+11, 6869 iterations, 0.44 seconds\n",
      "\n",
      "    Nodes    |    Current Node    |     Objective Bounds      |     Work\n",
      " Expl Unexpl |  Obj  Depth IntInf | Incumbent    BestBd   Gap | It/Node Time\n",
      "\n",
      "*    0     0               0    1.739743e+11 1.7397e+11 -0.00%     -   18s\n",
      "\n",
      "Explored 0 nodes (6869 simplex iterations) in 18.53 seconds\n",
      "Thread count was 4 (of 4 available processors)\n",
      "\n",
      "Solution count 4: 1.73974e+11 1.73965e+11 1.19237e+11 1.17384e+11 \n",
      "\n",
      "Optimal solution found (tolerance 1.00e-04)\n",
      "Best objective 1.739743099417e+11, best bound 1.739743099417e+11, gap 0.0000%\n"
     ]
    }
   ],
   "source": [
    "# beneficio con recuperacion de Daniel y calculo posterior \n",
    "m = Model()\n",
    "# variable de desicion para el modelo\n",
    "x = {}\n",
    "for i in range(nblocks):\n",
    "    x[i] = m.addVar(vtype=GRB.BINARY, name = \"x%d\" % i)\n",
    "m.update()\n",
    "# definir objetivo\n",
    "m.setObjective(quicksum(bv_list_cinetic[i]*x[i] for i in range(nblocks)), GRB.MAXIMIZE)\n",
    "# definir restricciones\n",
    "prec_path = '/Users/administrador2/Desktop/Memoria/Codigos/minelib_inputs/marvin.prec'\n",
    "with open(prec_path, 'r') as f:\n",
    "    for linea in f:\n",
    "        linea_lista = linea.split()\n",
    "        nvecinos = int(linea_lista[1])\n",
    "        u = int(linea_lista[0])\n",
    "        for j in range(nvecinos):\n",
    "            v = int(linea_lista[j+2])\n",
    "            m.addConstr(x[u] <= x[v])\n",
    "m.optimize()"
   ]
  },
  {
   "cell_type": "code",
   "execution_count": 168,
   "metadata": {},
   "outputs": [
    {
     "name": "stdout",
     "output_type": "stream",
     "text": [
      "Optimize a model with 650631 rows, 53271 columns and 1301262 nonzeros\n",
      "Variable types: 0 continuous, 53271 integer (53271 binary)\n",
      "Coefficient statistics:\n",
      "  Matrix range     [1e+00, 1e+00]\n",
      "  Objective range  [1e+00, 1e+06]\n",
      "  Bounds range     [1e+00, 1e+00]\n",
      "  RHS range        [0e+00, 0e+00]\n",
      "Found heuristic solution: objective 3052245.7535\n",
      "Found heuristic solution: objective 2.155104e+07\n",
      "Found heuristic solution: objective 3.447631e+07\n",
      "Presolve removed 544954 rows and 42950 columns (presolve time = 5s) ...\n",
      "Presolve removed 575834 rows and 45659 columns (presolve time = 10s) ...\n",
      "Presolve removed 617931 rows and 49095 columns\n",
      "Presolve time: 14.77s\n",
      "Presolved: 32700 rows, 4176 columns, 65400 nonzeros\n",
      "Found heuristic solution: objective 8.477468e+08\n",
      "Variable types: 0 continuous, 4176 integer (4176 binary)\n",
      "Presolve removed 2 rows and 4 columns\n",
      "Presolved: 4174 rows, 36872 columns, 69570 nonzeros\n",
      "\n",
      "Presolve removed 4174 rows and 36872 columns\n",
      "\n",
      "Root simplex log...\n",
      "\n",
      "Iteration    Objective       Primal Inf.    Dual Inf.      Time\n",
      "       0    1.5500000e+09   0.000000e+00   4.745000e+03     15s\n",
      "    5515    1.2375244e+09   0.000000e+00   0.000000e+00     15s\n",
      "    5515    1.2375244e+09   0.000000e+00   0.000000e+00     15s\n",
      "    5515    1.2375244e+09   0.000000e+00   0.000000e+00     15s\n",
      "\n",
      "Root relaxation: objective 1.237524e+09, 5515 iterations, 0.34 seconds\n",
      "\n",
      "    Nodes    |    Current Node    |     Objective Bounds      |     Work\n",
      " Expl Unexpl |  Obj  Depth IntInf | Incumbent    BestBd   Gap | It/Node Time\n",
      "\n",
      "*    0     0               0    1.237524e+09 1.2375e+09 -0.00%     -   15s\n",
      "\n",
      "Explored 0 nodes (5515 simplex iterations) in 15.51 seconds\n",
      "Thread count was 4 (of 4 available processors)\n",
      "\n",
      "Solution count 5: 1.23752e+09 8.47747e+08 8.23572e+08 ... 8.23572e+08\n",
      "No other solutions better than 1.23752e+09\n",
      "\n",
      "Optimal solution found (tolerance 1.00e-04)\n",
      "Best objective 1.237524416960e+09, best bound 1.237524416960e+09, gap 0.0000%\n"
     ]
    }
   ],
   "source": [
    "# beneficio con recuperacion de Daniel y calculo posterior (economic value)\n",
    "m = Model()\n",
    "# variable de desicion para el modelo\n",
    "x = {}\n",
    "for i in range(nblocks):\n",
    "    x[i] = m.addVar(vtype=GRB.BINARY, name = \"x%d\" % i)\n",
    "m.update()\n",
    "# definir objetivo\n",
    "m.setObjective(quicksum(economic_value_list[i]*x[i] for i in range(nblocks)), GRB.MAXIMIZE)\n",
    "# definir restricciones\n",
    "prec_path = '/Users/administrador2/Desktop/Memoria/Codigos/minelib_inputs/marvin.prec'\n",
    "with open(prec_path, 'r') as f:\n",
    "    for linea in f:\n",
    "        linea_lista = linea.split()\n",
    "        nvecinos = int(linea_lista[1])\n",
    "        u = int(linea_lista[0])\n",
    "        for j in range(nvecinos):\n",
    "            v = int(linea_lista[j+2])\n",
    "            m.addConstr(x[u] <= x[v])\n",
    "m.optimize()"
   ]
  },
  {
   "cell_type": "code",
   "execution_count": 173,
   "metadata": {},
   "outputs": [
    {
     "name": "stdout",
     "output_type": "stream",
     "text": [
      "Optimize a model with 650631 rows, 53271 columns and 1301262 nonzeros\n",
      "Variable types: 0 continuous, 53271 integer (53271 binary)\n",
      "Coefficient statistics:\n",
      "  Matrix range     [1e+00, 1e+00]\n",
      "  Objective range  [1e+00, 1e+06]\n",
      "  Bounds range     [1e+00, 1e+00]\n",
      "  RHS range        [0e+00, 0e+00]\n",
      "Found heuristic solution: objective 2732201.5030\n",
      "Found heuristic solution: objective 2.001547e+07\n",
      "Found heuristic solution: objective 3.193380e+07\n",
      "Presolve removed 548375 rows and 43446 columns (presolve time = 5s) ...\n",
      "Presolve removed 587477 rows and 46778 columns (presolve time = 10s) ...\n",
      "Presolve removed 615087 rows and 48834 columns\n",
      "Presolve time: 12.87s\n",
      "Presolved: 35544 rows, 4437 columns, 71088 nonzeros\n",
      "Found heuristic solution: objective 7.832359e+08\n",
      "Variable types: 0 continuous, 4437 integer (4437 binary)\n",
      "Presolve removed 4 rows and 152 columns\n",
      "Presolved: 4433 rows, 39829 columns, 75225 nonzeros\n",
      "\n",
      "Presolve removed 4433 rows and 39829 columns\n",
      "\n",
      "Root simplex log...\n",
      "\n",
      "Iteration    Objective       Primal Inf.    Dual Inf.      Time\n",
      "       0    1.5144549e+09   0.000000e+00   5.000000e+03     13s\n",
      "    5847    1.2038449e+09   0.000000e+00   0.000000e+00     14s\n",
      "    5847    1.2038449e+09   0.000000e+00   0.000000e+00     14s\n",
      "    5847    1.2038449e+09   0.000000e+00   0.000000e+00     14s\n",
      "\n",
      "Root relaxation: objective 1.203845e+09, 5847 iterations, 0.41 seconds\n",
      "\n",
      "    Nodes    |    Current Node    |     Objective Bounds      |     Work\n",
      " Expl Unexpl |  Obj  Depth IntInf | Incumbent    BestBd   Gap | It/Node Time\n",
      "\n",
      "*    0     0               0    1.203845e+09 1.2038e+09 -0.00%     -   13s\n",
      "\n",
      "Explored 0 nodes (5847 simplex iterations) in 13.66 seconds\n",
      "Thread count was 4 (of 4 available processors)\n",
      "\n",
      "Solution count 5: 1.20384e+09 7.83236e+08 7.74491e+08 ... 7.74491e+08\n",
      "No other solutions better than 1.20384e+09\n",
      "\n",
      "Optimal solution found (tolerance 1.00e-04)\n",
      "Best objective 1.203844908196e+09, best bound 1.203844908196e+09, gap 0.0000%\n"
     ]
    }
   ],
   "source": [
    "# beneficio con recuperacion de Daniel y calculo posterior (economic value rec cte)\n",
    "m = Model()\n",
    "# variable de desicion para el modelo\n",
    "x = {}\n",
    "for i in range(nblocks):\n",
    "    x[i] = m.addVar(vtype=GRB.BINARY, name = \"x%d\" % i)\n",
    "m.update()\n",
    "# definir objetivo\n",
    "m.setObjective(quicksum(economic_value_rec_list[i]*x[i] for i in range(nblocks)), GRB.MAXIMIZE)\n",
    "# definir restricciones\n",
    "prec_path = '/Users/administrador2/Desktop/Memoria/Codigos/minelib_inputs/marvin.prec'\n",
    "with open(prec_path, 'r') as f:\n",
    "    for linea in f:\n",
    "        linea_lista = linea.split()\n",
    "        nvecinos = int(linea_lista[1])\n",
    "        u = int(linea_lista[0])\n",
    "        for j in range(nvecinos):\n",
    "            v = int(linea_lista[j+2])\n",
    "            m.addConstr(x[u] <= x[v])\n",
    "m.optimize()"
   ]
  },
  {
   "cell_type": "code",
   "execution_count": 142,
   "metadata": {
    "collapsed": true
   },
   "outputs": [],
   "source": [
    "# recuperar los bloques a sacar\n",
    "indices = [i for i in range(nblocks) if x[i].x == 1]\n",
    "len(indices)"
   ]
  },
  {
   "cell_type": "code",
   "execution_count": 114,
   "metadata": {},
   "outputs": [
    {
     "name": "stdout",
     "output_type": "stream",
     "text": [
      "Optimize a model with 650631 rows, 53271 columns and 1301262 nonzeros\n",
      "Variable types: 0 continuous, 53271 integer (53271 binary)\n",
      "Coefficient statistics:\n",
      "  Matrix range     [1e+00, 1e+00]\n",
      "  Objective range  [1e+00, 1e+06]\n",
      "  Bounds range     [1e+00, 1e+00]\n",
      "  RHS range        [0e+00, 0e+00]\n",
      "Found heuristic solution: objective 4704188.9065\n",
      "Found heuristic solution: objective 3.711939e+07\n",
      "Found heuristic solution: objective 7.088859e+07\n",
      "Presolve removed 540808 rows and 42720 columns (presolve time = 5s) ...\n",
      "Presolve removed 583277 rows and 46094 columns (presolve time = 10s) ...\n",
      "Presolve removed 612141 rows and 48472 columns\n",
      "Presolve time: 13.25s\n",
      "Presolved: 38490 rows, 4799 columns, 76980 nonzeros\n",
      "Found heuristic solution: objective 1.117459e+09\n",
      "Variable types: 0 continuous, 4799 integer (4799 binary)\n",
      "Presolve removed 15 rows and 160 columns\n",
      "Presolved: 4784 rows, 43129 columns, 81474 nonzeros\n",
      "\n",
      "Presolve removed 4784 rows and 43129 columns\n",
      "\n",
      "Root simplex log...\n",
      "\n",
      "Iteration    Objective       Primal Inf.    Dual Inf.      Time\n",
      "       0    1.8986582e+09   0.000000e+00   5.519000e+03     14s\n",
      "    5677    1.6286032e+09   0.000000e+00   0.000000e+00     14s\n",
      "    5677    1.6286032e+09   0.000000e+00   0.000000e+00     14s\n",
      "    5677    1.6286032e+09   0.000000e+00   0.000000e+00     14s\n",
      "\n",
      "Root relaxation: objective 1.628603e+09, 5677 iterations, 0.42 seconds\n",
      "\n",
      "    Nodes    |    Current Node    |     Objective Bounds      |     Work\n",
      " Expl Unexpl |  Obj  Depth IntInf | Incumbent    BestBd   Gap | It/Node Time\n",
      "\n",
      "*    0     0               0    1.628603e+09 1.6286e+09 -0.00%     -   13s\n",
      "\n",
      "Explored 0 nodes (5677 simplex iterations) in 14.05 seconds\n",
      "Thread count was 4 (of 4 available processors)\n",
      "\n",
      "Solution count 4: 1.6286e+09 1.11746e+09 1.08471e+09 1.08443e+09 \n",
      "No other solutions better than 1.6286e+09\n",
      "\n",
      "Optimal solution found (tolerance 1.00e-04)\n",
      "Best objective 1.628603191380e+09, best bound 1.628603191380e+09, gap 0.0000%\n"
     ]
    }
   ],
   "source": [
    "# beneficio con recuperacion de minelib y calculo posterior\n",
    "m = Model()\n",
    "# variable de desicion para el modelo\n",
    "x = {}\n",
    "for i in range(nblocks):\n",
    "    x[i] = m.addVar(vtype=GRB.BINARY, name = \"x%d\" % i)\n",
    "m.update()\n",
    "# definir objetivo\n",
    "m.setObjective(quicksum(bv_list_calc[i]*x[i] for i in range(nblocks)), GRB.MAXIMIZE)\n",
    "# definir restricciones\n",
    "prec_path = '/Users/administrador2/Desktop/Memoria/Codigos/minelib_inputs/marvin.prec'\n",
    "with open(prec_path, 'r') as f:\n",
    "    for linea in f:\n",
    "        linea_lista = linea.split()\n",
    "        nvecinos = int(linea_lista[1])\n",
    "        u = int(linea_lista[0])\n",
    "        for j in range(nvecinos):\n",
    "            v = int(linea_lista[j+2])\n",
    "            m.addConstr(x[u] <= x[v])\n",
    "m.optimize()"
   ]
  },
  {
   "cell_type": "code",
   "execution_count": 7,
   "metadata": {},
   "outputs": [
    {
     "name": "stdout",
     "output_type": "stream",
     "text": [
      "Optimize a model with 650631 rows, 53271 columns and 1301262 nonzeros\n",
      "Variable types: 0 continuous, 53271 integer (53271 binary)\n",
      "Coefficient statistics:\n",
      "  Matrix range     [1e+00, 1e+00]\n",
      "  Objective range  [2e-01, 1e+06]\n",
      "  Bounds range     [1e+00, 1e+00]\n",
      "  RHS range        [0e+00, 0e+00]\n",
      "Found heuristic solution: objective 1001434.7422\n",
      "Found heuristic solution: objective 8108630.4111\n",
      "Found heuristic solution: objective 1.119702e+07\n",
      "Presolve removed 541871 rows and 42919 columns (presolve time = 5s) ...\n",
      "Presolve removed 565521 rows and 44839 columns (presolve time = 10s) ...\n",
      "Presolve removed 584268 rows and 46077 columns\n",
      "Presolve time: 14.39s\n",
      "Presolved: 66363 rows, 7194 columns, 132726 nonzeros\n",
      "Found heuristic solution: objective 4.772257e+08\n",
      "Variable types: 0 continuous, 7194 integer (7194 binary)\n",
      "Presolve removed 1 rows and 5 columns\n",
      "Presolved: 7193 rows, 73552 columns, 139911 nonzeros\n",
      "\n",
      "Presolve removed 7193 rows and 73552 columns\n",
      "\n",
      "Root simplex log...\n",
      "\n",
      "Iteration    Objective       Primal Inf.    Dual Inf.      Time\n",
      "       0    1.5285782e+09   0.000000e+00   8.745000e+03     15s\n",
      "    4851    1.4156554e+09   0.000000e+00   0.000000e+00     15s\n",
      "    4851    1.4156554e+09   0.000000e+00   0.000000e+00     15s\n",
      "    4851    1.4156554e+09   0.000000e+00   0.000000e+00     15s\n",
      "\n",
      "Root relaxation: objective 1.415655e+09, 4851 iterations, 0.66 seconds\n",
      "\n",
      "    Nodes    |    Current Node    |     Objective Bounds      |     Work\n",
      " Expl Unexpl |  Obj  Depth IntInf | Incumbent    BestBd   Gap | It/Node Time\n",
      "\n",
      "*    0     0               0    1.415655e+09 1.4157e+09 -0.00%     -   15s\n",
      "\n",
      "Explored 0 nodes (4851 simplex iterations) in 15.66 seconds\n",
      "Thread count was 4 (of 4 available processors)\n",
      "\n",
      "Solution count 5: 1.41566e+09 4.77226e+08 4.50129e+08 ... 4.50129e+08\n",
      "No other solutions better than 1.41566e+09\n",
      "\n",
      "Optimal solution found (tolerance 1.00e-04)\n",
      "Best objective 1.415655436137e+09, best bound 1.415655436137e+09, gap 0.0000%\n"
     ]
    }
   ],
   "source": [
    "# beneficio con valores objetivos dado por .upit\n",
    "m = Model()\n",
    "# variable de desicion para el modelo\n",
    "x = {}\n",
    "for i in range(nblocks):\n",
    "    x[i] = m.addVar(vtype=GRB.BINARY, name = \"x%d\" % i)\n",
    "m.update()\n",
    "# definir objetivo\n",
    "m.setObjective(quicksum(bv_list[i]*x[i] for i in range(nblocks)), GRB.MAXIMIZE)\n",
    "# definir restricciones\n",
    "prec_path = '/Users/administrador2/Desktop/Memoria/Codigos/minelib_inputs/marvin.prec'\n",
    "with open(prec_path, 'r') as f:\n",
    "    for linea in f:\n",
    "        linea_lista = linea.split()\n",
    "        nvecinos = int(linea_lista[1])\n",
    "        u = int(linea_lista[0])\n",
    "        for j in range(nvecinos):\n",
    "            v = int(linea_lista[j+2])\n",
    "            m.addConstr(x[u] <= x[v])\n",
    "m.optimize()"
   ]
  },
  {
   "cell_type": "code",
   "execution_count": 16,
   "metadata": {},
   "outputs": [
    {
     "data": {
      "text/plain": [
       "8516"
      ]
     },
     "execution_count": 16,
     "metadata": {},
     "output_type": "execute_result"
    }
   ],
   "source": [
    "len([x[i] for i in range(nblocks) if x[i].x==1])"
   ]
  },
  {
   "cell_type": "code",
   "execution_count": null,
   "metadata": {
    "collapsed": true
   },
   "outputs": [],
   "source": [
    "# problema de agendamiento para marvin: replica\n",
    "nperiods = 20\n",
    "ndestinations = 2\n",
    "nresource_side_constraints = 2\n",
    "\n",
    "# construccion del modelo\n",
    "m = model()\n",
    "x = {}\n",
    "y = {}\n",
    "for i in range(nblocks):\n",
    "    for t in range(nperiods):\n",
    "        x[i,t] = m.addVar(vtype=GRB.BINARY, name = \"x%d\" % i)"
   ]
  }
 ],
 "metadata": {
  "kernelspec": {
   "display_name": "Python 3",
   "language": "python",
   "name": "python3"
  },
  "language_info": {
   "codemirror_mode": {
    "name": "ipython",
    "version": 3
   },
   "file_extension": ".py",
   "mimetype": "text/x-python",
   "name": "python",
   "nbconvert_exporter": "python",
   "pygments_lexer": "ipython3",
   "version": "3.6.5"
  }
 },
 "nbformat": 4,
 "nbformat_minor": 2
}
