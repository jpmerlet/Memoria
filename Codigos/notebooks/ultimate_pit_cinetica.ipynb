{
 "cells": [
  {
   "cell_type": "code",
   "execution_count": 2,
   "metadata": {
    "collapsed": true
   },
   "outputs": [],
   "source": [
    "import pandas as pd\n",
    "import numpy as np\n",
    "from gurobipy import *"
   ]
  },
  {
   "cell_type": "code",
   "execution_count": 3,
   "metadata": {
    "collapsed": true
   },
   "outputs": [],
   "source": [
    "# cargar la cinética de recuperacion\n",
    "data_name = 'marvin'\n",
    "cinetica_path = 'C:/Users/Equipo/Desktop/Memoria/Codigos/Daniel_inputs/'\n",
    "block_path = 'C:/Users/Equipo/Desktop/Memoria/Codigos/minelib_inputs/newman1.blocks'\n",
    "cinetica_file = 'REC_MODEL_T240.csv'\n",
    "cinetica_df = pd.read_csv(cinetica_path + cinetica_file)\n",
    "blocks_df = pd.read_csv(block_path, header=None)\n",
    "rec = cinetica_df['rec90'] # panda series para la recuperacion en t=90"
   ]
  },
  {
   "cell_type": "code",
   "execution_count": 3,
   "metadata": {
    "collapsed": true
   },
   "outputs": [
    {
     "ename": "ValueError",
     "evalue": "could not convert string to float: 'FRWS'",
     "output_type": "error",
     "traceback": [
      "\u001b[1;31m---------------------------------------------------------------------------\u001b[0m",
      "\u001b[1;31mValueError\u001b[0m                                Traceback (most recent call last)",
      "\u001b[1;32m<ipython-input-3-1a53318049df>\u001b[0m in \u001b[0;36m<module>\u001b[1;34m()\u001b[0m\n\u001b[0;32m     24\u001b[0m         \u001b[0mlinea_bm\u001b[0m \u001b[1;33m=\u001b[0m \u001b[0mbm\u001b[0m\u001b[1;33m.\u001b[0m\u001b[0mreadline\u001b[0m\u001b[1;33m(\u001b[0m\u001b[1;33m)\u001b[0m\u001b[1;33m\u001b[0m\u001b[0m\n\u001b[0;32m     25\u001b[0m         \u001b[0mlinea_lista\u001b[0m \u001b[1;33m=\u001b[0m \u001b[0mlinea_bm\u001b[0m\u001b[1;33m.\u001b[0m\u001b[0msplit\u001b[0m\u001b[1;33m(\u001b[0m\u001b[1;33m)\u001b[0m\u001b[1;33m\u001b[0m\u001b[0m\n\u001b[1;32m---> 26\u001b[1;33m         \u001b[0mtonn\u001b[0m \u001b[1;33m=\u001b[0m \u001b[0mfloat\u001b[0m\u001b[1;33m(\u001b[0m\u001b[0mlinea_lista\u001b[0m\u001b[1;33m[\u001b[0m\u001b[1;36m4\u001b[0m\u001b[1;33m]\u001b[0m\u001b[1;33m)\u001b[0m\u001b[1;33m\u001b[0m\u001b[0m\n\u001b[0m\u001b[0;32m     27\u001b[0m         \u001b[0mAU\u001b[0m \u001b[1;33m=\u001b[0m \u001b[0mfloat\u001b[0m\u001b[1;33m(\u001b[0m\u001b[0mlinea_lista\u001b[0m\u001b[1;33m[\u001b[0m\u001b[1;36m5\u001b[0m\u001b[1;33m]\u001b[0m\u001b[1;33m)\u001b[0m\u001b[1;33m\u001b[0m\u001b[0m\n\u001b[0;32m     28\u001b[0m         \u001b[0mCU\u001b[0m \u001b[1;33m=\u001b[0m \u001b[0mfloat\u001b[0m\u001b[1;33m(\u001b[0m\u001b[0mlinea_lista\u001b[0m\u001b[1;33m[\u001b[0m\u001b[1;36m6\u001b[0m\u001b[1;33m]\u001b[0m\u001b[1;33m)\u001b[0m\u001b[1;33m\u001b[0m\u001b[0m\n",
      "\u001b[1;31mValueError\u001b[0m: could not convert string to float: 'FRWS'"
     ]
    }
   ],
   "source": [
    "# histograma de la recuperacion en el instante 90\n",
    "hist = cinetica_df.hist(column='rec90', bins=5)\n",
    "# calcular nuevos valores de la funcion objetivo\n",
    "# usando la recuperación al dia 90\n",
    "nblocks = blocks_df.shape[0]\n",
    "# algunos datos dados\n",
    "c_conv = 2204.62\n",
    "rec_AU = 0.88\n",
    "price_AU = 12\n",
    "seilling_AU = 0.2\n",
    "rec_CU = 0.75\n",
    "price_CU = 20\n",
    "seilling_CU = 7.2\n",
    "proc_cost = 4\n",
    "mine_cost = 0.9 # por tonn\n",
    "bv_list_cinetic = list()\n",
    "bv_list_calc = list()\n",
    "economic_value_list = list()\n",
    "economic_value_rec_list = list()\n",
    "with open('marvin_cinetica.upit', 'w') as output, open(block_path, 'r') as bm:\n",
    "    output.write('NAME: marvin\\nTYPE: UPIT\\nNBLOCKS: 53271\\nOBJECTIVE_FUNCTION: \\n')\n",
    "    for i in range(nblocks):\n",
    "        #recuperar datos de bm para calcular valor de cada bloque\n",
    "        linea_bm = bm.readline()\n",
    "        linea_lista = linea_bm.split()\n",
    "        tonn = float(linea_lista[4])\n",
    "        AU = float(linea_lista[5])\n",
    "        CU = float(linea_lista[6])\n",
    "        economic_value = (AU*rec_AU*(price_AU-seilling_AU) + CU*rec[i]/100*(price_CU-seilling_CU)-(mine_cost+proc_cost))*tonn\n",
    "        economic_value_rec = (AU*rec_AU*(price_AU-seilling_AU) + CU*rec_CU*(price_CU-seilling_CU)-(mine_cost+proc_cost))*tonn\n",
    "        economic_value_list.append(economic_value)\n",
    "        economic_value_rec_list.append(economic_value_rec)"
   ]
  },
  {
   "cell_type": "code",
   "execution_count": 146,
   "metadata": {
    "collapsed": true
   },
   "outputs": [],
   "source": [
    "upit_path = 'C:/Users/Equipo/Desktop/Memoria/Codigos/minelib_inputs/marvin.upit'\n",
    "bv_list = list()\n",
    "with open(upit_path, 'r') as f:\n",
    "    for i in range(4):\n",
    "        f.readline()\n",
    "    for line in f:\n",
    "        if not line == 'EOF\\n':\n",
    "            lista = line.split()\n",
    "            bv_list.append(float(lista[1]))"
   ]
  },
  {
   "cell_type": "code",
   "execution_count": 21,
   "metadata": {
    "collapsed": true
   },
   "outputs": [
    {
     "name": "stdout",
     "output_type": "stream",
     "text": [
      "Optimize a model with 650631 rows, 53271 columns and 1301262 nonzeros\n",
      "Variable types: 0 continuous, 53271 integer (53271 binary)\n",
      "Coefficient statistics:\n",
      "  Matrix range     [1e+00, 1e+00]\n",
      "  Objective range  [1e+00, 1e+06]\n",
      "  Bounds range     [1e+00, 1e+00]\n",
      "  RHS range        [0e+00, 0e+00]\n",
      "Found heuristic solution: objective 3052245.7535\n",
      "Found heuristic solution: objective 2.155104e+07\n",
      "Found heuristic solution: objective 3.447631e+07\n",
      "Presolve removed 583953 rows and 46469 columns (presolve time = 5s) ...\n",
      "Presolve removed 617931 rows and 49095 columns\n",
      "Presolve time: 6.78s\n",
      "Presolved: 32700 rows, 4176 columns, 65400 nonzeros\n",
      "Found heuristic solution: objective 8.477468e+08\n",
      "Variable types: 0 continuous, 4176 integer (4176 binary)\n",
      "\n",
      "Root simplex log...\n",
      "\n",
      "Iteration    Objective       Primal Inf.    Dual Inf.      Time\n",
      "       0    1.5500000e+09   0.000000e+00   4.745000e+03      7s\n",
      "    5515    1.2375244e+09   0.000000e+00   0.000000e+00      7s\n",
      "    5515    1.2375244e+09   0.000000e+00   0.000000e+00      7s\n",
      "    5515    1.2375244e+09   0.000000e+00   0.000000e+00      7s\n",
      "\n",
      "Root relaxation: objective 1.237524e+09, 5515 iterations, 0.19 seconds\n",
      "\n",
      "    Nodes    |    Current Node    |     Objective Bounds      |     Work\n",
      " Expl Unexpl |  Obj  Depth IntInf | Incumbent    BestBd   Gap | It/Node Time\n",
      "\n",
      "*    0     0               0    1.237524e+09 1.2375e+09  0.00%     -    7s\n",
      "\n",
      "Explored 0 nodes (5515 simplex iterations) in 7.34 seconds\n",
      "Thread count was 16 (of 16 available processors)\n",
      "\n",
      "Solution count 5: 1.23752e+09 8.47747e+08 8.23572e+08 ... 8.23572e+08\n",
      "\n",
      "Optimal solution found (tolerance 1.00e-04)\n",
      "Best objective 1.237524416960e+09, best bound 1.237524416960e+09, gap 0.0000%\n"
     ]
    }
   ],
   "source": [
    "# beneficio con recuperacion de Daniel y calculo posterior (economic value)\n",
    "m = Model()\n",
    "# variable de desicion para el modelo\n",
    "x = {}\n",
    "for i in range(nblocks):\n",
    "    x[i] = m.addVar(vtype=GRB.BINARY, name = \"x%d\" % i)\n",
    "m.update()\n",
    "# definir objetivo\n",
    "m.setObjective(quicksum(economic_value_list[i]*x[i] for i in range(nblocks)), GRB.MAXIMIZE)\n",
    "# definir restricciones\n",
    "prec_path = 'C:/Users/Equipo/Desktop/Memoria/Codigos/minelib_inputs/marvin.prec'\n",
    "with open(prec_path, 'r') as f:\n",
    "    for linea in f:\n",
    "        linea_lista = linea.split()\n",
    "        nvecinos = int(linea_lista[1])\n",
    "        u = int(linea_lista[0])\n",
    "        for j in range(nvecinos):\n",
    "            v = int(linea_lista[j+2])\n",
    "            m.addConstr(x[u] <= x[v])\n",
    "m.optimize()"
   ]
  },
  {
   "cell_type": "code",
   "execution_count": 173,
   "metadata": {
    "collapsed": true
   },
   "outputs": [
    {
     "name": "stdout",
     "output_type": "stream",
     "text": [
      "Optimize a model with 650631 rows, 53271 columns and 1301262 nonzeros\n",
      "Variable types: 0 continuous, 53271 integer (53271 binary)\n",
      "Coefficient statistics:\n",
      "  Matrix range     [1e+00, 1e+00]\n",
      "  Objective range  [1e+00, 1e+06]\n",
      "  Bounds range     [1e+00, 1e+00]\n",
      "  RHS range        [0e+00, 0e+00]\n",
      "Found heuristic solution: objective 2732201.5030\n",
      "Found heuristic solution: objective 2.001547e+07\n",
      "Found heuristic solution: objective 3.193380e+07\n",
      "Presolve removed 548375 rows and 43446 columns (presolve time = 5s) ...\n",
      "Presolve removed 587477 rows and 46778 columns (presolve time = 10s) ...\n",
      "Presolve removed 615087 rows and 48834 columns\n",
      "Presolve time: 12.87s\n",
      "Presolved: 35544 rows, 4437 columns, 71088 nonzeros\n",
      "Found heuristic solution: objective 7.832359e+08\n",
      "Variable types: 0 continuous, 4437 integer (4437 binary)\n",
      "Presolve removed 4 rows and 152 columns\n",
      "Presolved: 4433 rows, 39829 columns, 75225 nonzeros\n",
      "\n",
      "Presolve removed 4433 rows and 39829 columns\n",
      "\n",
      "Root simplex log...\n",
      "\n",
      "Iteration    Objective       Primal Inf.    Dual Inf.      Time\n",
      "       0    1.5144549e+09   0.000000e+00   5.000000e+03     13s\n",
      "    5847    1.2038449e+09   0.000000e+00   0.000000e+00     14s\n",
      "    5847    1.2038449e+09   0.000000e+00   0.000000e+00     14s\n",
      "    5847    1.2038449e+09   0.000000e+00   0.000000e+00     14s\n",
      "\n",
      "Root relaxation: objective 1.203845e+09, 5847 iterations, 0.41 seconds\n",
      "\n",
      "    Nodes    |    Current Node    |     Objective Bounds      |     Work\n",
      " Expl Unexpl |  Obj  Depth IntInf | Incumbent    BestBd   Gap | It/Node Time\n",
      "\n",
      "*    0     0               0    1.203845e+09 1.2038e+09 -0.00%     -   13s\n",
      "\n",
      "Explored 0 nodes (5847 simplex iterations) in 13.66 seconds\n",
      "Thread count was 4 (of 4 available processors)\n",
      "\n",
      "Solution count 5: 1.20384e+09 7.83236e+08 7.74491e+08 ... 7.74491e+08\n",
      "No other solutions better than 1.20384e+09\n",
      "\n",
      "Optimal solution found (tolerance 1.00e-04)\n",
      "Best objective 1.203844908196e+09, best bound 1.203844908196e+09, gap 0.0000%\n"
     ]
    }
   ],
   "source": [
    "# beneficio con recuperacion de Daniel y calculo posterior (economic value rec cte)\n",
    "m = Model()\n",
    "# variable de desicion para el modelo\n",
    "x = {}\n",
    "for i in range(nblocks):\n",
    "    x[i] = m.addVar(vtype=GRB.BINARY, name = \"x%d\" % i)\n",
    "m.update()\n",
    "# definir objetivo\n",
    "m.setObjective(quicksum(economic_value_rec_list[i]*x[i] for i in range(nblocks)), GRB.MAXIMIZE)\n",
    "# definir restricciones\n",
    "prec_path = '/Users/administrador2/Desktop/Memoria/Codigos/minelib_inputs/marvin.prec'\n",
    "with open(prec_path, 'r') as f:\n",
    "    for linea in f:\n",
    "        linea_lista = linea.split()\n",
    "        nvecinos = int(linea_lista[1])\n",
    "        u = int(linea_lista[0])\n",
    "        for j in range(nvecinos):\n",
    "            v = int(linea_lista[j+2])\n",
    "            m.addConstr(x[u] <= x[v])\n",
    "m.optimize()"
   ]
  },
  {
   "cell_type": "code",
   "execution_count": 74,
   "metadata": {},
   "outputs": [
    {
     "name": "stdout",
     "output_type": "stream",
     "text": [
      "Data base name: Zuck_small\n",
      "NBLOCKS: 9400\n",
      "NPERIODS: 20\n",
      "NDESTINATIONS: 2\n",
      "NRESOURCE_SIDE_CONSTRAINTS: 2\n",
      "NGENERAL_SIDE_CONSTRAINTS: 0\n",
      "DISCOUNT_RATE: 0.10\n"
     ]
    }
   ],
   "source": [
    "# obtener funcion objetivo del .pcpsp, para comparar\n",
    "# el resultado del modelo gurobi con el modelo AMPL\n",
    "data_name = 'zuck_small'\n",
    "pcpsp_path = 'C:/Users/Equipo/Desktop/Memoria/Codigos/minelib_inputs/' + data_name + '.pcpsp'\n",
    "prec_path = 'C:/Users/Equipo/Desktop/Memoria/Codigos/minelib_inputs/' + data_name + '.prec'\n",
    "upit_path = 'C:/Users/Equipo/Desktop/Memoria/Codigos/minelib_inputs/'+ data_name + '.upit'\n",
    "objective_function_pcpsp = {}\n",
    "resource_constraint_ub_limits = {}\n",
    "resource_constraint_lb_limits = {}\n",
    "resource_constraint_coefficients = {}\n",
    "with open(pcpsp_path, 'r') as f:\n",
    "    for linea in f:\n",
    "        linea_lista = linea.split()\n",
    "        if linea_lista[0] == 'NAME:':\n",
    "            dato = linea_lista[1].strip('\\n')\n",
    "            name = dato\n",
    "        elif linea_lista[0] == 'NBLOCKS:':\n",
    "            dato = linea_lista[1].strip('\\n')\n",
    "            nblocks = int(dato)\n",
    "        elif linea_lista[0] == 'NPERIODS:':\n",
    "            dato = linea_lista[1].strip('\\n')\n",
    "            nperiods = int(dato)\n",
    "        elif linea_lista[0] == 'NDESTINATIONS:':\n",
    "            dato = linea_lista[1].strip('\\n')\n",
    "            ndestinations = int(dato)\n",
    "        elif linea_lista[0] == 'NRESOURCE_SIDE_CONSTRAINTS:':\n",
    "            dato = linea_lista[1].strip('\\n')\n",
    "            nresource_side_constraints = int(dato)\n",
    "        elif linea_lista[0] == 'NGENERAL_SIDE_CONSTRAINTS:':\n",
    "            dato = linea_lista[1].strip('\\n')\n",
    "            ngeneral_side_constraints = int(dato)\n",
    "        elif linea_lista[0] == 'DISCOUNT_RATE:':\n",
    "            dato = linea_lista[1].strip('\\n')\n",
    "            discount_rate = float(dato)\n",
    "        elif linea_lista[0] == 'RESOURCE_CONSTRAINT_LIMITS:':\n",
    "            for r in range(nresource_side_constraints):\n",
    "                for t in range(nperiods):\n",
    "                    linea = f.readline()\n",
    "                    lista = linea.split()\n",
    "                    resource_constraint_ub_limits[r,t] = int(lista[-1])\n",
    "                    resource_constraint_lb_limits[r,t] = '-Infinity' # falta hacer para el caso general\n",
    "    \n",
    "        elif linea_lista[0] == 'OBJECTIVE_FUNCTION:':\n",
    "            for b in range(nblocks):\n",
    "                linea = f.readline()\n",
    "                lista= linea.split()\n",
    "                objective_function_pcpsp[b,0] = float(lista[1])\n",
    "                objective_function_pcpsp[b,1] = float(lista[2])\n",
    "        elif linea_lista[0] == 'RESOURCE_CONSTRAINT_COEFFICIENTS:':\n",
    "                for linea in f:\n",
    "                    if linea == 'EOF\\n':\n",
    "                        break\n",
    "                    lista = linea.split()\n",
    "                    b = int(lista[0])\n",
    "                    d = int(lista[1])\n",
    "                    r = int(lista[2])\n",
    "                    resource_constraint_coefficients[b,r,d] = float(lista[3])\n",
    "\n",
    "# llenar con ceros las entradas de resource_constraint_coefficients\n",
    "# que no está definidas\n",
    "for b,r,d in itertools.product(range(nblocks), range(nresource_side_constraints),range(ndestinations)):\n",
    "    if not (b,r,d) in resource_constraint_coefficients:\n",
    "        resource_constraint_coefficients[b,r,d] = 0\n",
    "\n",
    "print('Data base name: %s' % (name))\n",
    "print('NBLOCKS: %d' % nblocks)\n",
    "print('NPERIODS: %d' % nperiods)\n",
    "print('NDESTINATIONS: %d' % ndestinations)\n",
    "print('NRESOURCE_SIDE_CONSTRAINTS: %d' % nresource_side_constraints)\n",
    "print('NGENERAL_SIDE_CONSTRAINTS: %d' % ngeneral_side_constraints)\n",
    "print('DISCOUNT_RATE: %.2f' % discount_rate)"
   ]
  },
  {
   "cell_type": "code",
   "execution_count": 77,
   "metadata": {},
   "outputs": [],
   "source": [
    "bv_list = list() # block value list\n",
    "with open(upit_path, 'r') as f:\n",
    "    for i in range(4):\n",
    "        f.readline()\n",
    "    for line in f:\n",
    "        if not line == 'EOF\\n':\n",
    "            lista = line.split()\n",
    "            bv_list.append(float(lista[1]))"
   ]
  },
  {
   "cell_type": "code",
   "execution_count": 78,
   "metadata": {},
   "outputs": [
    {
     "name": "stdout",
     "output_type": "stream",
     "text": [
      "Optimize a model with 145640 rows, 9400 columns and 291280 nonzeros\n",
      "Variable types: 0 continuous, 9400 integer (9400 binary)\n",
      "Coefficient statistics:\n",
      "  Matrix range     [1e+00, 1e+00]\n",
      "  Objective range  [9e-03, 1e+06]\n",
      "  Bounds range     [1e+00, 1e+00]\n",
      "  RHS range        [0e+00, 0e+00]\n",
      "Found heuristic solution: objective 1.060450e+07\n",
      "Found heuristic solution: objective 1.422727e+09\n",
      "Presolve removed 66154 rows and 2871 columns\n",
      "Presolve time: 4.77s\n",
      "Presolved: 79486 rows, 6529 columns, 158972 nonzeros\n",
      "Found heuristic solution: objective 7.526241e+08\n",
      "Variable types: 0 continuous, 6529 integer (6529 binary)\n",
      "\n",
      "Root simplex log...\n",
      "\n",
      "Iteration    Objective       Primal Inf.    Dual Inf.      Time\n",
      "    6581    1.4253184e+09   0.000000e+00   4.390000e+02      5s\n",
      "    7086    1.4227269e+09   0.000000e+00   0.000000e+00      5s\n",
      "\n",
      "Root relaxation: cutoff, 7086 iterations, 0.22 seconds\n",
      "\n",
      "    Nodes    |    Current Node    |     Objective Bounds      |     Work\n",
      " Expl Unexpl |  Obj  Depth IntInf | Incumbent    BestBd   Gap | It/Node Time\n",
      "\n",
      "     0     0     cutoff    0      1.4227e+09 1.4227e+09  0.00%     -    5s\n",
      "\n",
      "Explored 0 nodes (7086 simplex iterations) in 5.08 seconds\n",
      "Thread count was 16 (of 16 available processors)\n",
      "\n",
      "Solution count 3: 1.42273e+09 7.52624e+08 7.25717e+08 \n",
      "\n",
      "Optimal solution found (tolerance 1.00e-04)\n",
      "Best objective 1.422726897735e+09, best bound 1.422726897735e+09, gap 0.0000%\n",
      "UPIT BLOCKS: 9399\n"
     ]
    }
   ],
   "source": [
    "# beneficio con valores objetivos dado por .upit\n",
    "m = Model()\n",
    "# variable de desicion para el modelo\n",
    "x = {}\n",
    "for i in range(nblocks):\n",
    "    x[i] = m.addVar(vtype=GRB.BINARY, name = \"x%d\" % i)\n",
    "m.update()\n",
    "# definir objetivo\n",
    "m.setObjective(LinExpr([bv_list[i]for i in range(nblocks)], [x[i] for i in range(nblocks)]), GRB.MAXIMIZE)\n",
    "# definir restricciones\n",
    "with open(prec_path, 'r') as f:\n",
    "    for linea in f:\n",
    "        linea_lista = linea.split()\n",
    "        nvecinos = int(linea_lista[1])\n",
    "        u = int(linea_lista[0])\n",
    "        for j in range(nvecinos):\n",
    "            v = int(linea_lista[j+2])\n",
    "            m.addConstr(x[u] <= x[v])\n",
    "m.optimize()\n",
    "# recuperar upit\n",
    "blocks_id = [i for i in range(nblocks) if x[i].x==1] # recuperar upit\n",
    "print('UPIT BLOCKS: %d' % len(blocks_id))"
   ]
  },
  {
   "cell_type": "code",
   "execution_count": 83,
   "metadata": {},
   "outputs": [],
   "source": [
    "# pcpsp model: variables y restricciones\n",
    "m = Model()\n",
    "# definir variables para pcpsp\n",
    "x_pcpsp = {}\n",
    "y = {}\n",
    "blocks = blocks_id\n",
    "for i in blocks:\n",
    "    for t in range(nperiods):\n",
    "        x_pcpsp[i,t] = m.addVar(vtype=GRB.BINARY, name = \"x_pcpsp%d\" % i)\n",
    "for i in blocks:\n",
    "    for d in range(ndestinations):\n",
    "        for t in range(nperiods):\n",
    "            y[i,d,t] = m.addVar(lb=0, ub=1, vtype=GRB.CONTINUOUS)\n",
    "\n",
    "indices = list(itertools.product(range(nperiods), range(ndestinations),blocks))\n",
    "objetivo_expr = LinExpr([(1.0/(1.0 + discount_rate))**t * objective_function_pcpsp[b,d] for t,d,b in indices],\n",
    "                   [y[b,d,t] for t,d,b in indices])\n",
    "m.setObjective(objetivo_expr, GRB.MAXIMIZE)\n",
    "#m.setObjective(quicksum([(1.0/(1.0 + discount_rate))**t * objective_function_pcpsp[b,d] * y[b,d,t] for t,d,b in itertools.product(range(nperiods), range(ndestinations),blocks_id)]), GRB.MAXIMIZE)\n",
    "# restricciones para pcpsp\n",
    "# resource contraints\n",
    "for r in range(nresource_side_constraints):\n",
    "    for t in range(nperiods):\n",
    "        blockTimesDest = list(itertools.product(blocks,range(ndestinations)))\n",
    "        resource = LinExpr([resource_constraint_coefficients[b,r,d] for b,d in blockTimesDest], \n",
    "                           [y[b,d,t] for b,d in blockTimesDest])\n",
    "        #m.addConstr(resource_constraint_lb_limits[r,t] <=\n",
    "        #            quicksum([resource_constraint_coefficients[b,r,d]*y[b,d,t] for b, d in blockTimesDest])\n",
    "        #            <=resource_constraint_ub_limits[r,t])\n",
    "        m.addConstr(resource_constraint_lb_limits[r,t] <=\n",
    "                   resource <= resource_constraint_ub_limits[r,t])\n",
    "# CliqueBlock\n",
    "for b in blocks:\n",
    "    m.addConstr(LinExpr([1 for t in range(nperiods)], [x_pcpsp[b,t] for t in range(nperiods)])<=1)\n",
    "# SumDest\n",
    "for b in blocks:\n",
    "    for t in range(nperiods):\n",
    "        m.addConstr(LinExpr([1 for d in range(ndestinations)], [y[b,d,t] for d in range(ndestinations)])==x_pcpsp[b,t])\n",
    "# Precedence\n",
    "with open(prec_path, 'r') as f:\n",
    "    for linea in f:\n",
    "        linea_lista = linea.split()\n",
    "        nvecinos = int(linea_lista[1])\n",
    "        b = int(linea_lista[0])\n",
    "        if b in blocks: # solo agregar precedencia para b in UPIT\n",
    "            for j in range(nvecinos):\n",
    "                v = int(linea_lista[j+2])\n",
    "                for t in range(nperiods):\n",
    "                    m.addConstr(LinExpr([1 for s in range(t+1)], [x_pcpsp[b,s] for s in range(t+1)]) <= LinExpr( [1 for s in range(t+1)], [x_pcpsp[v,s] for s in range(t+1)]))"
   ]
  },
  {
   "cell_type": "code",
   "execution_count": null,
   "metadata": {},
   "outputs": [
    {
     "name": "stdout",
     "output_type": "stream",
     "text": [
      "Optimize a model with 3109579 rows, 563940 columns and 62380400 nonzeros\n",
      "Variable types: 375960 continuous, 187980 integer (187980 binary)\n",
      "Coefficient statistics:\n",
      "  Matrix range     [3e-01, 7e+04]\n",
      "  Objective range  [1e-03, 1e+06]\n",
      "  Bounds range     [1e+00, 1e+00]\n",
      "  RHS range        [1e+00, 6e+07]\n",
      "Found heuristic solution: objective -0.0000000\n",
      "Presolve removed 0 rows and 90820 columns (presolve time = 15s) ...\n",
      "Presolve removed 9180 rows and 100000 columns (presolve time = 21s) ...\n",
      "Presolve removed 90820 rows and 181640 columns (presolve time = 25s) ...\n",
      "Presolve removed 90820 rows and 181640 columns (presolve time = 30s) ...\n",
      "Presolve removed 90820 rows and 181640 columns (presolve time = 35s) ...\n",
      "Presolve removed 90820 rows and 181640 columns (presolve time = 40s) ...\n",
      "Presolve removed 90820 rows and 181640 columns (presolve time = 45s) ...\n",
      "Presolve removed 90820 rows and 181640 columns (presolve time = 50s) ...\n",
      "Presolve removed 90820 rows and 181640 columns (presolve time = 55s) ...\n",
      "Presolve removed 90820 rows and 181640 columns (presolve time = 60s) ...\n",
      "Presolve removed 90820 rows and 181640 columns (presolve time = 65s) ...\n",
      "Presolve removed 90820 rows and 181640 columns (presolve time = 70s) ...\n",
      "Presolve removed 90820 rows and 181640 columns (presolve time = 84s) ...\n",
      "Presolve removed 90820 rows and 181640 columns (presolve time = 85s) ...\n",
      "Presolve removed 90820 rows and 181640 columns (presolve time = 92s) ...\n",
      "Presolve removed 90820 rows and 181640 columns (presolve time = 97s) ...\n",
      "Presolve removed 90820 rows and 181640 columns (presolve time = 100s) ...\n",
      "Presolve removed 90820 rows and 181640 columns (presolve time = 105s) ...\n",
      "Presolve removed 90820 rows and 181640 columns (presolve time = 110s) ...\n",
      "Presolve removed 90820 rows and 181640 columns (presolve time = 115s) ...\n",
      "Presolve removed 100194 rows and 181640 columns (presolve time = 137s) ...\n",
      "Presolve removed 100194 rows and 181646 columns (presolve time = 147s) ...\n",
      "Presolve removed 100253 rows and 181646 columns (presolve time = 172s) ...\n",
      "Presolve removed 90879 rows and 172272 columns\n",
      "Presolve time: 172.10s\n",
      "Presolved: 3018700 rows, 391668 columns, 56492795 nonzeros\n",
      "Variable types: 194316 continuous, 197352 integer (197352 binary)\n",
      "\n"
     ]
    },
    {
     "ename": "KeyboardInterrupt",
     "evalue": "",
     "output_type": "error",
     "traceback": [
      "\u001b[1;31m---------------------------------------------------------------------------\u001b[0m",
      "\u001b[1;31mKeyboardInterrupt\u001b[0m                         Traceback (most recent call last)",
      "\u001b[1;32m~\\Anaconda3\\lib\\site-packages\\ipykernel\\iostream.py\u001b[0m in \u001b[0;36mwrite\u001b[1;34m(self, string)\u001b[0m\n\u001b[0;32m    350\u001b[0m             \u001b[0mis_child\u001b[0m \u001b[1;33m=\u001b[0m \u001b[1;33m(\u001b[0m\u001b[1;32mnot\u001b[0m \u001b[0mself\u001b[0m\u001b[1;33m.\u001b[0m\u001b[0m_is_master_process\u001b[0m\u001b[1;33m(\u001b[0m\u001b[1;33m)\u001b[0m\u001b[1;33m)\u001b[0m\u001b[1;33m\u001b[0m\u001b[0m\n\u001b[0;32m    351\u001b[0m             \u001b[1;31m# only touch the buffer in the IO thread to avoid races\u001b[0m\u001b[1;33m\u001b[0m\u001b[1;33m\u001b[0m\u001b[0m\n\u001b[1;32m--> 352\u001b[1;33m             \u001b[0mself\u001b[0m\u001b[1;33m.\u001b[0m\u001b[0mpub_thread\u001b[0m\u001b[1;33m.\u001b[0m\u001b[0mschedule\u001b[0m\u001b[1;33m(\u001b[0m\u001b[1;32mlambda\u001b[0m \u001b[1;33m:\u001b[0m \u001b[0mself\u001b[0m\u001b[1;33m.\u001b[0m\u001b[0m_buffer\u001b[0m\u001b[1;33m.\u001b[0m\u001b[0mwrite\u001b[0m\u001b[1;33m(\u001b[0m\u001b[0mstring\u001b[0m\u001b[1;33m)\u001b[0m\u001b[1;33m)\u001b[0m\u001b[1;33m\u001b[0m\u001b[0m\n\u001b[0m\u001b[0;32m    353\u001b[0m             \u001b[1;32mif\u001b[0m \u001b[0mis_child\u001b[0m\u001b[1;33m:\u001b[0m\u001b[1;33m\u001b[0m\u001b[0m\n\u001b[0;32m    354\u001b[0m                 \u001b[1;31m# newlines imply flush in subprocesses\u001b[0m\u001b[1;33m\u001b[0m\u001b[1;33m\u001b[0m\u001b[0m\n",
      "\u001b[1;32m~\\Anaconda3\\lib\\site-packages\\ipykernel\\iostream.py\u001b[0m in \u001b[0;36mschedule\u001b[1;34m(self, f)\u001b[0m\n\u001b[0;32m    188\u001b[0m                 \u001b[0mevent_id\u001b[0m \u001b[1;33m=\u001b[0m \u001b[0mos\u001b[0m\u001b[1;33m.\u001b[0m\u001b[0murandom\u001b[0m\u001b[1;33m(\u001b[0m\u001b[1;36m16\u001b[0m\u001b[1;33m)\u001b[0m\u001b[1;33m\u001b[0m\u001b[0m\n\u001b[0;32m    189\u001b[0m             \u001b[0mself\u001b[0m\u001b[1;33m.\u001b[0m\u001b[0m_events\u001b[0m\u001b[1;33m[\u001b[0m\u001b[0mevent_id\u001b[0m\u001b[1;33m]\u001b[0m \u001b[1;33m=\u001b[0m \u001b[0mf\u001b[0m\u001b[1;33m\u001b[0m\u001b[0m\n\u001b[1;32m--> 190\u001b[1;33m             \u001b[0mself\u001b[0m\u001b[1;33m.\u001b[0m\u001b[0m_event_pipe\u001b[0m\u001b[1;33m.\u001b[0m\u001b[0msend\u001b[0m\u001b[1;33m(\u001b[0m\u001b[0mevent_id\u001b[0m\u001b[1;33m)\u001b[0m\u001b[1;33m\u001b[0m\u001b[0m\n\u001b[0m\u001b[0;32m    191\u001b[0m         \u001b[1;32melse\u001b[0m\u001b[1;33m:\u001b[0m\u001b[1;33m\u001b[0m\u001b[0m\n\u001b[0;32m    192\u001b[0m             \u001b[0mf\u001b[0m\u001b[1;33m(\u001b[0m\u001b[1;33m)\u001b[0m\u001b[1;33m\u001b[0m\u001b[0m\n",
      "\u001b[1;32mzmq/backend/cython/socket.pyx\u001b[0m in \u001b[0;36mzmq.backend.cython.socket.Socket.send (zmq\\backend\\cython\\socket.c:7305)\u001b[1;34m()\u001b[0m\n",
      "\u001b[1;32mzmq/backend/cython/socket.pyx\u001b[0m in \u001b[0;36mzmq.backend.cython.socket.Socket.send (zmq\\backend\\cython\\socket.c:7048)\u001b[1;34m()\u001b[0m\n",
      "\u001b[1;32mzmq/backend/cython/socket.pyx\u001b[0m in \u001b[0;36mzmq.backend.cython.socket._send_copy (zmq\\backend\\cython\\socket.c:2920)\u001b[1;34m()\u001b[0m\n",
      "\u001b[1;32m~\\Anaconda3\\lib\\site-packages\\zmq\\backend\\cython\\checkrc.pxd\u001b[0m in \u001b[0;36mzmq.backend.cython.checkrc._check_rc (zmq\\backend\\cython\\socket.c:9621)\u001b[1;34m()\u001b[0m\n",
      "\u001b[1;31mKeyboardInterrupt\u001b[0m: "
     ]
    },
    {
     "name": "stdout",
     "output_type": "stream",
     "text": [
      "Root simplex log...\n",
      "\n",
      "Iteration    Objective       Primal Inf.    Dual Inf.      Time\n",
      "       0    9.9750293e+09   0.000000e+00   5.945436e+08    209s\n"
     ]
    },
    {
     "name": "stderr",
     "output_type": "stream",
     "text": [
      "Exception ignored in: 'gurobipy.logcallbackstub'\n",
      "Traceback (most recent call last):\n",
      "  File \"C:\\Users\\Equipo\\Anaconda3\\lib\\site-packages\\ipykernel\\iostream.py\", line 352, in write\n",
      "    self.pub_thread.schedule(lambda : self._buffer.write(string))\n",
      "  File \"C:\\Users\\Equipo\\Anaconda3\\lib\\site-packages\\ipykernel\\iostream.py\", line 190, in schedule\n",
      "    self._event_pipe.send(event_id)\n",
      "  File \"zmq/backend/cython/socket.pyx\", line 636, in zmq.backend.cython.socket.Socket.send (zmq\\backend\\cython\\socket.c:7305)\n",
      "  File \"zmq/backend/cython/socket.pyx\", line 683, in zmq.backend.cython.socket.Socket.send (zmq\\backend\\cython\\socket.c:7048)\n",
      "  File \"zmq/backend/cython/socket.pyx\", line 201, in zmq.backend.cython.socket._send_copy (zmq\\backend\\cython\\socket.c:2920)\n",
      "  File \"zmq/backend/cython/checkrc.pxd\", line 12, in zmq.backend.cython.checkrc._check_rc (zmq\\backend\\cython\\socket.c:9621)\n",
      "    PyErr_CheckSignals()\n",
      "KeyboardInterrupt\n"
     ]
    },
    {
     "name": "stdout",
     "output_type": "stream",
     "text": [
      "    9378    3.6580762e+09   0.000000e+00   3.319139e+08    211s\n",
      "   10359    3.1928085e+09   0.000000e+00   1.234967e+08    215s\n"
     ]
    },
    {
     "ename": "KeyboardInterrupt",
     "evalue": "",
     "output_type": "error",
     "traceback": [
      "\u001b[1;31m---------------------------------------------------------------------------\u001b[0m",
      "\u001b[1;31mKeyboardInterrupt\u001b[0m                         Traceback (most recent call last)",
      "\u001b[1;32m~\\Anaconda3\\lib\\site-packages\\ipykernel\\iostream.py\u001b[0m in \u001b[0;36mwrite\u001b[1;34m(self, string)\u001b[0m\n\u001b[0;32m    341\u001b[0m \u001b[1;33m\u001b[0m\u001b[0m\n\u001b[0;32m    342\u001b[0m     \u001b[1;32mdef\u001b[0m \u001b[0mwrite\u001b[0m\u001b[1;33m(\u001b[0m\u001b[0mself\u001b[0m\u001b[1;33m,\u001b[0m \u001b[0mstring\u001b[0m\u001b[1;33m)\u001b[0m\u001b[1;33m:\u001b[0m\u001b[1;33m\u001b[0m\u001b[0m\n\u001b[1;32m--> 343\u001b[1;33m         \u001b[1;32mif\u001b[0m \u001b[0mself\u001b[0m\u001b[1;33m.\u001b[0m\u001b[0mpub_thread\u001b[0m \u001b[1;32mis\u001b[0m \u001b[1;32mNone\u001b[0m\u001b[1;33m:\u001b[0m\u001b[1;33m\u001b[0m\u001b[0m\n\u001b[0m\u001b[0;32m    344\u001b[0m             \u001b[1;32mraise\u001b[0m \u001b[0mValueError\u001b[0m\u001b[1;33m(\u001b[0m\u001b[1;34m'I/O operation on closed file'\u001b[0m\u001b[1;33m)\u001b[0m\u001b[1;33m\u001b[0m\u001b[0m\n\u001b[0;32m    345\u001b[0m         \u001b[1;32melse\u001b[0m\u001b[1;33m:\u001b[0m\u001b[1;33m\u001b[0m\u001b[0m\n",
      "\u001b[1;31mKeyboardInterrupt\u001b[0m: "
     ]
    },
    {
     "name": "stderr",
     "output_type": "stream",
     "text": [
      "Exception ignored in: 'gurobipy.logcallbackstub'\n"
     ]
    },
    {
     "name": "stdout",
     "output_type": "stream",
     "text": [
      "Warning: 1 variables dropped from basis\n",
      "Warning: switch to quad precision\n",
      "   11965    2.9676609e+09   0.000000e+00   8.574671e+07    228s\n"
     ]
    },
    {
     "name": "stderr",
     "output_type": "stream",
     "text": [
      "Traceback (most recent call last):\n",
      "  File \"C:\\Users\\Equipo\\Anaconda3\\lib\\site-packages\\ipykernel\\iostream.py\", line 343, in write\n",
      "    if self.pub_thread is None:\n",
      "KeyboardInterrupt\n"
     ]
    },
    {
     "ename": "KeyboardInterrupt",
     "evalue": "",
     "output_type": "error",
     "traceback": [
      "\u001b[1;31m---------------------------------------------------------------------------\u001b[0m",
      "\u001b[1;31mKeyboardInterrupt\u001b[0m                         Traceback (most recent call last)",
      "\u001b[1;32m~\\Anaconda3\\lib\\site-packages\\ipykernel\\iostream.py\u001b[0m in \u001b[0;36mwrite\u001b[1;34m(self, string)\u001b[0m\n\u001b[0;32m    350\u001b[0m             \u001b[0mis_child\u001b[0m \u001b[1;33m=\u001b[0m \u001b[1;33m(\u001b[0m\u001b[1;32mnot\u001b[0m \u001b[0mself\u001b[0m\u001b[1;33m.\u001b[0m\u001b[0m_is_master_process\u001b[0m\u001b[1;33m(\u001b[0m\u001b[1;33m)\u001b[0m\u001b[1;33m)\u001b[0m\u001b[1;33m\u001b[0m\u001b[0m\n\u001b[0;32m    351\u001b[0m             \u001b[1;31m# only touch the buffer in the IO thread to avoid races\u001b[0m\u001b[1;33m\u001b[0m\u001b[1;33m\u001b[0m\u001b[0m\n\u001b[1;32m--> 352\u001b[1;33m             \u001b[0mself\u001b[0m\u001b[1;33m.\u001b[0m\u001b[0mpub_thread\u001b[0m\u001b[1;33m.\u001b[0m\u001b[0mschedule\u001b[0m\u001b[1;33m(\u001b[0m\u001b[1;32mlambda\u001b[0m \u001b[1;33m:\u001b[0m \u001b[0mself\u001b[0m\u001b[1;33m.\u001b[0m\u001b[0m_buffer\u001b[0m\u001b[1;33m.\u001b[0m\u001b[0mwrite\u001b[0m\u001b[1;33m(\u001b[0m\u001b[0mstring\u001b[0m\u001b[1;33m)\u001b[0m\u001b[1;33m)\u001b[0m\u001b[1;33m\u001b[0m\u001b[0m\n\u001b[0m\u001b[0;32m    353\u001b[0m             \u001b[1;32mif\u001b[0m \u001b[0mis_child\u001b[0m\u001b[1;33m:\u001b[0m\u001b[1;33m\u001b[0m\u001b[0m\n\u001b[0;32m    354\u001b[0m                 \u001b[1;31m# newlines imply flush in subprocesses\u001b[0m\u001b[1;33m\u001b[0m\u001b[1;33m\u001b[0m\u001b[0m\n",
      "\u001b[1;32m~\\Anaconda3\\lib\\site-packages\\ipykernel\\iostream.py\u001b[0m in \u001b[0;36mschedule\u001b[1;34m(self, f)\u001b[0m\n\u001b[0;32m    188\u001b[0m                 \u001b[0mevent_id\u001b[0m \u001b[1;33m=\u001b[0m \u001b[0mos\u001b[0m\u001b[1;33m.\u001b[0m\u001b[0murandom\u001b[0m\u001b[1;33m(\u001b[0m\u001b[1;36m16\u001b[0m\u001b[1;33m)\u001b[0m\u001b[1;33m\u001b[0m\u001b[0m\n\u001b[0;32m    189\u001b[0m             \u001b[0mself\u001b[0m\u001b[1;33m.\u001b[0m\u001b[0m_events\u001b[0m\u001b[1;33m[\u001b[0m\u001b[0mevent_id\u001b[0m\u001b[1;33m]\u001b[0m \u001b[1;33m=\u001b[0m \u001b[0mf\u001b[0m\u001b[1;33m\u001b[0m\u001b[0m\n\u001b[1;32m--> 190\u001b[1;33m             \u001b[0mself\u001b[0m\u001b[1;33m.\u001b[0m\u001b[0m_event_pipe\u001b[0m\u001b[1;33m.\u001b[0m\u001b[0msend\u001b[0m\u001b[1;33m(\u001b[0m\u001b[0mevent_id\u001b[0m\u001b[1;33m)\u001b[0m\u001b[1;33m\u001b[0m\u001b[0m\n\u001b[0m\u001b[0;32m    191\u001b[0m         \u001b[1;32melse\u001b[0m\u001b[1;33m:\u001b[0m\u001b[1;33m\u001b[0m\u001b[0m\n\u001b[0;32m    192\u001b[0m             \u001b[0mf\u001b[0m\u001b[1;33m(\u001b[0m\u001b[1;33m)\u001b[0m\u001b[1;33m\u001b[0m\u001b[0m\n",
      "\u001b[1;32mzmq/backend/cython/socket.pyx\u001b[0m in \u001b[0;36mzmq.backend.cython.socket.Socket.send (zmq\\backend\\cython\\socket.c:7305)\u001b[1;34m()\u001b[0m\n",
      "\u001b[1;32mzmq/backend/cython/socket.pyx\u001b[0m in \u001b[0;36mzmq.backend.cython.socket.Socket.send (zmq\\backend\\cython\\socket.c:7048)\u001b[1;34m()\u001b[0m\n",
      "\u001b[1;32mzmq/backend/cython/socket.pyx\u001b[0m in \u001b[0;36mzmq.backend.cython.socket._send_copy (zmq\\backend\\cython\\socket.c:2920)\u001b[1;34m()\u001b[0m\n",
      "\u001b[1;32m~\\Anaconda3\\lib\\site-packages\\zmq\\backend\\cython\\checkrc.pxd\u001b[0m in \u001b[0;36mzmq.backend.cython.checkrc._check_rc (zmq\\backend\\cython\\socket.c:9621)\u001b[1;34m()\u001b[0m\n",
      "\u001b[1;31mKeyboardInterrupt\u001b[0m: "
     ]
    },
    {
     "name": "stderr",
     "output_type": "stream",
     "text": [
      "Exception ignored in: 'gurobipy.logcallbackstub'\n",
      "Traceback (most recent call last):\n",
      "  File \"C:\\Users\\Equipo\\Anaconda3\\lib\\site-packages\\ipykernel\\iostream.py\", line 352, in write\n",
      "    self.pub_thread.schedule(lambda : self._buffer.write(string))\n",
      "  File \"C:\\Users\\Equipo\\Anaconda3\\lib\\site-packages\\ipykernel\\iostream.py\", line 190, in schedule\n",
      "    self._event_pipe.send(event_id)\n",
      "  File \"zmq/backend/cython/socket.pyx\", line 636, in zmq.backend.cython.socket.Socket.send (zmq\\backend\\cython\\socket.c:7305)\n",
      "  File \"zmq/backend/cython/socket.pyx\", line 683, in zmq.backend.cython.socket.Socket.send (zmq\\backend\\cython\\socket.c:7048)\n",
      "  File \"zmq/backend/cython/socket.pyx\", line 201, in zmq.backend.cython.socket._send_copy (zmq\\backend\\cython\\socket.c:2920)\n",
      "  File \"zmq/backend/cython/checkrc.pxd\", line 12, in zmq.backend.cython.checkrc._check_rc (zmq\\backend\\cython\\socket.c:9621)\n",
      "    "
     ]
    },
    {
     "name": "stdout",
     "output_type": "stream",
     "text": [
      "   12285    2.9263918e+09   0.000000e+00   2.816000e+08    231s\n",
      "   12902    2.8329621e+09   0.000000e+00   1.589964e+08    238s\n",
      "   13229    2.7879532e+09   0.000000e+00   7.921782e+07    241s\n",
      "   13883    2.6861334e+09   0.000000e+00   4.081214e+07    248s\n",
      "   14210    2.6390730e+09   0.000000e+00   2.548273e+07    251s\n",
      "   14864    2.5670258e+09   0.000000e+00   1.292026e+07    255s\n"
     ]
    },
    {
     "name": "stderr",
     "output_type": "stream",
     "text": [
      "PyErr_CheckSignals()\n",
      "KeyboardInterrupt\n"
     ]
    },
    {
     "ename": "KeyboardInterrupt",
     "evalue": "",
     "output_type": "error",
     "traceback": [
      "\u001b[1;31m---------------------------------------------------------------------------\u001b[0m",
      "\u001b[1;31mKeyboardInterrupt\u001b[0m                         Traceback (most recent call last)",
      "\u001b[1;32m~\\Anaconda3\\lib\\site-packages\\ipykernel\\iostream.py\u001b[0m in \u001b[0;36mwrite\u001b[1;34m(self, string)\u001b[0m\n\u001b[0;32m    341\u001b[0m \u001b[1;33m\u001b[0m\u001b[0m\n\u001b[0;32m    342\u001b[0m     \u001b[1;32mdef\u001b[0m \u001b[0mwrite\u001b[0m\u001b[1;33m(\u001b[0m\u001b[0mself\u001b[0m\u001b[1;33m,\u001b[0m \u001b[0mstring\u001b[0m\u001b[1;33m)\u001b[0m\u001b[1;33m:\u001b[0m\u001b[1;33m\u001b[0m\u001b[0m\n\u001b[1;32m--> 343\u001b[1;33m         \u001b[1;32mif\u001b[0m \u001b[0mself\u001b[0m\u001b[1;33m.\u001b[0m\u001b[0mpub_thread\u001b[0m \u001b[1;32mis\u001b[0m \u001b[1;32mNone\u001b[0m\u001b[1;33m:\u001b[0m\u001b[1;33m\u001b[0m\u001b[0m\n\u001b[0m\u001b[0;32m    344\u001b[0m             \u001b[1;32mraise\u001b[0m \u001b[0mValueError\u001b[0m\u001b[1;33m(\u001b[0m\u001b[1;34m'I/O operation on closed file'\u001b[0m\u001b[1;33m)\u001b[0m\u001b[1;33m\u001b[0m\u001b[0m\n\u001b[0;32m    345\u001b[0m         \u001b[1;32melse\u001b[0m\u001b[1;33m:\u001b[0m\u001b[1;33m\u001b[0m\u001b[0m\n",
      "\u001b[1;31mKeyboardInterrupt\u001b[0m: "
     ]
    },
    {
     "name": "stderr",
     "output_type": "stream",
     "text": [
      "Exception ignored in: 'gurobipy.logcallbackstub'\n"
     ]
    },
    {
     "name": "stdout",
     "output_type": "stream",
     "text": [
      "   16172    2.4458905e+09   0.000000e+00   9.091184e+06    265s\n"
     ]
    },
    {
     "name": "stderr",
     "output_type": "stream",
     "text": [
      "Traceback (most recent call last):\n",
      "  File \"C:\\Users\\Equipo\\Anaconda3\\lib\\site-packages\\ipykernel\\iostream.py\", line 343, in write\n",
      "    if self.pub_thread is None:\n",
      "KeyboardInterrupt\n"
     ]
    },
    {
     "ename": "KeyboardInterrupt",
     "evalue": "",
     "output_type": "error",
     "traceback": [
      "\u001b[1;31m---------------------------------------------------------------------------\u001b[0m",
      "\u001b[1;31mKeyboardInterrupt\u001b[0m                         Traceback (most recent call last)",
      "\u001b[1;32m~\\Anaconda3\\lib\\site-packages\\ipykernel\\iostream.py\u001b[0m in \u001b[0;36mflush\u001b[1;34m(self)\u001b[0m\n\u001b[0;32m    319\u001b[0m             \u001b[0mevt\u001b[0m \u001b[1;33m=\u001b[0m \u001b[0mthreading\u001b[0m\u001b[1;33m.\u001b[0m\u001b[0mEvent\u001b[0m\u001b[1;33m(\u001b[0m\u001b[1;33m)\u001b[0m\u001b[1;33m\u001b[0m\u001b[0m\n\u001b[0;32m    320\u001b[0m             \u001b[0mself\u001b[0m\u001b[1;33m.\u001b[0m\u001b[0mpub_thread\u001b[0m\u001b[1;33m.\u001b[0m\u001b[0mschedule\u001b[0m\u001b[1;33m(\u001b[0m\u001b[0mevt\u001b[0m\u001b[1;33m.\u001b[0m\u001b[0mset\u001b[0m\u001b[1;33m)\u001b[0m\u001b[1;33m\u001b[0m\u001b[0m\n\u001b[1;32m--> 321\u001b[1;33m             \u001b[0mevt\u001b[0m\u001b[1;33m.\u001b[0m\u001b[0mwait\u001b[0m\u001b[1;33m(\u001b[0m\u001b[1;33m)\u001b[0m\u001b[1;33m\u001b[0m\u001b[0m\n\u001b[0m\u001b[0;32m    322\u001b[0m         \u001b[1;32melse\u001b[0m\u001b[1;33m:\u001b[0m\u001b[1;33m\u001b[0m\u001b[0m\n\u001b[0;32m    323\u001b[0m             \u001b[0mself\u001b[0m\u001b[1;33m.\u001b[0m\u001b[0m_flush\u001b[0m\u001b[1;33m(\u001b[0m\u001b[1;33m)\u001b[0m\u001b[1;33m\u001b[0m\u001b[0m\n",
      "\u001b[1;32m~\\Anaconda3\\lib\\threading.py\u001b[0m in \u001b[0;36mwait\u001b[1;34m(self, timeout)\u001b[0m\n\u001b[0;32m    549\u001b[0m             \u001b[0msignaled\u001b[0m \u001b[1;33m=\u001b[0m \u001b[0mself\u001b[0m\u001b[1;33m.\u001b[0m\u001b[0m_flag\u001b[0m\u001b[1;33m\u001b[0m\u001b[0m\n\u001b[0;32m    550\u001b[0m             \u001b[1;32mif\u001b[0m \u001b[1;32mnot\u001b[0m \u001b[0msignaled\u001b[0m\u001b[1;33m:\u001b[0m\u001b[1;33m\u001b[0m\u001b[0m\n\u001b[1;32m--> 551\u001b[1;33m                 \u001b[0msignaled\u001b[0m \u001b[1;33m=\u001b[0m \u001b[0mself\u001b[0m\u001b[1;33m.\u001b[0m\u001b[0m_cond\u001b[0m\u001b[1;33m.\u001b[0m\u001b[0mwait\u001b[0m\u001b[1;33m(\u001b[0m\u001b[0mtimeout\u001b[0m\u001b[1;33m)\u001b[0m\u001b[1;33m\u001b[0m\u001b[0m\n\u001b[0m\u001b[0;32m    552\u001b[0m             \u001b[1;32mreturn\u001b[0m \u001b[0msignaled\u001b[0m\u001b[1;33m\u001b[0m\u001b[0m\n\u001b[0;32m    553\u001b[0m \u001b[1;33m\u001b[0m\u001b[0m\n",
      "\u001b[1;32m~\\Anaconda3\\lib\\threading.py\u001b[0m in \u001b[0;36mwait\u001b[1;34m(self, timeout)\u001b[0m\n\u001b[0;32m    293\u001b[0m         \u001b[1;32mtry\u001b[0m\u001b[1;33m:\u001b[0m    \u001b[1;31m# restore state no matter what (e.g., KeyboardInterrupt)\u001b[0m\u001b[1;33m\u001b[0m\u001b[0m\n\u001b[0;32m    294\u001b[0m             \u001b[1;32mif\u001b[0m \u001b[0mtimeout\u001b[0m \u001b[1;32mis\u001b[0m \u001b[1;32mNone\u001b[0m\u001b[1;33m:\u001b[0m\u001b[1;33m\u001b[0m\u001b[0m\n\u001b[1;32m--> 295\u001b[1;33m                 \u001b[0mwaiter\u001b[0m\u001b[1;33m.\u001b[0m\u001b[0macquire\u001b[0m\u001b[1;33m(\u001b[0m\u001b[1;33m)\u001b[0m\u001b[1;33m\u001b[0m\u001b[0m\n\u001b[0m\u001b[0;32m    296\u001b[0m                 \u001b[0mgotit\u001b[0m \u001b[1;33m=\u001b[0m \u001b[1;32mTrue\u001b[0m\u001b[1;33m\u001b[0m\u001b[0m\n\u001b[0;32m    297\u001b[0m             \u001b[1;32melse\u001b[0m\u001b[1;33m:\u001b[0m\u001b[1;33m\u001b[0m\u001b[0m\n",
      "\u001b[1;31mKeyboardInterrupt\u001b[0m: "
     ]
    },
    {
     "name": "stderr",
     "output_type": "stream",
     "text": [
      "Exception ignored in: 'gurobipy.logcallbackstub'\n",
      "Traceback (most recent call last):\n",
      "  File \"C:\\Users\\Equipo\\Anaconda3\\lib\\site-packages\\ipykernel\\iostream.py\", line 321, in flush\n",
      "    evt.wait()\n",
      "  File \"C:\\Users\\Equipo\\Anaconda3\\lib\\threading.py\", line 551, in wait\n",
      "    "
     ]
    }
   ],
   "source": [
    "m.optimize()"
   ]
  },
  {
   "cell_type": "code",
   "execution_count": 63,
   "metadata": {},
   "outputs": [
    {
     "name": "stdout",
     "output_type": "stream",
     "text": [
      "406\n",
      "366\n",
      "287\n",
      "0\n",
      "0\n",
      "0\n"
     ]
    }
   ],
   "source": [
    "for t in range(nperiods):\n",
    "    blocks_id_schedule = [i for i in blocks_id if x_pcpsp[i,t].x==1]\n",
    "    print(len(blocks_id_schedule))"
   ]
  }
 ],
 "metadata": {
  "kernelspec": {
   "display_name": "Python 3",
   "language": "python",
   "name": "python3"
  },
  "language_info": {
   "codemirror_mode": {
    "name": "ipython",
    "version": 3
   },
   "file_extension": ".py",
   "mimetype": "text/x-python",
   "name": "python",
   "nbconvert_exporter": "python",
   "pygments_lexer": "ipython3",
   "version": "3.6.3"
  }
 },
 "nbformat": 4,
 "nbformat_minor": 2
}
